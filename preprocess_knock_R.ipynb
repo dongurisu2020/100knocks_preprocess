{
 "cells": [
  {
   "cell_type": "markdown",
   "metadata": {},
   "source": [
    "# データサイエンス100本ノック（構造化データ加工編） - R"
   ]
  },
  {
   "cell_type": "markdown",
   "metadata": {},
   "source": [
    "## はじめに\n",
    "- 初めに以下のセルを実行してください\n",
    "- 必要なライブラリのインポートとデータベース（PostgreSQL）からのデータ読み込みを行います\n",
    "- 利用が想定されるライブラリは以下セルでインポートしています\n",
    "- その他利用したいライブラリがあれば適宜インストールしてください（!マークに続けてOSコマンドを入力することで、任意のubuntu Linuxコマンドが入力可能）\n",
    "- 名前、住所等はダミーデータであり、実在するものではありません"
   ]
  },
  {
   "cell_type": "code",
   "execution_count": 1,
   "metadata": {},
   "outputs": [
    {
     "name": "stderr",
     "output_type": "stream",
     "text": [
      "Loading required package: RPostgreSQL\n",
      "\n",
      "Loading required package: DBI\n",
      "\n",
      "Loading required package: tidyr\n",
      "\n",
      "Loading required package: dplyr\n",
      "\n",
      "\n",
      "Attaching package: ‘dplyr’\n",
      "\n",
      "\n",
      "The following objects are masked from ‘package:stats’:\n",
      "\n",
      "    filter, lag\n",
      "\n",
      "\n",
      "The following objects are masked from ‘package:base’:\n",
      "\n",
      "    intersect, setdiff, setequal, union\n",
      "\n",
      "\n",
      "Loading required package: stringr\n",
      "\n",
      "Loading required package: caret\n",
      "\n",
      "Loading required package: lattice\n",
      "\n",
      "Loading required package: ggplot2\n",
      "\n",
      "Loading required package: lubridate\n",
      "\n",
      "\n",
      "Attaching package: ‘lubridate’\n",
      "\n",
      "\n",
      "The following objects are masked from ‘package:base’:\n",
      "\n",
      "    date, intersect, setdiff, union\n",
      "\n",
      "\n",
      "Loading required package: rsample\n",
      "\n",
      "Loading required package: unbalanced\n",
      "\n",
      "Warning message in library(package, lib.loc = lib.loc, character.only = TRUE, logical.return = TRUE, :\n",
      "“there is no package called ‘unbalanced’”\n"
     ]
    }
   ],
   "source": [
    "require('RPostgreSQL')\n",
    "require('tidyr')\n",
    "require('dplyr')\n",
    "require('stringr')\n",
    "require('caret')\n",
    "require('lubridate')\n",
    "require('rsample')\n",
    "require('unbalanced')\n",
    "\n",
    "host <- 'db'\n",
    "port <- Sys.getenv()[\"PG_PORT\"]\n",
    "dbname <- Sys.getenv()[\"PG_DATABASE\"]\n",
    "user <- Sys.getenv()[\"PG_USER\"]\n",
    "password <- Sys.getenv()[\"PG_PASSWORD\"]\n",
    "\n",
    "con <- dbConnect(PostgreSQL(), host=host, port=port, dbname=dbname, user=user, password=password)\n",
    "df_customer <- dbGetQuery(con,\"SELECT * FROM customer\")\n",
    "df_category <- dbGetQuery(con,\"SELECT * FROM category\")\n",
    "df_product <- dbGetQuery(con,\"SELECT * FROM product\")\n",
    "df_receipt <- dbGetQuery(con,\"SELECT * FROM receipt\")\n",
    "df_store <- dbGetQuery(con,\"SELECT * FROM store\")\n",
    "df_geocode <- dbGetQuery(con,\"SELECT * FROM geocode\")"
   ]
  },
  {
   "cell_type": "markdown",
   "metadata": {},
   "source": [
    "# 演習問題"
   ]
  },
  {
   "cell_type": "markdown",
   "metadata": {},
   "source": [
    "---\n",
    "> R-001: レシート明細データフレーム（df_receipt）から全項目の先頭10件を表示し、どのようなデータを保有しているか目視で確認せよ。"
   ]
  },
  {
   "cell_type": "code",
   "execution_count": 2,
   "metadata": {},
   "outputs": [
    {
     "data": {
      "text/html": [
       "<table class=\"dataframe\">\n",
       "<caption>A data.frame: 10 × 9</caption>\n",
       "<thead>\n",
       "\t<tr><th></th><th scope=col>sales_ymd</th><th scope=col>sales_epoch</th><th scope=col>store_cd</th><th scope=col>receipt_no</th><th scope=col>receipt_sub_no</th><th scope=col>customer_id</th><th scope=col>product_cd</th><th scope=col>quantity</th><th scope=col>amount</th></tr>\n",
       "\t<tr><th></th><th scope=col>&lt;int&gt;</th><th scope=col>&lt;int&gt;</th><th scope=col>&lt;chr&gt;</th><th scope=col>&lt;int&gt;</th><th scope=col>&lt;int&gt;</th><th scope=col>&lt;chr&gt;</th><th scope=col>&lt;chr&gt;</th><th scope=col>&lt;int&gt;</th><th scope=col>&lt;int&gt;</th></tr>\n",
       "</thead>\n",
       "<tbody>\n",
       "\t<tr><th scope=row>1</th><td>20181103</td><td>1541203200</td><td>S14006</td><td> 112</td><td>1</td><td>CS006214000001</td><td>P070305012</td><td>1</td><td>158</td></tr>\n",
       "\t<tr><th scope=row>2</th><td>20181118</td><td>1542499200</td><td>S13008</td><td>1132</td><td>2</td><td>CS008415000097</td><td>P070701017</td><td>1</td><td> 81</td></tr>\n",
       "\t<tr><th scope=row>3</th><td>20170712</td><td>1499817600</td><td>S14028</td><td>1102</td><td>1</td><td>CS028414000014</td><td>P060101005</td><td>1</td><td>170</td></tr>\n",
       "\t<tr><th scope=row>4</th><td>20190205</td><td>1549324800</td><td>S14042</td><td>1132</td><td>1</td><td>ZZ000000000000</td><td>P050301001</td><td>1</td><td> 25</td></tr>\n",
       "\t<tr><th scope=row>5</th><td>20180821</td><td>1534809600</td><td>S14025</td><td>1102</td><td>2</td><td>CS025415000050</td><td>P060102007</td><td>1</td><td> 90</td></tr>\n",
       "\t<tr><th scope=row>6</th><td>20190605</td><td>1559692800</td><td>S13003</td><td>1112</td><td>1</td><td>CS003515000195</td><td>P050102002</td><td>1</td><td>138</td></tr>\n",
       "\t<tr><th scope=row>7</th><td>20181205</td><td>1543968000</td><td>S14024</td><td>1102</td><td>2</td><td>CS024514000042</td><td>P080101005</td><td>1</td><td> 30</td></tr>\n",
       "\t<tr><th scope=row>8</th><td>20190922</td><td>1569110400</td><td>S14040</td><td>1102</td><td>1</td><td>CS040415000178</td><td>P070501004</td><td>1</td><td>128</td></tr>\n",
       "\t<tr><th scope=row>9</th><td>20170504</td><td>1493856000</td><td>S13020</td><td>1112</td><td>2</td><td>ZZ000000000000</td><td>P071302010</td><td>1</td><td>770</td></tr>\n",
       "\t<tr><th scope=row>10</th><td>20191010</td><td>1570665600</td><td>S14027</td><td>1102</td><td>1</td><td>CS027514000015</td><td>P071101003</td><td>1</td><td>680</td></tr>\n",
       "</tbody>\n",
       "</table>\n"
      ],
      "text/latex": [
       "A data.frame: 10 × 9\n",
       "\\begin{tabular}{r|lllllllll}\n",
       "  & sales\\_ymd & sales\\_epoch & store\\_cd & receipt\\_no & receipt\\_sub\\_no & customer\\_id & product\\_cd & quantity & amount\\\\\n",
       "  & <int> & <int> & <chr> & <int> & <int> & <chr> & <chr> & <int> & <int>\\\\\n",
       "\\hline\n",
       "\t1 & 20181103 & 1541203200 & S14006 &  112 & 1 & CS006214000001 & P070305012 & 1 & 158\\\\\n",
       "\t2 & 20181118 & 1542499200 & S13008 & 1132 & 2 & CS008415000097 & P070701017 & 1 &  81\\\\\n",
       "\t3 & 20170712 & 1499817600 & S14028 & 1102 & 1 & CS028414000014 & P060101005 & 1 & 170\\\\\n",
       "\t4 & 20190205 & 1549324800 & S14042 & 1132 & 1 & ZZ000000000000 & P050301001 & 1 &  25\\\\\n",
       "\t5 & 20180821 & 1534809600 & S14025 & 1102 & 2 & CS025415000050 & P060102007 & 1 &  90\\\\\n",
       "\t6 & 20190605 & 1559692800 & S13003 & 1112 & 1 & CS003515000195 & P050102002 & 1 & 138\\\\\n",
       "\t7 & 20181205 & 1543968000 & S14024 & 1102 & 2 & CS024514000042 & P080101005 & 1 &  30\\\\\n",
       "\t8 & 20190922 & 1569110400 & S14040 & 1102 & 1 & CS040415000178 & P070501004 & 1 & 128\\\\\n",
       "\t9 & 20170504 & 1493856000 & S13020 & 1112 & 2 & ZZ000000000000 & P071302010 & 1 & 770\\\\\n",
       "\t10 & 20191010 & 1570665600 & S14027 & 1102 & 1 & CS027514000015 & P071101003 & 1 & 680\\\\\n",
       "\\end{tabular}\n"
      ],
      "text/markdown": [
       "\n",
       "A data.frame: 10 × 9\n",
       "\n",
       "| <!--/--> | sales_ymd &lt;int&gt; | sales_epoch &lt;int&gt; | store_cd &lt;chr&gt; | receipt_no &lt;int&gt; | receipt_sub_no &lt;int&gt; | customer_id &lt;chr&gt; | product_cd &lt;chr&gt; | quantity &lt;int&gt; | amount &lt;int&gt; |\n",
       "|---|---|---|---|---|---|---|---|---|---|\n",
       "| 1 | 20181103 | 1541203200 | S14006 |  112 | 1 | CS006214000001 | P070305012 | 1 | 158 |\n",
       "| 2 | 20181118 | 1542499200 | S13008 | 1132 | 2 | CS008415000097 | P070701017 | 1 |  81 |\n",
       "| 3 | 20170712 | 1499817600 | S14028 | 1102 | 1 | CS028414000014 | P060101005 | 1 | 170 |\n",
       "| 4 | 20190205 | 1549324800 | S14042 | 1132 | 1 | ZZ000000000000 | P050301001 | 1 |  25 |\n",
       "| 5 | 20180821 | 1534809600 | S14025 | 1102 | 2 | CS025415000050 | P060102007 | 1 |  90 |\n",
       "| 6 | 20190605 | 1559692800 | S13003 | 1112 | 1 | CS003515000195 | P050102002 | 1 | 138 |\n",
       "| 7 | 20181205 | 1543968000 | S14024 | 1102 | 2 | CS024514000042 | P080101005 | 1 |  30 |\n",
       "| 8 | 20190922 | 1569110400 | S14040 | 1102 | 1 | CS040415000178 | P070501004 | 1 | 128 |\n",
       "| 9 | 20170504 | 1493856000 | S13020 | 1112 | 2 | ZZ000000000000 | P071302010 | 1 | 770 |\n",
       "| 10 | 20191010 | 1570665600 | S14027 | 1102 | 1 | CS027514000015 | P071101003 | 1 | 680 |\n",
       "\n"
      ],
      "text/plain": [
       "   sales_ymd sales_epoch store_cd receipt_no receipt_sub_no customer_id   \n",
       "1  20181103  1541203200  S14006    112       1              CS006214000001\n",
       "2  20181118  1542499200  S13008   1132       2              CS008415000097\n",
       "3  20170712  1499817600  S14028   1102       1              CS028414000014\n",
       "4  20190205  1549324800  S14042   1132       1              ZZ000000000000\n",
       "5  20180821  1534809600  S14025   1102       2              CS025415000050\n",
       "6  20190605  1559692800  S13003   1112       1              CS003515000195\n",
       "7  20181205  1543968000  S14024   1102       2              CS024514000042\n",
       "8  20190922  1569110400  S14040   1102       1              CS040415000178\n",
       "9  20170504  1493856000  S13020   1112       2              ZZ000000000000\n",
       "10 20191010  1570665600  S14027   1102       1              CS027514000015\n",
       "   product_cd quantity amount\n",
       "1  P070305012 1        158   \n",
       "2  P070701017 1         81   \n",
       "3  P060101005 1        170   \n",
       "4  P050301001 1         25   \n",
       "5  P060102007 1         90   \n",
       "6  P050102002 1        138   \n",
       "7  P080101005 1         30   \n",
       "8  P070501004 1        128   \n",
       "9  P071302010 1        770   \n",
       "10 P071101003 1        680   "
      ]
     },
     "metadata": {},
     "output_type": "display_data"
    }
   ],
   "source": [
    "head(df_receipt, n=10)"
   ]
  },
  {
   "cell_type": "markdown",
   "metadata": {},
   "source": [
    "---\n",
    "> R-002: レシート明細データフレーム（df_receipt）から売上日（sales_ymd）、顧客ID（customer_id）、商品コード（product_cd）、売上金額（amount）の順に列を指定し、10件表示させよ。"
   ]
  },
  {
   "cell_type": "code",
   "execution_count": 4,
   "metadata": {},
   "outputs": [
    {
     "data": {
      "text/html": [
       "<table class=\"dataframe\">\n",
       "<caption>A data.frame: 10 × 4</caption>\n",
       "<thead>\n",
       "\t<tr><th></th><th scope=col>sales_ymd</th><th scope=col>customer_id</th><th scope=col>product_cd</th><th scope=col>amount</th></tr>\n",
       "\t<tr><th></th><th scope=col>&lt;int&gt;</th><th scope=col>&lt;chr&gt;</th><th scope=col>&lt;chr&gt;</th><th scope=col>&lt;int&gt;</th></tr>\n",
       "</thead>\n",
       "<tbody>\n",
       "\t<tr><th scope=row>1</th><td>20181103</td><td>CS006214000001</td><td>P070305012</td><td>158</td></tr>\n",
       "\t<tr><th scope=row>2</th><td>20181118</td><td>CS008415000097</td><td>P070701017</td><td> 81</td></tr>\n",
       "\t<tr><th scope=row>3</th><td>20170712</td><td>CS028414000014</td><td>P060101005</td><td>170</td></tr>\n",
       "\t<tr><th scope=row>4</th><td>20190205</td><td>ZZ000000000000</td><td>P050301001</td><td> 25</td></tr>\n",
       "\t<tr><th scope=row>5</th><td>20180821</td><td>CS025415000050</td><td>P060102007</td><td> 90</td></tr>\n",
       "\t<tr><th scope=row>6</th><td>20190605</td><td>CS003515000195</td><td>P050102002</td><td>138</td></tr>\n",
       "\t<tr><th scope=row>7</th><td>20181205</td><td>CS024514000042</td><td>P080101005</td><td> 30</td></tr>\n",
       "\t<tr><th scope=row>8</th><td>20190922</td><td>CS040415000178</td><td>P070501004</td><td>128</td></tr>\n",
       "\t<tr><th scope=row>9</th><td>20170504</td><td>ZZ000000000000</td><td>P071302010</td><td>770</td></tr>\n",
       "\t<tr><th scope=row>10</th><td>20191010</td><td>CS027514000015</td><td>P071101003</td><td>680</td></tr>\n",
       "</tbody>\n",
       "</table>\n"
      ],
      "text/latex": [
       "A data.frame: 10 × 4\n",
       "\\begin{tabular}{r|llll}\n",
       "  & sales\\_ymd & customer\\_id & product\\_cd & amount\\\\\n",
       "  & <int> & <chr> & <chr> & <int>\\\\\n",
       "\\hline\n",
       "\t1 & 20181103 & CS006214000001 & P070305012 & 158\\\\\n",
       "\t2 & 20181118 & CS008415000097 & P070701017 &  81\\\\\n",
       "\t3 & 20170712 & CS028414000014 & P060101005 & 170\\\\\n",
       "\t4 & 20190205 & ZZ000000000000 & P050301001 &  25\\\\\n",
       "\t5 & 20180821 & CS025415000050 & P060102007 &  90\\\\\n",
       "\t6 & 20190605 & CS003515000195 & P050102002 & 138\\\\\n",
       "\t7 & 20181205 & CS024514000042 & P080101005 &  30\\\\\n",
       "\t8 & 20190922 & CS040415000178 & P070501004 & 128\\\\\n",
       "\t9 & 20170504 & ZZ000000000000 & P071302010 & 770\\\\\n",
       "\t10 & 20191010 & CS027514000015 & P071101003 & 680\\\\\n",
       "\\end{tabular}\n"
      ],
      "text/markdown": [
       "\n",
       "A data.frame: 10 × 4\n",
       "\n",
       "| <!--/--> | sales_ymd &lt;int&gt; | customer_id &lt;chr&gt; | product_cd &lt;chr&gt; | amount &lt;int&gt; |\n",
       "|---|---|---|---|---|\n",
       "| 1 | 20181103 | CS006214000001 | P070305012 | 158 |\n",
       "| 2 | 20181118 | CS008415000097 | P070701017 |  81 |\n",
       "| 3 | 20170712 | CS028414000014 | P060101005 | 170 |\n",
       "| 4 | 20190205 | ZZ000000000000 | P050301001 |  25 |\n",
       "| 5 | 20180821 | CS025415000050 | P060102007 |  90 |\n",
       "| 6 | 20190605 | CS003515000195 | P050102002 | 138 |\n",
       "| 7 | 20181205 | CS024514000042 | P080101005 |  30 |\n",
       "| 8 | 20190922 | CS040415000178 | P070501004 | 128 |\n",
       "| 9 | 20170504 | ZZ000000000000 | P071302010 | 770 |\n",
       "| 10 | 20191010 | CS027514000015 | P071101003 | 680 |\n",
       "\n"
      ],
      "text/plain": [
       "   sales_ymd customer_id    product_cd amount\n",
       "1  20181103  CS006214000001 P070305012 158   \n",
       "2  20181118  CS008415000097 P070701017  81   \n",
       "3  20170712  CS028414000014 P060101005 170   \n",
       "4  20190205  ZZ000000000000 P050301001  25   \n",
       "5  20180821  CS025415000050 P060102007  90   \n",
       "6  20190605  CS003515000195 P050102002 138   \n",
       "7  20181205  CS024514000042 P080101005  30   \n",
       "8  20190922  CS040415000178 P070501004 128   \n",
       "9  20170504  ZZ000000000000 P071302010 770   \n",
       "10 20191010  CS027514000015 P071101003 680   "
      ]
     },
     "metadata": {},
     "output_type": "display_data"
    }
   ],
   "source": [
    "head(df_receipt[c(\"sales_ymd\", \"customer_id\", \"product_cd\", \"amount\")], n=10)"
   ]
  },
  {
   "cell_type": "markdown",
   "metadata": {},
   "source": [
    "---\n",
    "> R-003: レシート明細データフレーム（df_receipt）から売上日（sales_ymd）、顧客ID（customer_id）、商品コード（product_cd）、売上金額（amount）の順に列を指定し、10件表示させよ。ただし、sales_ymdはsales_dateに項目名を変更しながら抽出すること。"
   ]
  },
  {
   "cell_type": "code",
   "execution_count": 5,
   "metadata": {},
   "outputs": [
    {
     "data": {
      "text/html": [
       "<table class=\"dataframe\">\n",
       "<caption>A data.frame: 10 × 4</caption>\n",
       "<thead>\n",
       "\t<tr><th></th><th scope=col>sales_date</th><th scope=col>customer_id</th><th scope=col>product_cd</th><th scope=col>amount</th></tr>\n",
       "\t<tr><th></th><th scope=col>&lt;int&gt;</th><th scope=col>&lt;chr&gt;</th><th scope=col>&lt;chr&gt;</th><th scope=col>&lt;int&gt;</th></tr>\n",
       "</thead>\n",
       "<tbody>\n",
       "\t<tr><th scope=row>1</th><td>20181103</td><td>CS006214000001</td><td>P070305012</td><td>158</td></tr>\n",
       "\t<tr><th scope=row>2</th><td>20181118</td><td>CS008415000097</td><td>P070701017</td><td> 81</td></tr>\n",
       "\t<tr><th scope=row>3</th><td>20170712</td><td>CS028414000014</td><td>P060101005</td><td>170</td></tr>\n",
       "\t<tr><th scope=row>4</th><td>20190205</td><td>ZZ000000000000</td><td>P050301001</td><td> 25</td></tr>\n",
       "\t<tr><th scope=row>5</th><td>20180821</td><td>CS025415000050</td><td>P060102007</td><td> 90</td></tr>\n",
       "\t<tr><th scope=row>6</th><td>20190605</td><td>CS003515000195</td><td>P050102002</td><td>138</td></tr>\n",
       "\t<tr><th scope=row>7</th><td>20181205</td><td>CS024514000042</td><td>P080101005</td><td> 30</td></tr>\n",
       "\t<tr><th scope=row>8</th><td>20190922</td><td>CS040415000178</td><td>P070501004</td><td>128</td></tr>\n",
       "\t<tr><th scope=row>9</th><td>20170504</td><td>ZZ000000000000</td><td>P071302010</td><td>770</td></tr>\n",
       "\t<tr><th scope=row>10</th><td>20191010</td><td>CS027514000015</td><td>P071101003</td><td>680</td></tr>\n",
       "</tbody>\n",
       "</table>\n"
      ],
      "text/latex": [
       "A data.frame: 10 × 4\n",
       "\\begin{tabular}{r|llll}\n",
       "  & sales\\_date & customer\\_id & product\\_cd & amount\\\\\n",
       "  & <int> & <chr> & <chr> & <int>\\\\\n",
       "\\hline\n",
       "\t1 & 20181103 & CS006214000001 & P070305012 & 158\\\\\n",
       "\t2 & 20181118 & CS008415000097 & P070701017 &  81\\\\\n",
       "\t3 & 20170712 & CS028414000014 & P060101005 & 170\\\\\n",
       "\t4 & 20190205 & ZZ000000000000 & P050301001 &  25\\\\\n",
       "\t5 & 20180821 & CS025415000050 & P060102007 &  90\\\\\n",
       "\t6 & 20190605 & CS003515000195 & P050102002 & 138\\\\\n",
       "\t7 & 20181205 & CS024514000042 & P080101005 &  30\\\\\n",
       "\t8 & 20190922 & CS040415000178 & P070501004 & 128\\\\\n",
       "\t9 & 20170504 & ZZ000000000000 & P071302010 & 770\\\\\n",
       "\t10 & 20191010 & CS027514000015 & P071101003 & 680\\\\\n",
       "\\end{tabular}\n"
      ],
      "text/markdown": [
       "\n",
       "A data.frame: 10 × 4\n",
       "\n",
       "| <!--/--> | sales_date &lt;int&gt; | customer_id &lt;chr&gt; | product_cd &lt;chr&gt; | amount &lt;int&gt; |\n",
       "|---|---|---|---|---|\n",
       "| 1 | 20181103 | CS006214000001 | P070305012 | 158 |\n",
       "| 2 | 20181118 | CS008415000097 | P070701017 |  81 |\n",
       "| 3 | 20170712 | CS028414000014 | P060101005 | 170 |\n",
       "| 4 | 20190205 | ZZ000000000000 | P050301001 |  25 |\n",
       "| 5 | 20180821 | CS025415000050 | P060102007 |  90 |\n",
       "| 6 | 20190605 | CS003515000195 | P050102002 | 138 |\n",
       "| 7 | 20181205 | CS024514000042 | P080101005 |  30 |\n",
       "| 8 | 20190922 | CS040415000178 | P070501004 | 128 |\n",
       "| 9 | 20170504 | ZZ000000000000 | P071302010 | 770 |\n",
       "| 10 | 20191010 | CS027514000015 | P071101003 | 680 |\n",
       "\n"
      ],
      "text/plain": [
       "   sales_date customer_id    product_cd amount\n",
       "1  20181103   CS006214000001 P070305012 158   \n",
       "2  20181118   CS008415000097 P070701017  81   \n",
       "3  20170712   CS028414000014 P060101005 170   \n",
       "4  20190205   ZZ000000000000 P050301001  25   \n",
       "5  20180821   CS025415000050 P060102007  90   \n",
       "6  20190605   CS003515000195 P050102002 138   \n",
       "7  20181205   CS024514000042 P080101005  30   \n",
       "8  20190922   CS040415000178 P070501004 128   \n",
       "9  20170504   ZZ000000000000 P071302010 770   \n",
       "10 20191010   CS027514000015 P071101003 680   "
      ]
     },
     "metadata": {},
     "output_type": "display_data"
    }
   ],
   "source": [
    "head(rename(df_receipt[c(\"sales_ymd\", \"customer_id\", \"product_cd\", \"amount\")], sales_date = sales_ymd), n=10)"
   ]
  },
  {
   "cell_type": "markdown",
   "metadata": {},
   "source": [
    "---\n",
    "> R-004: レシート明細データフレーム（df_receipt）から売上日（sales_ymd）、顧客ID（customer_id）、商品コード（product_cd）、売上金額（amount）の順に列を指定し、以下の条件を満たすデータを抽出せよ。\n",
    "> - 顧客ID（customer_id）が\"CS018205000001\""
   ]
  },
  {
   "cell_type": "code",
   "execution_count": 6,
   "metadata": {},
   "outputs": [
    {
     "data": {
      "text/html": [
       "<table class=\"dataframe\">\n",
       "<caption>A data.frame: 12 × 4</caption>\n",
       "<thead>\n",
       "\t<tr><th scope=col>sales_ymd</th><th scope=col>customer_id</th><th scope=col>product_cd</th><th scope=col>amount</th></tr>\n",
       "\t<tr><th scope=col>&lt;int&gt;</th><th scope=col>&lt;chr&gt;</th><th scope=col>&lt;chr&gt;</th><th scope=col>&lt;int&gt;</th></tr>\n",
       "</thead>\n",
       "<tbody>\n",
       "\t<tr><td>20180911</td><td>CS018205000001</td><td>P071401012</td><td>2200</td></tr>\n",
       "\t<tr><td>20180414</td><td>CS018205000001</td><td>P060104007</td><td> 600</td></tr>\n",
       "\t<tr><td>20170614</td><td>CS018205000001</td><td>P050206001</td><td> 990</td></tr>\n",
       "\t<tr><td>20170614</td><td>CS018205000001</td><td>P060702015</td><td> 108</td></tr>\n",
       "\t<tr><td>20190216</td><td>CS018205000001</td><td>P071005024</td><td> 102</td></tr>\n",
       "\t<tr><td>20180414</td><td>CS018205000001</td><td>P071101002</td><td> 278</td></tr>\n",
       "\t<tr><td>20190226</td><td>CS018205000001</td><td>P070902035</td><td> 168</td></tr>\n",
       "\t<tr><td>20190924</td><td>CS018205000001</td><td>P060805001</td><td> 495</td></tr>\n",
       "\t<tr><td>20190226</td><td>CS018205000001</td><td>P071401020</td><td>2200</td></tr>\n",
       "\t<tr><td>20180911</td><td>CS018205000001</td><td>P071401005</td><td>1100</td></tr>\n",
       "\t<tr><td>20190216</td><td>CS018205000001</td><td>P040101002</td><td> 218</td></tr>\n",
       "\t<tr><td>20190924</td><td>CS018205000001</td><td>P091503001</td><td> 280</td></tr>\n",
       "</tbody>\n",
       "</table>\n"
      ],
      "text/latex": [
       "A data.frame: 12 × 4\n",
       "\\begin{tabular}{llll}\n",
       " sales\\_ymd & customer\\_id & product\\_cd & amount\\\\\n",
       " <int> & <chr> & <chr> & <int>\\\\\n",
       "\\hline\n",
       "\t 20180911 & CS018205000001 & P071401012 & 2200\\\\\n",
       "\t 20180414 & CS018205000001 & P060104007 &  600\\\\\n",
       "\t 20170614 & CS018205000001 & P050206001 &  990\\\\\n",
       "\t 20170614 & CS018205000001 & P060702015 &  108\\\\\n",
       "\t 20190216 & CS018205000001 & P071005024 &  102\\\\\n",
       "\t 20180414 & CS018205000001 & P071101002 &  278\\\\\n",
       "\t 20190226 & CS018205000001 & P070902035 &  168\\\\\n",
       "\t 20190924 & CS018205000001 & P060805001 &  495\\\\\n",
       "\t 20190226 & CS018205000001 & P071401020 & 2200\\\\\n",
       "\t 20180911 & CS018205000001 & P071401005 & 1100\\\\\n",
       "\t 20190216 & CS018205000001 & P040101002 &  218\\\\\n",
       "\t 20190924 & CS018205000001 & P091503001 &  280\\\\\n",
       "\\end{tabular}\n"
      ],
      "text/markdown": [
       "\n",
       "A data.frame: 12 × 4\n",
       "\n",
       "| sales_ymd &lt;int&gt; | customer_id &lt;chr&gt; | product_cd &lt;chr&gt; | amount &lt;int&gt; |\n",
       "|---|---|---|---|\n",
       "| 20180911 | CS018205000001 | P071401012 | 2200 |\n",
       "| 20180414 | CS018205000001 | P060104007 |  600 |\n",
       "| 20170614 | CS018205000001 | P050206001 |  990 |\n",
       "| 20170614 | CS018205000001 | P060702015 |  108 |\n",
       "| 20190216 | CS018205000001 | P071005024 |  102 |\n",
       "| 20180414 | CS018205000001 | P071101002 |  278 |\n",
       "| 20190226 | CS018205000001 | P070902035 |  168 |\n",
       "| 20190924 | CS018205000001 | P060805001 |  495 |\n",
       "| 20190226 | CS018205000001 | P071401020 | 2200 |\n",
       "| 20180911 | CS018205000001 | P071401005 | 1100 |\n",
       "| 20190216 | CS018205000001 | P040101002 |  218 |\n",
       "| 20190924 | CS018205000001 | P091503001 |  280 |\n",
       "\n"
      ],
      "text/plain": [
       "   sales_ymd customer_id    product_cd amount\n",
       "1  20180911  CS018205000001 P071401012 2200  \n",
       "2  20180414  CS018205000001 P060104007  600  \n",
       "3  20170614  CS018205000001 P050206001  990  \n",
       "4  20170614  CS018205000001 P060702015  108  \n",
       "5  20190216  CS018205000001 P071005024  102  \n",
       "6  20180414  CS018205000001 P071101002  278  \n",
       "7  20190226  CS018205000001 P070902035  168  \n",
       "8  20190924  CS018205000001 P060805001  495  \n",
       "9  20190226  CS018205000001 P071401020 2200  \n",
       "10 20180911  CS018205000001 P071401005 1100  \n",
       "11 20190216  CS018205000001 P040101002  218  \n",
       "12 20190924  CS018205000001 P091503001  280  "
      ]
     },
     "metadata": {},
     "output_type": "display_data"
    }
   ],
   "source": [
    "df_receipt[c(\"sales_ymd\", \"customer_id\", \"product_cd\", \"amount\")] %>% filter(customer_id == \"CS018205000001\")"
   ]
  },
  {
   "cell_type": "markdown",
   "metadata": {},
   "source": [
    "---\n",
    "> R-005: レシート明細データフレーム（df_receipt）から売上日（sales_ymd）、顧客ID（customer_id）、商品コード（product_cd）、売上金額（amount）の順に列を指定し、以下の条件を満たすデータを抽出せよ。\n",
    "> - 顧客ID（customer_id）が\"CS018205000001\"\n",
    "> - 売上金額（amount）が1,000以上"
   ]
  },
  {
   "cell_type": "code",
   "execution_count": 10,
   "metadata": {},
   "outputs": [
    {
     "data": {
      "text/html": [
       "<table class=\"dataframe\">\n",
       "<caption>A data.frame: 3 × 4</caption>\n",
       "<thead>\n",
       "\t<tr><th scope=col>sales_ymd</th><th scope=col>customer_id</th><th scope=col>product_cd</th><th scope=col>amount</th></tr>\n",
       "\t<tr><th scope=col>&lt;int&gt;</th><th scope=col>&lt;chr&gt;</th><th scope=col>&lt;chr&gt;</th><th scope=col>&lt;int&gt;</th></tr>\n",
       "</thead>\n",
       "<tbody>\n",
       "\t<tr><td>20180911</td><td>CS018205000001</td><td>P071401012</td><td>2200</td></tr>\n",
       "\t<tr><td>20190226</td><td>CS018205000001</td><td>P071401020</td><td>2200</td></tr>\n",
       "\t<tr><td>20180911</td><td>CS018205000001</td><td>P071401005</td><td>1100</td></tr>\n",
       "</tbody>\n",
       "</table>\n"
      ],
      "text/latex": [
       "A data.frame: 3 × 4\n",
       "\\begin{tabular}{llll}\n",
       " sales\\_ymd & customer\\_id & product\\_cd & amount\\\\\n",
       " <int> & <chr> & <chr> & <int>\\\\\n",
       "\\hline\n",
       "\t 20180911 & CS018205000001 & P071401012 & 2200\\\\\n",
       "\t 20190226 & CS018205000001 & P071401020 & 2200\\\\\n",
       "\t 20180911 & CS018205000001 & P071401005 & 1100\\\\\n",
       "\\end{tabular}\n"
      ],
      "text/markdown": [
       "\n",
       "A data.frame: 3 × 4\n",
       "\n",
       "| sales_ymd &lt;int&gt; | customer_id &lt;chr&gt; | product_cd &lt;chr&gt; | amount &lt;int&gt; |\n",
       "|---|---|---|---|\n",
       "| 20180911 | CS018205000001 | P071401012 | 2200 |\n",
       "| 20190226 | CS018205000001 | P071401020 | 2200 |\n",
       "| 20180911 | CS018205000001 | P071401005 | 1100 |\n",
       "\n"
      ],
      "text/plain": [
       "  sales_ymd customer_id    product_cd amount\n",
       "1 20180911  CS018205000001 P071401012 2200  \n",
       "2 20190226  CS018205000001 P071401020 2200  \n",
       "3 20180911  CS018205000001 P071401005 1100  "
      ]
     },
     "metadata": {},
     "output_type": "display_data"
    }
   ],
   "source": [
    "df_receipt[c(\"sales_ymd\", \"customer_id\", \"product_cd\", \"amount\")] %>% filter((customer_id == \"CS018205000001\") & amount >= 1000)"
   ]
  },
  {
   "cell_type": "markdown",
   "metadata": {},
   "source": [
    "---\n",
    "> R-006: レシート明細データフレーム（receipt）から売上日（sales_ymd）、顧客ID（customer_id）、商品コード（product_cd）、売上数量（quantity）、売上金額（amount）の順に列を指定し、以下の条件を満たすデータを抽出せよ。\n",
    "> - 顧客ID（customer_id）が\"CS018205000001\"\n",
    "> - 売上金額（amount）が1,000以上または売上数量（quantity）が5以上"
   ]
  },
  {
   "cell_type": "code",
   "execution_count": 12,
   "metadata": {},
   "outputs": [
    {
     "data": {
      "text/html": [
       "<table class=\"dataframe\">\n",
       "<caption>A data.frame: 5 × 5</caption>\n",
       "<thead>\n",
       "\t<tr><th scope=col>sales_ymd</th><th scope=col>customer_id</th><th scope=col>product_cd</th><th scope=col>quantity</th><th scope=col>amount</th></tr>\n",
       "\t<tr><th scope=col>&lt;int&gt;</th><th scope=col>&lt;chr&gt;</th><th scope=col>&lt;chr&gt;</th><th scope=col>&lt;int&gt;</th><th scope=col>&lt;int&gt;</th></tr>\n",
       "</thead>\n",
       "<tbody>\n",
       "\t<tr><td>20180911</td><td>CS018205000001</td><td>P071401012</td><td>1</td><td>2200</td></tr>\n",
       "\t<tr><td>20180414</td><td>CS018205000001</td><td>P060104007</td><td>6</td><td> 600</td></tr>\n",
       "\t<tr><td>20170614</td><td>CS018205000001</td><td>P050206001</td><td>5</td><td> 990</td></tr>\n",
       "\t<tr><td>20190226</td><td>CS018205000001</td><td>P071401020</td><td>1</td><td>2200</td></tr>\n",
       "\t<tr><td>20180911</td><td>CS018205000001</td><td>P071401005</td><td>1</td><td>1100</td></tr>\n",
       "</tbody>\n",
       "</table>\n"
      ],
      "text/latex": [
       "A data.frame: 5 × 5\n",
       "\\begin{tabular}{lllll}\n",
       " sales\\_ymd & customer\\_id & product\\_cd & quantity & amount\\\\\n",
       " <int> & <chr> & <chr> & <int> & <int>\\\\\n",
       "\\hline\n",
       "\t 20180911 & CS018205000001 & P071401012 & 1 & 2200\\\\\n",
       "\t 20180414 & CS018205000001 & P060104007 & 6 &  600\\\\\n",
       "\t 20170614 & CS018205000001 & P050206001 & 5 &  990\\\\\n",
       "\t 20190226 & CS018205000001 & P071401020 & 1 & 2200\\\\\n",
       "\t 20180911 & CS018205000001 & P071401005 & 1 & 1100\\\\\n",
       "\\end{tabular}\n"
      ],
      "text/markdown": [
       "\n",
       "A data.frame: 5 × 5\n",
       "\n",
       "| sales_ymd &lt;int&gt; | customer_id &lt;chr&gt; | product_cd &lt;chr&gt; | quantity &lt;int&gt; | amount &lt;int&gt; |\n",
       "|---|---|---|---|---|\n",
       "| 20180911 | CS018205000001 | P071401012 | 1 | 2200 |\n",
       "| 20180414 | CS018205000001 | P060104007 | 6 |  600 |\n",
       "| 20170614 | CS018205000001 | P050206001 | 5 |  990 |\n",
       "| 20190226 | CS018205000001 | P071401020 | 1 | 2200 |\n",
       "| 20180911 | CS018205000001 | P071401005 | 1 | 1100 |\n",
       "\n"
      ],
      "text/plain": [
       "  sales_ymd customer_id    product_cd quantity amount\n",
       "1 20180911  CS018205000001 P071401012 1        2200  \n",
       "2 20180414  CS018205000001 P060104007 6         600  \n",
       "3 20170614  CS018205000001 P050206001 5         990  \n",
       "4 20190226  CS018205000001 P071401020 1        2200  \n",
       "5 20180911  CS018205000001 P071401005 1        1100  "
      ]
     },
     "metadata": {},
     "output_type": "display_data"
    }
   ],
   "source": [
    "df_receipt[c(\"sales_ymd\", \"customer_id\", \"product_cd\",\"quantity\", \"amount\")] %>% filter((customer_id == \"CS018205000001\") & (amount >= 1000 | quantity >= 5))"
   ]
  },
  {
   "cell_type": "markdown",
   "metadata": {},
   "source": [
    "---\n",
    "> R-007: レシート明細のデータフレーム（df_receipt）から売上日（sales_ymd）、顧客ID（customer_id）、商品コード（product_cd）、売上金額（amount）の順に列を指定し、以下の条件を満たすデータを抽出せよ。\n",
    "> - 顧客ID（customer_id）が\"CS018205000001\"\n",
    "> - 売上金額（amount）が1,000以上2,000以下"
   ]
  },
  {
   "cell_type": "code",
   "execution_count": 14,
   "metadata": {},
   "outputs": [
    {
     "data": {
      "text/html": [
       "<table class=\"dataframe\">\n",
       "<caption>A data.frame: 1 × 4</caption>\n",
       "<thead>\n",
       "\t<tr><th scope=col>sales_ymd</th><th scope=col>customer_id</th><th scope=col>product_cd</th><th scope=col>amount</th></tr>\n",
       "\t<tr><th scope=col>&lt;int&gt;</th><th scope=col>&lt;chr&gt;</th><th scope=col>&lt;chr&gt;</th><th scope=col>&lt;int&gt;</th></tr>\n",
       "</thead>\n",
       "<tbody>\n",
       "\t<tr><td>20180911</td><td>CS018205000001</td><td>P071401005</td><td>1100</td></tr>\n",
       "</tbody>\n",
       "</table>\n"
      ],
      "text/latex": [
       "A data.frame: 1 × 4\n",
       "\\begin{tabular}{llll}\n",
       " sales\\_ymd & customer\\_id & product\\_cd & amount\\\\\n",
       " <int> & <chr> & <chr> & <int>\\\\\n",
       "\\hline\n",
       "\t 20180911 & CS018205000001 & P071401005 & 1100\\\\\n",
       "\\end{tabular}\n"
      ],
      "text/markdown": [
       "\n",
       "A data.frame: 1 × 4\n",
       "\n",
       "| sales_ymd &lt;int&gt; | customer_id &lt;chr&gt; | product_cd &lt;chr&gt; | amount &lt;int&gt; |\n",
       "|---|---|---|---|\n",
       "| 20180911 | CS018205000001 | P071401005 | 1100 |\n",
       "\n"
      ],
      "text/plain": [
       "  sales_ymd customer_id    product_cd amount\n",
       "1 20180911  CS018205000001 P071401005 1100  "
      ]
     },
     "metadata": {},
     "output_type": "display_data"
    }
   ],
   "source": [
    "df_receipt[c(\"sales_ymd\", \"customer_id\", \"product_cd\", \"amount\")] %>% filter((customer_id == \"CS018205000001\") & (amount >= 1000 & amount <= 2000))"
   ]
  },
  {
   "cell_type": "markdown",
   "metadata": {},
   "source": [
    "---\n",
    "> R-008: レシート明細データフレーム（df_receipt）から売上日（sales_ymd）、顧客ID（customer_id）、商品コード（product_cd）、売上金額（amount）の順に列を指定し、以下の条件を満たすデータを抽出せよ。\n",
    "> - 顧客ID（customer_id）が\"CS018205000001\"\n",
    "> - 商品コード（product_cd）が\"P071401019\"以外"
   ]
  },
  {
   "cell_type": "code",
   "execution_count": 15,
   "metadata": {},
   "outputs": [
    {
     "data": {
      "text/html": [
       "<table class=\"dataframe\">\n",
       "<caption>A data.frame: 12 × 4</caption>\n",
       "<thead>\n",
       "\t<tr><th scope=col>sales_ymd</th><th scope=col>customer_id</th><th scope=col>product_cd</th><th scope=col>amount</th></tr>\n",
       "\t<tr><th scope=col>&lt;int&gt;</th><th scope=col>&lt;chr&gt;</th><th scope=col>&lt;chr&gt;</th><th scope=col>&lt;int&gt;</th></tr>\n",
       "</thead>\n",
       "<tbody>\n",
       "\t<tr><td>20180911</td><td>CS018205000001</td><td>P071401012</td><td>2200</td></tr>\n",
       "\t<tr><td>20180414</td><td>CS018205000001</td><td>P060104007</td><td> 600</td></tr>\n",
       "\t<tr><td>20170614</td><td>CS018205000001</td><td>P050206001</td><td> 990</td></tr>\n",
       "\t<tr><td>20170614</td><td>CS018205000001</td><td>P060702015</td><td> 108</td></tr>\n",
       "\t<tr><td>20190216</td><td>CS018205000001</td><td>P071005024</td><td> 102</td></tr>\n",
       "\t<tr><td>20180414</td><td>CS018205000001</td><td>P071101002</td><td> 278</td></tr>\n",
       "\t<tr><td>20190226</td><td>CS018205000001</td><td>P070902035</td><td> 168</td></tr>\n",
       "\t<tr><td>20190924</td><td>CS018205000001</td><td>P060805001</td><td> 495</td></tr>\n",
       "\t<tr><td>20190226</td><td>CS018205000001</td><td>P071401020</td><td>2200</td></tr>\n",
       "\t<tr><td>20180911</td><td>CS018205000001</td><td>P071401005</td><td>1100</td></tr>\n",
       "\t<tr><td>20190216</td><td>CS018205000001</td><td>P040101002</td><td> 218</td></tr>\n",
       "\t<tr><td>20190924</td><td>CS018205000001</td><td>P091503001</td><td> 280</td></tr>\n",
       "</tbody>\n",
       "</table>\n"
      ],
      "text/latex": [
       "A data.frame: 12 × 4\n",
       "\\begin{tabular}{llll}\n",
       " sales\\_ymd & customer\\_id & product\\_cd & amount\\\\\n",
       " <int> & <chr> & <chr> & <int>\\\\\n",
       "\\hline\n",
       "\t 20180911 & CS018205000001 & P071401012 & 2200\\\\\n",
       "\t 20180414 & CS018205000001 & P060104007 &  600\\\\\n",
       "\t 20170614 & CS018205000001 & P050206001 &  990\\\\\n",
       "\t 20170614 & CS018205000001 & P060702015 &  108\\\\\n",
       "\t 20190216 & CS018205000001 & P071005024 &  102\\\\\n",
       "\t 20180414 & CS018205000001 & P071101002 &  278\\\\\n",
       "\t 20190226 & CS018205000001 & P070902035 &  168\\\\\n",
       "\t 20190924 & CS018205000001 & P060805001 &  495\\\\\n",
       "\t 20190226 & CS018205000001 & P071401020 & 2200\\\\\n",
       "\t 20180911 & CS018205000001 & P071401005 & 1100\\\\\n",
       "\t 20190216 & CS018205000001 & P040101002 &  218\\\\\n",
       "\t 20190924 & CS018205000001 & P091503001 &  280\\\\\n",
       "\\end{tabular}\n"
      ],
      "text/markdown": [
       "\n",
       "A data.frame: 12 × 4\n",
       "\n",
       "| sales_ymd &lt;int&gt; | customer_id &lt;chr&gt; | product_cd &lt;chr&gt; | amount &lt;int&gt; |\n",
       "|---|---|---|---|\n",
       "| 20180911 | CS018205000001 | P071401012 | 2200 |\n",
       "| 20180414 | CS018205000001 | P060104007 |  600 |\n",
       "| 20170614 | CS018205000001 | P050206001 |  990 |\n",
       "| 20170614 | CS018205000001 | P060702015 |  108 |\n",
       "| 20190216 | CS018205000001 | P071005024 |  102 |\n",
       "| 20180414 | CS018205000001 | P071101002 |  278 |\n",
       "| 20190226 | CS018205000001 | P070902035 |  168 |\n",
       "| 20190924 | CS018205000001 | P060805001 |  495 |\n",
       "| 20190226 | CS018205000001 | P071401020 | 2200 |\n",
       "| 20180911 | CS018205000001 | P071401005 | 1100 |\n",
       "| 20190216 | CS018205000001 | P040101002 |  218 |\n",
       "| 20190924 | CS018205000001 | P091503001 |  280 |\n",
       "\n"
      ],
      "text/plain": [
       "   sales_ymd customer_id    product_cd amount\n",
       "1  20180911  CS018205000001 P071401012 2200  \n",
       "2  20180414  CS018205000001 P060104007  600  \n",
       "3  20170614  CS018205000001 P050206001  990  \n",
       "4  20170614  CS018205000001 P060702015  108  \n",
       "5  20190216  CS018205000001 P071005024  102  \n",
       "6  20180414  CS018205000001 P071101002  278  \n",
       "7  20190226  CS018205000001 P070902035  168  \n",
       "8  20190924  CS018205000001 P060805001  495  \n",
       "9  20190226  CS018205000001 P071401020 2200  \n",
       "10 20180911  CS018205000001 P071401005 1100  \n",
       "11 20190216  CS018205000001 P040101002  218  \n",
       "12 20190924  CS018205000001 P091503001  280  "
      ]
     },
     "metadata": {},
     "output_type": "display_data"
    }
   ],
   "source": [
    "df_receipt[c(\"sales_ymd\", \"customer_id\", \"product_cd\", \"amount\")] %>% filter((customer_id == \"CS018205000001\") & product_cd != \"P071401019\")"
   ]
  },
  {
   "cell_type": "markdown",
   "metadata": {},
   "source": [
    "---\n",
    "> R-009: 以下の処理において、出力結果を変えずにORをANDに書き換えよ。\n",
    "\n",
    "`\n",
    "df_store %>%\n",
    "    filter(!(prefecture_cd == \"13\" | floor_area > 900))\n",
    "`"
   ]
  },
  {
   "cell_type": "code",
   "execution_count": 16,
   "metadata": {},
   "outputs": [
    {
     "data": {
      "text/html": [
       "<table class=\"dataframe\">\n",
       "<caption>A data.frame: 3 × 10</caption>\n",
       "<thead>\n",
       "\t<tr><th scope=col>store_cd</th><th scope=col>store_name</th><th scope=col>prefecture_cd</th><th scope=col>prefecture</th><th scope=col>address</th><th scope=col>address_kana</th><th scope=col>tel_no</th><th scope=col>longitude</th><th scope=col>latitude</th><th scope=col>floor_area</th></tr>\n",
       "\t<tr><th scope=col>&lt;chr&gt;</th><th scope=col>&lt;chr&gt;</th><th scope=col>&lt;chr&gt;</th><th scope=col>&lt;chr&gt;</th><th scope=col>&lt;chr&gt;</th><th scope=col>&lt;chr&gt;</th><th scope=col>&lt;chr&gt;</th><th scope=col>&lt;dbl&gt;</th><th scope=col>&lt;dbl&gt;</th><th scope=col>&lt;dbl&gt;</th></tr>\n",
       "</thead>\n",
       "<tbody>\n",
       "\t<tr><td>S14046</td><td>北山田店  </td><td>14</td><td>神奈川県</td><td>神奈川県横浜市都筑区北山田一丁目  </td><td>カナガワケンヨコハマシツヅキクキタヤマタイッチョウメ        </td><td>045-123-4049</td><td>139.5916</td><td>35.56189</td><td>831</td></tr>\n",
       "\t<tr><td>S14011</td><td>日吉本町店</td><td>14</td><td>神奈川県</td><td>神奈川県横浜市港北区日吉本町四丁目</td><td>カナガワケンヨコハマシコウホククヒヨシホンチョウヨンチョウメ</td><td>045-123-4033</td><td>139.6316</td><td>35.54655</td><td>890</td></tr>\n",
       "\t<tr><td>S12013</td><td>習志野店  </td><td>12</td><td>千葉県  </td><td>千葉県習志野市芝園一丁目          </td><td>チバケンナラシノシシバゾノイッチョウメ                      </td><td>047-123-4002</td><td>140.0220</td><td>35.66122</td><td>808</td></tr>\n",
       "</tbody>\n",
       "</table>\n"
      ],
      "text/latex": [
       "A data.frame: 3 × 10\n",
       "\\begin{tabular}{llllllllll}\n",
       " store\\_cd & store\\_name & prefecture\\_cd & prefecture & address & address\\_kana & tel\\_no & longitude & latitude & floor\\_area\\\\\n",
       " <chr> & <chr> & <chr> & <chr> & <chr> & <chr> & <chr> & <dbl> & <dbl> & <dbl>\\\\\n",
       "\\hline\n",
       "\t S14046 & 北山田店   & 14 & 神奈川県 & 神奈川県横浜市都筑区北山田一丁目   & カナガワケンヨコハマシツヅキクキタヤマタイッチョウメ         & 045-123-4049 & 139.5916 & 35.56189 & 831\\\\\n",
       "\t S14011 & 日吉本町店 & 14 & 神奈川県 & 神奈川県横浜市港北区日吉本町四丁目 & カナガワケンヨコハマシコウホククヒヨシホンチョウヨンチョウメ & 045-123-4033 & 139.6316 & 35.54655 & 890\\\\\n",
       "\t S12013 & 習志野店   & 12 & 千葉県   & 千葉県習志野市芝園一丁目           & チバケンナラシノシシバゾノイッチョウメ                       & 047-123-4002 & 140.0220 & 35.66122 & 808\\\\\n",
       "\\end{tabular}\n"
      ],
      "text/markdown": [
       "\n",
       "A data.frame: 3 × 10\n",
       "\n",
       "| store_cd &lt;chr&gt; | store_name &lt;chr&gt; | prefecture_cd &lt;chr&gt; | prefecture &lt;chr&gt; | address &lt;chr&gt; | address_kana &lt;chr&gt; | tel_no &lt;chr&gt; | longitude &lt;dbl&gt; | latitude &lt;dbl&gt; | floor_area &lt;dbl&gt; |\n",
       "|---|---|---|---|---|---|---|---|---|---|\n",
       "| S14046 | 北山田店   | 14 | 神奈川県 | 神奈川県横浜市都筑区北山田一丁目   | カナガワケンヨコハマシツヅキクキタヤマタイッチョウメ         | 045-123-4049 | 139.5916 | 35.56189 | 831 |\n",
       "| S14011 | 日吉本町店 | 14 | 神奈川県 | 神奈川県横浜市港北区日吉本町四丁目 | カナガワケンヨコハマシコウホククヒヨシホンチョウヨンチョウメ | 045-123-4033 | 139.6316 | 35.54655 | 890 |\n",
       "| S12013 | 習志野店   | 12 | 千葉県   | 千葉県習志野市芝園一丁目           | チバケンナラシノシシバゾノイッチョウメ                       | 047-123-4002 | 140.0220 | 35.66122 | 808 |\n",
       "\n"
      ],
      "text/plain": [
       "  store_cd store_name prefecture_cd prefecture\n",
       "1 S14046   北山田店   14            神奈川県  \n",
       "2 S14011   日吉本町店 14            神奈川県  \n",
       "3 S12013   習志野店   12            千葉県    \n",
       "  address                           \n",
       "1 神奈川県横浜市都筑区北山田一丁目  \n",
       "2 神奈川県横浜市港北区日吉本町四丁目\n",
       "3 千葉県習志野市芝園一丁目          \n",
       "  address_kana                                                 tel_no      \n",
       "1 カナガワケンヨコハマシツヅキクキタヤマタイッチョウメ         045-123-4049\n",
       "2 カナガワケンヨコハマシコウホククヒヨシホンチョウヨンチョウメ 045-123-4033\n",
       "3 チバケンナラシノシシバゾノイッチョウメ                       047-123-4002\n",
       "  longitude latitude floor_area\n",
       "1 139.5916  35.56189 831       \n",
       "2 139.6316  35.54655 890       \n",
       "3 140.0220  35.66122 808       "
      ]
     },
     "metadata": {},
     "output_type": "display_data"
    }
   ],
   "source": [
    "df_store %>%     filter(!(prefecture_cd == \"13\" | floor_area > 900))"
   ]
  },
  {
   "cell_type": "code",
   "execution_count": 18,
   "metadata": {},
   "outputs": [
    {
     "data": {
      "text/html": [
       "<table class=\"dataframe\">\n",
       "<caption>A data.frame: 3 × 10</caption>\n",
       "<thead>\n",
       "\t<tr><th scope=col>store_cd</th><th scope=col>store_name</th><th scope=col>prefecture_cd</th><th scope=col>prefecture</th><th scope=col>address</th><th scope=col>address_kana</th><th scope=col>tel_no</th><th scope=col>longitude</th><th scope=col>latitude</th><th scope=col>floor_area</th></tr>\n",
       "\t<tr><th scope=col>&lt;chr&gt;</th><th scope=col>&lt;chr&gt;</th><th scope=col>&lt;chr&gt;</th><th scope=col>&lt;chr&gt;</th><th scope=col>&lt;chr&gt;</th><th scope=col>&lt;chr&gt;</th><th scope=col>&lt;chr&gt;</th><th scope=col>&lt;dbl&gt;</th><th scope=col>&lt;dbl&gt;</th><th scope=col>&lt;dbl&gt;</th></tr>\n",
       "</thead>\n",
       "<tbody>\n",
       "\t<tr><td>S14046</td><td>北山田店  </td><td>14</td><td>神奈川県</td><td>神奈川県横浜市都筑区北山田一丁目  </td><td>カナガワケンヨコハマシツヅキクキタヤマタイッチョウメ        </td><td>045-123-4049</td><td>139.5916</td><td>35.56189</td><td>831</td></tr>\n",
       "\t<tr><td>S14011</td><td>日吉本町店</td><td>14</td><td>神奈川県</td><td>神奈川県横浜市港北区日吉本町四丁目</td><td>カナガワケンヨコハマシコウホククヒヨシホンチョウヨンチョウメ</td><td>045-123-4033</td><td>139.6316</td><td>35.54655</td><td>890</td></tr>\n",
       "\t<tr><td>S12013</td><td>習志野店  </td><td>12</td><td>千葉県  </td><td>千葉県習志野市芝園一丁目          </td><td>チバケンナラシノシシバゾノイッチョウメ                      </td><td>047-123-4002</td><td>140.0220</td><td>35.66122</td><td>808</td></tr>\n",
       "</tbody>\n",
       "</table>\n"
      ],
      "text/latex": [
       "A data.frame: 3 × 10\n",
       "\\begin{tabular}{llllllllll}\n",
       " store\\_cd & store\\_name & prefecture\\_cd & prefecture & address & address\\_kana & tel\\_no & longitude & latitude & floor\\_area\\\\\n",
       " <chr> & <chr> & <chr> & <chr> & <chr> & <chr> & <chr> & <dbl> & <dbl> & <dbl>\\\\\n",
       "\\hline\n",
       "\t S14046 & 北山田店   & 14 & 神奈川県 & 神奈川県横浜市都筑区北山田一丁目   & カナガワケンヨコハマシツヅキクキタヤマタイッチョウメ         & 045-123-4049 & 139.5916 & 35.56189 & 831\\\\\n",
       "\t S14011 & 日吉本町店 & 14 & 神奈川県 & 神奈川県横浜市港北区日吉本町四丁目 & カナガワケンヨコハマシコウホククヒヨシホンチョウヨンチョウメ & 045-123-4033 & 139.6316 & 35.54655 & 890\\\\\n",
       "\t S12013 & 習志野店   & 12 & 千葉県   & 千葉県習志野市芝園一丁目           & チバケンナラシノシシバゾノイッチョウメ                       & 047-123-4002 & 140.0220 & 35.66122 & 808\\\\\n",
       "\\end{tabular}\n"
      ],
      "text/markdown": [
       "\n",
       "A data.frame: 3 × 10\n",
       "\n",
       "| store_cd &lt;chr&gt; | store_name &lt;chr&gt; | prefecture_cd &lt;chr&gt; | prefecture &lt;chr&gt; | address &lt;chr&gt; | address_kana &lt;chr&gt; | tel_no &lt;chr&gt; | longitude &lt;dbl&gt; | latitude &lt;dbl&gt; | floor_area &lt;dbl&gt; |\n",
       "|---|---|---|---|---|---|---|---|---|---|\n",
       "| S14046 | 北山田店   | 14 | 神奈川県 | 神奈川県横浜市都筑区北山田一丁目   | カナガワケンヨコハマシツヅキクキタヤマタイッチョウメ         | 045-123-4049 | 139.5916 | 35.56189 | 831 |\n",
       "| S14011 | 日吉本町店 | 14 | 神奈川県 | 神奈川県横浜市港北区日吉本町四丁目 | カナガワケンヨコハマシコウホククヒヨシホンチョウヨンチョウメ | 045-123-4033 | 139.6316 | 35.54655 | 890 |\n",
       "| S12013 | 習志野店   | 12 | 千葉県   | 千葉県習志野市芝園一丁目           | チバケンナラシノシシバゾノイッチョウメ                       | 047-123-4002 | 140.0220 | 35.66122 | 808 |\n",
       "\n"
      ],
      "text/plain": [
       "  store_cd store_name prefecture_cd prefecture\n",
       "1 S14046   北山田店   14            神奈川県  \n",
       "2 S14011   日吉本町店 14            神奈川県  \n",
       "3 S12013   習志野店   12            千葉県    \n",
       "  address                           \n",
       "1 神奈川県横浜市都筑区北山田一丁目  \n",
       "2 神奈川県横浜市港北区日吉本町四丁目\n",
       "3 千葉県習志野市芝園一丁目          \n",
       "  address_kana                                                 tel_no      \n",
       "1 カナガワケンヨコハマシツヅキクキタヤマタイッチョウメ         045-123-4049\n",
       "2 カナガワケンヨコハマシコウホククヒヨシホンチョウヨンチョウメ 045-123-4033\n",
       "3 チバケンナラシノシシバゾノイッチョウメ                       047-123-4002\n",
       "  longitude latitude floor_area\n",
       "1 139.5916  35.56189 831       \n",
       "2 139.6316  35.54655 890       \n",
       "3 140.0220  35.66122 808       "
      ]
     },
     "metadata": {},
     "output_type": "display_data"
    }
   ],
   "source": [
    "df_store %>%     filter(prefecture_cd != \"13\" & floor_area <= 900)"
   ]
  },
  {
   "cell_type": "markdown",
   "metadata": {},
   "source": [
    "---\n",
    "> R-010: 店舗データフレーム（df_store）から、店舗コード（store_cd）が\"S14\"で始まるものだけ全項目抽出し、10件だけ表示せよ。"
   ]
  },
  {
   "cell_type": "code",
   "execution_count": 20,
   "metadata": {},
   "outputs": [
    {
     "data": {
      "text/html": [
       "<table class=\"dataframe\">\n",
       "<caption>A data.frame: 10 × 10</caption>\n",
       "<thead>\n",
       "\t<tr><th></th><th scope=col>store_cd</th><th scope=col>store_name</th><th scope=col>prefecture_cd</th><th scope=col>prefecture</th><th scope=col>address</th><th scope=col>address_kana</th><th scope=col>tel_no</th><th scope=col>longitude</th><th scope=col>latitude</th><th scope=col>floor_area</th></tr>\n",
       "\t<tr><th></th><th scope=col>&lt;chr&gt;</th><th scope=col>&lt;chr&gt;</th><th scope=col>&lt;chr&gt;</th><th scope=col>&lt;chr&gt;</th><th scope=col>&lt;chr&gt;</th><th scope=col>&lt;chr&gt;</th><th scope=col>&lt;chr&gt;</th><th scope=col>&lt;dbl&gt;</th><th scope=col>&lt;dbl&gt;</th><th scope=col>&lt;dbl&gt;</th></tr>\n",
       "</thead>\n",
       "<tbody>\n",
       "\t<tr><th scope=row>1</th><td>S14010</td><td>菊名店      </td><td>14</td><td>神奈川県</td><td>神奈川県横浜市港北区菊名一丁目        </td><td>カナガワケンヨコハマシコウホククキクナイッチョウメ          </td><td>045-123-4032</td><td>139.6326</td><td>35.50049</td><td>1732</td></tr>\n",
       "\t<tr><th scope=row>2</th><td>S14033</td><td>阿久和店    </td><td>14</td><td>神奈川県</td><td>神奈川県横浜市瀬谷区阿久和西一丁目    </td><td>カナガワケンヨコハマシセヤクアクワニシイッチョウメ          </td><td>045-123-4043</td><td>139.4961</td><td>35.45918</td><td>1495</td></tr>\n",
       "\t<tr><th scope=row>3</th><td>S14036</td><td>相模原中央店</td><td>14</td><td>神奈川県</td><td>神奈川県相模原市中央二丁目            </td><td>カナガワケンサガミハラシチュウオウニチョウメ                </td><td>042-123-4045</td><td>139.3716</td><td>35.57327</td><td>1679</td></tr>\n",
       "\t<tr><th scope=row>4</th><td>S14040</td><td>長津田店    </td><td>14</td><td>神奈川県</td><td>神奈川県横浜市緑区長津田みなみ台五丁目</td><td>カナガワケンヨコハマシミドリクナガツタミナミダイゴチョウメ  </td><td>045-123-4046</td><td>139.4994</td><td>35.52398</td><td>1548</td></tr>\n",
       "\t<tr><th scope=row>5</th><td>S14050</td><td>阿久和西店  </td><td>14</td><td>神奈川県</td><td>神奈川県横浜市瀬谷区阿久和西一丁目    </td><td>カナガワケンヨコハマシセヤクアクワニシイッチョウメ          </td><td>045-123-4053</td><td>139.4961</td><td>35.45918</td><td>1830</td></tr>\n",
       "\t<tr><th scope=row>6</th><td>S14028</td><td>二ツ橋店    </td><td>14</td><td>神奈川県</td><td>神奈川県横浜市瀬谷区二ツ橋町          </td><td>カナガワケンヨコハマシセヤクフタツバシチョウ                </td><td>045-123-4042</td><td>139.4963</td><td>35.46304</td><td>1574</td></tr>\n",
       "\t<tr><th scope=row>7</th><td>S14012</td><td>本牧和田店  </td><td>14</td><td>神奈川県</td><td>神奈川県横浜市中区本牧和田            </td><td>カナガワケンヨコハマシナカクホンモクワダ                    </td><td>045-123-4034</td><td>139.6582</td><td>35.42156</td><td>1341</td></tr>\n",
       "\t<tr><th scope=row>8</th><td>S14046</td><td>北山田店    </td><td>14</td><td>神奈川県</td><td>神奈川県横浜市都筑区北山田一丁目      </td><td>カナガワケンヨコハマシツヅキクキタヤマタイッチョウメ        </td><td>045-123-4049</td><td>139.5916</td><td>35.56189</td><td> 831</td></tr>\n",
       "\t<tr><th scope=row>9</th><td>S14022</td><td>逗子店      </td><td>14</td><td>神奈川県</td><td>神奈川県逗子市逗子一丁目              </td><td>カナガワケンズシシズシイッチョウメ                          </td><td>046-123-4036</td><td>139.5789</td><td>35.29642</td><td>1838</td></tr>\n",
       "\t<tr><th scope=row>10</th><td>S14011</td><td>日吉本町店  </td><td>14</td><td>神奈川県</td><td>神奈川県横浜市港北区日吉本町四丁目    </td><td>カナガワケンヨコハマシコウホククヒヨシホンチョウヨンチョウメ</td><td>045-123-4033</td><td>139.6316</td><td>35.54655</td><td> 890</td></tr>\n",
       "</tbody>\n",
       "</table>\n"
      ],
      "text/latex": [
       "A data.frame: 10 × 10\n",
       "\\begin{tabular}{r|llllllllll}\n",
       "  & store\\_cd & store\\_name & prefecture\\_cd & prefecture & address & address\\_kana & tel\\_no & longitude & latitude & floor\\_area\\\\\n",
       "  & <chr> & <chr> & <chr> & <chr> & <chr> & <chr> & <chr> & <dbl> & <dbl> & <dbl>\\\\\n",
       "\\hline\n",
       "\t1 & S14010 & 菊名店       & 14 & 神奈川県 & 神奈川県横浜市港北区菊名一丁目         & カナガワケンヨコハマシコウホククキクナイッチョウメ           & 045-123-4032 & 139.6326 & 35.50049 & 1732\\\\\n",
       "\t2 & S14033 & 阿久和店     & 14 & 神奈川県 & 神奈川県横浜市瀬谷区阿久和西一丁目     & カナガワケンヨコハマシセヤクアクワニシイッチョウメ           & 045-123-4043 & 139.4961 & 35.45918 & 1495\\\\\n",
       "\t3 & S14036 & 相模原中央店 & 14 & 神奈川県 & 神奈川県相模原市中央二丁目             & カナガワケンサガミハラシチュウオウニチョウメ                 & 042-123-4045 & 139.3716 & 35.57327 & 1679\\\\\n",
       "\t4 & S14040 & 長津田店     & 14 & 神奈川県 & 神奈川県横浜市緑区長津田みなみ台五丁目 & カナガワケンヨコハマシミドリクナガツタミナミダイゴチョウメ   & 045-123-4046 & 139.4994 & 35.52398 & 1548\\\\\n",
       "\t5 & S14050 & 阿久和西店   & 14 & 神奈川県 & 神奈川県横浜市瀬谷区阿久和西一丁目     & カナガワケンヨコハマシセヤクアクワニシイッチョウメ           & 045-123-4053 & 139.4961 & 35.45918 & 1830\\\\\n",
       "\t6 & S14028 & 二ツ橋店     & 14 & 神奈川県 & 神奈川県横浜市瀬谷区二ツ橋町           & カナガワケンヨコハマシセヤクフタツバシチョウ                 & 045-123-4042 & 139.4963 & 35.46304 & 1574\\\\\n",
       "\t7 & S14012 & 本牧和田店   & 14 & 神奈川県 & 神奈川県横浜市中区本牧和田             & カナガワケンヨコハマシナカクホンモクワダ                     & 045-123-4034 & 139.6582 & 35.42156 & 1341\\\\\n",
       "\t8 & S14046 & 北山田店     & 14 & 神奈川県 & 神奈川県横浜市都筑区北山田一丁目       & カナガワケンヨコハマシツヅキクキタヤマタイッチョウメ         & 045-123-4049 & 139.5916 & 35.56189 &  831\\\\\n",
       "\t9 & S14022 & 逗子店       & 14 & 神奈川県 & 神奈川県逗子市逗子一丁目               & カナガワケンズシシズシイッチョウメ                           & 046-123-4036 & 139.5789 & 35.29642 & 1838\\\\\n",
       "\t10 & S14011 & 日吉本町店   & 14 & 神奈川県 & 神奈川県横浜市港北区日吉本町四丁目     & カナガワケンヨコハマシコウホククヒヨシホンチョウヨンチョウメ & 045-123-4033 & 139.6316 & 35.54655 &  890\\\\\n",
       "\\end{tabular}\n"
      ],
      "text/markdown": [
       "\n",
       "A data.frame: 10 × 10\n",
       "\n",
       "| <!--/--> | store_cd &lt;chr&gt; | store_name &lt;chr&gt; | prefecture_cd &lt;chr&gt; | prefecture &lt;chr&gt; | address &lt;chr&gt; | address_kana &lt;chr&gt; | tel_no &lt;chr&gt; | longitude &lt;dbl&gt; | latitude &lt;dbl&gt; | floor_area &lt;dbl&gt; |\n",
       "|---|---|---|---|---|---|---|---|---|---|---|\n",
       "| 1 | S14010 | 菊名店       | 14 | 神奈川県 | 神奈川県横浜市港北区菊名一丁目         | カナガワケンヨコハマシコウホククキクナイッチョウメ           | 045-123-4032 | 139.6326 | 35.50049 | 1732 |\n",
       "| 2 | S14033 | 阿久和店     | 14 | 神奈川県 | 神奈川県横浜市瀬谷区阿久和西一丁目     | カナガワケンヨコハマシセヤクアクワニシイッチョウメ           | 045-123-4043 | 139.4961 | 35.45918 | 1495 |\n",
       "| 3 | S14036 | 相模原中央店 | 14 | 神奈川県 | 神奈川県相模原市中央二丁目             | カナガワケンサガミハラシチュウオウニチョウメ                 | 042-123-4045 | 139.3716 | 35.57327 | 1679 |\n",
       "| 4 | S14040 | 長津田店     | 14 | 神奈川県 | 神奈川県横浜市緑区長津田みなみ台五丁目 | カナガワケンヨコハマシミドリクナガツタミナミダイゴチョウメ   | 045-123-4046 | 139.4994 | 35.52398 | 1548 |\n",
       "| 5 | S14050 | 阿久和西店   | 14 | 神奈川県 | 神奈川県横浜市瀬谷区阿久和西一丁目     | カナガワケンヨコハマシセヤクアクワニシイッチョウメ           | 045-123-4053 | 139.4961 | 35.45918 | 1830 |\n",
       "| 6 | S14028 | 二ツ橋店     | 14 | 神奈川県 | 神奈川県横浜市瀬谷区二ツ橋町           | カナガワケンヨコハマシセヤクフタツバシチョウ                 | 045-123-4042 | 139.4963 | 35.46304 | 1574 |\n",
       "| 7 | S14012 | 本牧和田店   | 14 | 神奈川県 | 神奈川県横浜市中区本牧和田             | カナガワケンヨコハマシナカクホンモクワダ                     | 045-123-4034 | 139.6582 | 35.42156 | 1341 |\n",
       "| 8 | S14046 | 北山田店     | 14 | 神奈川県 | 神奈川県横浜市都筑区北山田一丁目       | カナガワケンヨコハマシツヅキクキタヤマタイッチョウメ         | 045-123-4049 | 139.5916 | 35.56189 |  831 |\n",
       "| 9 | S14022 | 逗子店       | 14 | 神奈川県 | 神奈川県逗子市逗子一丁目               | カナガワケンズシシズシイッチョウメ                           | 046-123-4036 | 139.5789 | 35.29642 | 1838 |\n",
       "| 10 | S14011 | 日吉本町店   | 14 | 神奈川県 | 神奈川県横浜市港北区日吉本町四丁目     | カナガワケンヨコハマシコウホククヒヨシホンチョウヨンチョウメ | 045-123-4033 | 139.6316 | 35.54655 |  890 |\n",
       "\n"
      ],
      "text/plain": [
       "   store_cd store_name   prefecture_cd prefecture\n",
       "1  S14010   菊名店       14            神奈川県  \n",
       "2  S14033   阿久和店     14            神奈川県  \n",
       "3  S14036   相模原中央店 14            神奈川県  \n",
       "4  S14040   長津田店     14            神奈川県  \n",
       "5  S14050   阿久和西店   14            神奈川県  \n",
       "6  S14028   二ツ橋店     14            神奈川県  \n",
       "7  S14012   本牧和田店   14            神奈川県  \n",
       "8  S14046   北山田店     14            神奈川県  \n",
       "9  S14022   逗子店       14            神奈川県  \n",
       "10 S14011   日吉本町店   14            神奈川県  \n",
       "   address                               \n",
       "1  神奈川県横浜市港北区菊名一丁目        \n",
       "2  神奈川県横浜市瀬谷区阿久和西一丁目    \n",
       "3  神奈川県相模原市中央二丁目            \n",
       "4  神奈川県横浜市緑区長津田みなみ台五丁目\n",
       "5  神奈川県横浜市瀬谷区阿久和西一丁目    \n",
       "6  神奈川県横浜市瀬谷区二ツ橋町          \n",
       "7  神奈川県横浜市中区本牧和田            \n",
       "8  神奈川県横浜市都筑区北山田一丁目      \n",
       "9  神奈川県逗子市逗子一丁目              \n",
       "10 神奈川県横浜市港北区日吉本町四丁目    \n",
       "   address_kana                                                 tel_no      \n",
       "1  カナガワケンヨコハマシコウホククキクナイッチョウメ           045-123-4032\n",
       "2  カナガワケンヨコハマシセヤクアクワニシイッチョウメ           045-123-4043\n",
       "3  カナガワケンサガミハラシチュウオウニチョウメ                 042-123-4045\n",
       "4  カナガワケンヨコハマシミドリクナガツタミナミダイゴチョウメ   045-123-4046\n",
       "5  カナガワケンヨコハマシセヤクアクワニシイッチョウメ           045-123-4053\n",
       "6  カナガワケンヨコハマシセヤクフタツバシチョウ                 045-123-4042\n",
       "7  カナガワケンヨコハマシナカクホンモクワダ                     045-123-4034\n",
       "8  カナガワケンヨコハマシツヅキクキタヤマタイッチョウメ         045-123-4049\n",
       "9  カナガワケンズシシズシイッチョウメ                           046-123-4036\n",
       "10 カナガワケンヨコハマシコウホククヒヨシホンチョウヨンチョウメ 045-123-4033\n",
       "   longitude latitude floor_area\n",
       "1  139.6326  35.50049 1732      \n",
       "2  139.4961  35.45918 1495      \n",
       "3  139.3716  35.57327 1679      \n",
       "4  139.4994  35.52398 1548      \n",
       "5  139.4961  35.45918 1830      \n",
       "6  139.4963  35.46304 1574      \n",
       "7  139.6582  35.42156 1341      \n",
       "8  139.5916  35.56189  831      \n",
       "9  139.5789  35.29642 1838      \n",
       "10 139.6316  35.54655  890      "
      ]
     },
     "metadata": {},
     "output_type": "display_data"
    }
   ],
   "source": [
    "head(df_store %>% filter(grepl(\"^S14\", store_cd)), n=10)"
   ]
  },
  {
   "cell_type": "markdown",
   "metadata": {},
   "source": [
    "---\n",
    "> R-011: 顧客データフレーム（df_customer）から顧客ID（customer_id）の末尾が1のものだけ全項目抽出し、10件だけ表示せよ。"
   ]
  },
  {
   "cell_type": "code",
   "execution_count": 23,
   "metadata": {},
   "outputs": [
    {
     "data": {
      "text/html": [
       "<table class=\"dataframe\">\n",
       "<caption>A data.frame: 10 × 11</caption>\n",
       "<thead>\n",
       "\t<tr><th></th><th scope=col>customer_id</th><th scope=col>customer_name</th><th scope=col>gender_cd</th><th scope=col>gender</th><th scope=col>birth_day</th><th scope=col>age</th><th scope=col>postal_cd</th><th scope=col>address</th><th scope=col>application_store_cd</th><th scope=col>application_date</th><th scope=col>status_cd</th></tr>\n",
       "\t<tr><th></th><th scope=col>&lt;chr&gt;</th><th scope=col>&lt;chr&gt;</th><th scope=col>&lt;chr&gt;</th><th scope=col>&lt;chr&gt;</th><th scope=col>&lt;date&gt;</th><th scope=col>&lt;int&gt;</th><th scope=col>&lt;chr&gt;</th><th scope=col>&lt;chr&gt;</th><th scope=col>&lt;chr&gt;</th><th scope=col>&lt;chr&gt;</th><th scope=col>&lt;chr&gt;</th></tr>\n",
       "</thead>\n",
       "<tbody>\n",
       "\t<tr><th scope=row>1</th><td>CS037613000071</td><td>六角 雅彦  </td><td>9</td><td>不明</td><td>1952-04-01</td><td>66</td><td>136-0076</td><td>東京都江東区南砂**********          </td><td>S13037</td><td>20150414</td><td>0-00000000-0</td></tr>\n",
       "\t<tr><th scope=row>2</th><td>CS028811000001</td><td>堀井 かおり</td><td>1</td><td>女性</td><td>1933-03-27</td><td>86</td><td>245-0016</td><td>神奈川県横浜市泉区和泉町**********  </td><td>S14028</td><td>20160115</td><td>0-00000000-0</td></tr>\n",
       "\t<tr><th scope=row>3</th><td>CS040412000191</td><td>川井 郁恵  </td><td>1</td><td>女性</td><td>1977-01-05</td><td>42</td><td>226-0021</td><td>神奈川県横浜市緑区北八朔町**********</td><td>S14040</td><td>20151101</td><td>1-20091025-4</td></tr>\n",
       "\t<tr><th scope=row>4</th><td>CS028314000011</td><td>小菅 あおい</td><td>1</td><td>女性</td><td>1983-11-26</td><td>35</td><td>246-0038</td><td>神奈川県横浜市瀬谷区宮沢**********  </td><td>S14028</td><td>20151123</td><td>1-20080426-5</td></tr>\n",
       "\t<tr><th scope=row>5</th><td>CS039212000051</td><td>藤島 恵梨香</td><td>1</td><td>女性</td><td>1997-02-03</td><td>22</td><td>166-0001</td><td>東京都杉並区阿佐谷北**********      </td><td>S13039</td><td>20171121</td><td>1-20100215-4</td></tr>\n",
       "\t<tr><th scope=row>6</th><td>CS015412000111</td><td>松居 奈月  </td><td>1</td><td>女性</td><td>1972-10-04</td><td>46</td><td>136-0071</td><td>東京都江東区亀戸**********          </td><td>S13015</td><td>20150629</td><td>0-00000000-0</td></tr>\n",
       "\t<tr><th scope=row>7</th><td>CS004702000041</td><td>野島 洋    </td><td>0</td><td>男性</td><td>1943-08-24</td><td>75</td><td>176-0022</td><td>東京都練馬区向山**********          </td><td>S13004</td><td>20170218</td><td>0-00000000-0</td></tr>\n",
       "\t<tr><th scope=row>8</th><td>CS041515000001</td><td>栗田 千夏  </td><td>1</td><td>女性</td><td>1967-01-02</td><td>52</td><td>206-0001</td><td>東京都多摩市和田**********          </td><td>S13041</td><td>20160422</td><td>E-20100803-F</td></tr>\n",
       "\t<tr><th scope=row>9</th><td>CS029313000221</td><td>北条 ひかり</td><td>1</td><td>女性</td><td>1987-06-19</td><td>31</td><td>279-0011</td><td>千葉県浦安市美浜**********          </td><td>S12029</td><td>20180810</td><td>0-00000000-0</td></tr>\n",
       "\t<tr><th scope=row>10</th><td>CS034312000071</td><td>望月 奈央  </td><td>1</td><td>女性</td><td>1980-09-20</td><td>38</td><td>213-0026</td><td>神奈川県川崎市高津区久末**********  </td><td>S14034</td><td>20160106</td><td>0-00000000-0</td></tr>\n",
       "</tbody>\n",
       "</table>\n"
      ],
      "text/latex": [
       "A data.frame: 10 × 11\n",
       "\\begin{tabular}{r|lllllllllll}\n",
       "  & customer\\_id & customer\\_name & gender\\_cd & gender & birth\\_day & age & postal\\_cd & address & application\\_store\\_cd & application\\_date & status\\_cd\\\\\n",
       "  & <chr> & <chr> & <chr> & <chr> & <date> & <int> & <chr> & <chr> & <chr> & <chr> & <chr>\\\\\n",
       "\\hline\n",
       "\t1 & CS037613000071 & 六角 雅彦   & 9 & 不明 & 1952-04-01 & 66 & 136-0076 & 東京都江東区南砂**********           & S13037 & 20150414 & 0-00000000-0\\\\\n",
       "\t2 & CS028811000001 & 堀井 かおり & 1 & 女性 & 1933-03-27 & 86 & 245-0016 & 神奈川県横浜市泉区和泉町**********   & S14028 & 20160115 & 0-00000000-0\\\\\n",
       "\t3 & CS040412000191 & 川井 郁恵   & 1 & 女性 & 1977-01-05 & 42 & 226-0021 & 神奈川県横浜市緑区北八朔町********** & S14040 & 20151101 & 1-20091025-4\\\\\n",
       "\t4 & CS028314000011 & 小菅 あおい & 1 & 女性 & 1983-11-26 & 35 & 246-0038 & 神奈川県横浜市瀬谷区宮沢**********   & S14028 & 20151123 & 1-20080426-5\\\\\n",
       "\t5 & CS039212000051 & 藤島 恵梨香 & 1 & 女性 & 1997-02-03 & 22 & 166-0001 & 東京都杉並区阿佐谷北**********       & S13039 & 20171121 & 1-20100215-4\\\\\n",
       "\t6 & CS015412000111 & 松居 奈月   & 1 & 女性 & 1972-10-04 & 46 & 136-0071 & 東京都江東区亀戸**********           & S13015 & 20150629 & 0-00000000-0\\\\\n",
       "\t7 & CS004702000041 & 野島 洋     & 0 & 男性 & 1943-08-24 & 75 & 176-0022 & 東京都練馬区向山**********           & S13004 & 20170218 & 0-00000000-0\\\\\n",
       "\t8 & CS041515000001 & 栗田 千夏   & 1 & 女性 & 1967-01-02 & 52 & 206-0001 & 東京都多摩市和田**********           & S13041 & 20160422 & E-20100803-F\\\\\n",
       "\t9 & CS029313000221 & 北条 ひかり & 1 & 女性 & 1987-06-19 & 31 & 279-0011 & 千葉県浦安市美浜**********           & S12029 & 20180810 & 0-00000000-0\\\\\n",
       "\t10 & CS034312000071 & 望月 奈央   & 1 & 女性 & 1980-09-20 & 38 & 213-0026 & 神奈川県川崎市高津区久末**********   & S14034 & 20160106 & 0-00000000-0\\\\\n",
       "\\end{tabular}\n"
      ],
      "text/markdown": [
       "\n",
       "A data.frame: 10 × 11\n",
       "\n",
       "| <!--/--> | customer_id &lt;chr&gt; | customer_name &lt;chr&gt; | gender_cd &lt;chr&gt; | gender &lt;chr&gt; | birth_day &lt;date&gt; | age &lt;int&gt; | postal_cd &lt;chr&gt; | address &lt;chr&gt; | application_store_cd &lt;chr&gt; | application_date &lt;chr&gt; | status_cd &lt;chr&gt; |\n",
       "|---|---|---|---|---|---|---|---|---|---|---|---|\n",
       "| 1 | CS037613000071 | 六角 雅彦   | 9 | 不明 | 1952-04-01 | 66 | 136-0076 | 東京都江東区南砂**********           | S13037 | 20150414 | 0-00000000-0 |\n",
       "| 2 | CS028811000001 | 堀井 かおり | 1 | 女性 | 1933-03-27 | 86 | 245-0016 | 神奈川県横浜市泉区和泉町**********   | S14028 | 20160115 | 0-00000000-0 |\n",
       "| 3 | CS040412000191 | 川井 郁恵   | 1 | 女性 | 1977-01-05 | 42 | 226-0021 | 神奈川県横浜市緑区北八朔町********** | S14040 | 20151101 | 1-20091025-4 |\n",
       "| 4 | CS028314000011 | 小菅 あおい | 1 | 女性 | 1983-11-26 | 35 | 246-0038 | 神奈川県横浜市瀬谷区宮沢**********   | S14028 | 20151123 | 1-20080426-5 |\n",
       "| 5 | CS039212000051 | 藤島 恵梨香 | 1 | 女性 | 1997-02-03 | 22 | 166-0001 | 東京都杉並区阿佐谷北**********       | S13039 | 20171121 | 1-20100215-4 |\n",
       "| 6 | CS015412000111 | 松居 奈月   | 1 | 女性 | 1972-10-04 | 46 | 136-0071 | 東京都江東区亀戸**********           | S13015 | 20150629 | 0-00000000-0 |\n",
       "| 7 | CS004702000041 | 野島 洋     | 0 | 男性 | 1943-08-24 | 75 | 176-0022 | 東京都練馬区向山**********           | S13004 | 20170218 | 0-00000000-0 |\n",
       "| 8 | CS041515000001 | 栗田 千夏   | 1 | 女性 | 1967-01-02 | 52 | 206-0001 | 東京都多摩市和田**********           | S13041 | 20160422 | E-20100803-F |\n",
       "| 9 | CS029313000221 | 北条 ひかり | 1 | 女性 | 1987-06-19 | 31 | 279-0011 | 千葉県浦安市美浜**********           | S12029 | 20180810 | 0-00000000-0 |\n",
       "| 10 | CS034312000071 | 望月 奈央   | 1 | 女性 | 1980-09-20 | 38 | 213-0026 | 神奈川県川崎市高津区久末**********   | S14034 | 20160106 | 0-00000000-0 |\n",
       "\n"
      ],
      "text/plain": [
       "   customer_id    customer_name gender_cd gender birth_day  age postal_cd\n",
       "1  CS037613000071 六角 雅彦     9         不明   1952-04-01 66  136-0076 \n",
       "2  CS028811000001 堀井 かおり   1         女性   1933-03-27 86  245-0016 \n",
       "3  CS040412000191 川井 郁恵     1         女性   1977-01-05 42  226-0021 \n",
       "4  CS028314000011 小菅 あおい   1         女性   1983-11-26 35  246-0038 \n",
       "5  CS039212000051 藤島 恵梨香   1         女性   1997-02-03 22  166-0001 \n",
       "6  CS015412000111 松居 奈月     1         女性   1972-10-04 46  136-0071 \n",
       "7  CS004702000041 野島 洋       0         男性   1943-08-24 75  176-0022 \n",
       "8  CS041515000001 栗田 千夏     1         女性   1967-01-02 52  206-0001 \n",
       "9  CS029313000221 北条 ひかり   1         女性   1987-06-19 31  279-0011 \n",
       "10 CS034312000071 望月 奈央     1         女性   1980-09-20 38  213-0026 \n",
       "   address                              application_store_cd application_date\n",
       "1  東京都江東区南砂**********           S13037               20150414        \n",
       "2  神奈川県横浜市泉区和泉町**********   S14028               20160115        \n",
       "3  神奈川県横浜市緑区北八朔町********** S14040               20151101        \n",
       "4  神奈川県横浜市瀬谷区宮沢**********   S14028               20151123        \n",
       "5  東京都杉並区阿佐谷北**********       S13039               20171121        \n",
       "6  東京都江東区亀戸**********           S13015               20150629        \n",
       "7  東京都練馬区向山**********           S13004               20170218        \n",
       "8  東京都多摩市和田**********           S13041               20160422        \n",
       "9  千葉県浦安市美浜**********           S12029               20180810        \n",
       "10 神奈川県川崎市高津区久末**********   S14034               20160106        \n",
       "   status_cd   \n",
       "1  0-00000000-0\n",
       "2  0-00000000-0\n",
       "3  1-20091025-4\n",
       "4  1-20080426-5\n",
       "5  1-20100215-4\n",
       "6  0-00000000-0\n",
       "7  0-00000000-0\n",
       "8  E-20100803-F\n",
       "9  0-00000000-0\n",
       "10 0-00000000-0"
      ]
     },
     "metadata": {},
     "output_type": "display_data"
    }
   ],
   "source": [
    "head(df_customer %>% filter(grepl(\"1$\", customer_id)), n=10)"
   ]
  },
  {
   "cell_type": "markdown",
   "metadata": {},
   "source": [
    "---\n",
    "> R-012: 店舗データフレーム（df_store）から横浜市の店舗だけ全項目表示せよ。"
   ]
  },
  {
   "cell_type": "code",
   "execution_count": 25,
   "metadata": {},
   "outputs": [
    {
     "data": {
      "text/html": [
       "<table class=\"dataframe\">\n",
       "<caption>A data.frame: 11 × 10</caption>\n",
       "<thead>\n",
       "\t<tr><th scope=col>store_cd</th><th scope=col>store_name</th><th scope=col>prefecture_cd</th><th scope=col>prefecture</th><th scope=col>address</th><th scope=col>address_kana</th><th scope=col>tel_no</th><th scope=col>longitude</th><th scope=col>latitude</th><th scope=col>floor_area</th></tr>\n",
       "\t<tr><th scope=col>&lt;chr&gt;</th><th scope=col>&lt;chr&gt;</th><th scope=col>&lt;chr&gt;</th><th scope=col>&lt;chr&gt;</th><th scope=col>&lt;chr&gt;</th><th scope=col>&lt;chr&gt;</th><th scope=col>&lt;chr&gt;</th><th scope=col>&lt;dbl&gt;</th><th scope=col>&lt;dbl&gt;</th><th scope=col>&lt;dbl&gt;</th></tr>\n",
       "</thead>\n",
       "<tbody>\n",
       "\t<tr><td>S14010</td><td>菊名店    </td><td>14</td><td>神奈川県</td><td>神奈川県横浜市港北区菊名一丁目        </td><td>カナガワケンヨコハマシコウホククキクナイッチョウメ          </td><td>045-123-4032</td><td>139.6326</td><td>35.50049</td><td>1732</td></tr>\n",
       "\t<tr><td>S14033</td><td>阿久和店  </td><td>14</td><td>神奈川県</td><td>神奈川県横浜市瀬谷区阿久和西一丁目    </td><td>カナガワケンヨコハマシセヤクアクワニシイッチョウメ          </td><td>045-123-4043</td><td>139.4961</td><td>35.45918</td><td>1495</td></tr>\n",
       "\t<tr><td>S14040</td><td>長津田店  </td><td>14</td><td>神奈川県</td><td>神奈川県横浜市緑区長津田みなみ台五丁目</td><td>カナガワケンヨコハマシミドリクナガツタミナミダイゴチョウメ  </td><td>045-123-4046</td><td>139.4994</td><td>35.52398</td><td>1548</td></tr>\n",
       "\t<tr><td>S14050</td><td>阿久和西店</td><td>14</td><td>神奈川県</td><td>神奈川県横浜市瀬谷区阿久和西一丁目    </td><td>カナガワケンヨコハマシセヤクアクワニシイッチョウメ          </td><td>045-123-4053</td><td>139.4961</td><td>35.45918</td><td>1830</td></tr>\n",
       "\t<tr><td>S14028</td><td>二ツ橋店  </td><td>14</td><td>神奈川県</td><td>神奈川県横浜市瀬谷区二ツ橋町          </td><td>カナガワケンヨコハマシセヤクフタツバシチョウ                </td><td>045-123-4042</td><td>139.4963</td><td>35.46304</td><td>1574</td></tr>\n",
       "\t<tr><td>S14012</td><td>本牧和田店</td><td>14</td><td>神奈川県</td><td>神奈川県横浜市中区本牧和田            </td><td>カナガワケンヨコハマシナカクホンモクワダ                    </td><td>045-123-4034</td><td>139.6582</td><td>35.42156</td><td>1341</td></tr>\n",
       "\t<tr><td>S14046</td><td>北山田店  </td><td>14</td><td>神奈川県</td><td>神奈川県横浜市都筑区北山田一丁目      </td><td>カナガワケンヨコハマシツヅキクキタヤマタイッチョウメ        </td><td>045-123-4049</td><td>139.5916</td><td>35.56189</td><td> 831</td></tr>\n",
       "\t<tr><td>S14011</td><td>日吉本町店</td><td>14</td><td>神奈川県</td><td>神奈川県横浜市港北区日吉本町四丁目    </td><td>カナガワケンヨコハマシコウホククヒヨシホンチョウヨンチョウメ</td><td>045-123-4033</td><td>139.6316</td><td>35.54655</td><td> 890</td></tr>\n",
       "\t<tr><td>S14048</td><td>中川中央店</td><td>14</td><td>神奈川県</td><td>神奈川県横浜市都筑区中川中央二丁目    </td><td>カナガワケンヨコハマシツヅキクナカガワチュウオウニチョウメ  </td><td>045-123-4051</td><td>139.5758</td><td>35.54912</td><td>1657</td></tr>\n",
       "\t<tr><td>S14042</td><td>新山下店  </td><td>14</td><td>神奈川県</td><td>神奈川県横浜市中区新山下二丁目        </td><td>カナガワケンヨコハマシナカクシンヤマシタニチョウメ          </td><td>045-123-4047</td><td>139.6593</td><td>35.43894</td><td>1044</td></tr>\n",
       "\t<tr><td>S14006</td><td>葛が谷店  </td><td>14</td><td>神奈川県</td><td>神奈川県横浜市都筑区葛が谷            </td><td>カナガワケンヨコハマシツヅキククズガヤ                      </td><td>045-123-4031</td><td>139.5633</td><td>35.53573</td><td>1886</td></tr>\n",
       "</tbody>\n",
       "</table>\n"
      ],
      "text/latex": [
       "A data.frame: 11 × 10\n",
       "\\begin{tabular}{llllllllll}\n",
       " store\\_cd & store\\_name & prefecture\\_cd & prefecture & address & address\\_kana & tel\\_no & longitude & latitude & floor\\_area\\\\\n",
       " <chr> & <chr> & <chr> & <chr> & <chr> & <chr> & <chr> & <dbl> & <dbl> & <dbl>\\\\\n",
       "\\hline\n",
       "\t S14010 & 菊名店     & 14 & 神奈川県 & 神奈川県横浜市港北区菊名一丁目         & カナガワケンヨコハマシコウホククキクナイッチョウメ           & 045-123-4032 & 139.6326 & 35.50049 & 1732\\\\\n",
       "\t S14033 & 阿久和店   & 14 & 神奈川県 & 神奈川県横浜市瀬谷区阿久和西一丁目     & カナガワケンヨコハマシセヤクアクワニシイッチョウメ           & 045-123-4043 & 139.4961 & 35.45918 & 1495\\\\\n",
       "\t S14040 & 長津田店   & 14 & 神奈川県 & 神奈川県横浜市緑区長津田みなみ台五丁目 & カナガワケンヨコハマシミドリクナガツタミナミダイゴチョウメ   & 045-123-4046 & 139.4994 & 35.52398 & 1548\\\\\n",
       "\t S14050 & 阿久和西店 & 14 & 神奈川県 & 神奈川県横浜市瀬谷区阿久和西一丁目     & カナガワケンヨコハマシセヤクアクワニシイッチョウメ           & 045-123-4053 & 139.4961 & 35.45918 & 1830\\\\\n",
       "\t S14028 & 二ツ橋店   & 14 & 神奈川県 & 神奈川県横浜市瀬谷区二ツ橋町           & カナガワケンヨコハマシセヤクフタツバシチョウ                 & 045-123-4042 & 139.4963 & 35.46304 & 1574\\\\\n",
       "\t S14012 & 本牧和田店 & 14 & 神奈川県 & 神奈川県横浜市中区本牧和田             & カナガワケンヨコハマシナカクホンモクワダ                     & 045-123-4034 & 139.6582 & 35.42156 & 1341\\\\\n",
       "\t S14046 & 北山田店   & 14 & 神奈川県 & 神奈川県横浜市都筑区北山田一丁目       & カナガワケンヨコハマシツヅキクキタヤマタイッチョウメ         & 045-123-4049 & 139.5916 & 35.56189 &  831\\\\\n",
       "\t S14011 & 日吉本町店 & 14 & 神奈川県 & 神奈川県横浜市港北区日吉本町四丁目     & カナガワケンヨコハマシコウホククヒヨシホンチョウヨンチョウメ & 045-123-4033 & 139.6316 & 35.54655 &  890\\\\\n",
       "\t S14048 & 中川中央店 & 14 & 神奈川県 & 神奈川県横浜市都筑区中川中央二丁目     & カナガワケンヨコハマシツヅキクナカガワチュウオウニチョウメ   & 045-123-4051 & 139.5758 & 35.54912 & 1657\\\\\n",
       "\t S14042 & 新山下店   & 14 & 神奈川県 & 神奈川県横浜市中区新山下二丁目         & カナガワケンヨコハマシナカクシンヤマシタニチョウメ           & 045-123-4047 & 139.6593 & 35.43894 & 1044\\\\\n",
       "\t S14006 & 葛が谷店   & 14 & 神奈川県 & 神奈川県横浜市都筑区葛が谷             & カナガワケンヨコハマシツヅキククズガヤ                       & 045-123-4031 & 139.5633 & 35.53573 & 1886\\\\\n",
       "\\end{tabular}\n"
      ],
      "text/markdown": [
       "\n",
       "A data.frame: 11 × 10\n",
       "\n",
       "| store_cd &lt;chr&gt; | store_name &lt;chr&gt; | prefecture_cd &lt;chr&gt; | prefecture &lt;chr&gt; | address &lt;chr&gt; | address_kana &lt;chr&gt; | tel_no &lt;chr&gt; | longitude &lt;dbl&gt; | latitude &lt;dbl&gt; | floor_area &lt;dbl&gt; |\n",
       "|---|---|---|---|---|---|---|---|---|---|\n",
       "| S14010 | 菊名店     | 14 | 神奈川県 | 神奈川県横浜市港北区菊名一丁目         | カナガワケンヨコハマシコウホククキクナイッチョウメ           | 045-123-4032 | 139.6326 | 35.50049 | 1732 |\n",
       "| S14033 | 阿久和店   | 14 | 神奈川県 | 神奈川県横浜市瀬谷区阿久和西一丁目     | カナガワケンヨコハマシセヤクアクワニシイッチョウメ           | 045-123-4043 | 139.4961 | 35.45918 | 1495 |\n",
       "| S14040 | 長津田店   | 14 | 神奈川県 | 神奈川県横浜市緑区長津田みなみ台五丁目 | カナガワケンヨコハマシミドリクナガツタミナミダイゴチョウメ   | 045-123-4046 | 139.4994 | 35.52398 | 1548 |\n",
       "| S14050 | 阿久和西店 | 14 | 神奈川県 | 神奈川県横浜市瀬谷区阿久和西一丁目     | カナガワケンヨコハマシセヤクアクワニシイッチョウメ           | 045-123-4053 | 139.4961 | 35.45918 | 1830 |\n",
       "| S14028 | 二ツ橋店   | 14 | 神奈川県 | 神奈川県横浜市瀬谷区二ツ橋町           | カナガワケンヨコハマシセヤクフタツバシチョウ                 | 045-123-4042 | 139.4963 | 35.46304 | 1574 |\n",
       "| S14012 | 本牧和田店 | 14 | 神奈川県 | 神奈川県横浜市中区本牧和田             | カナガワケンヨコハマシナカクホンモクワダ                     | 045-123-4034 | 139.6582 | 35.42156 | 1341 |\n",
       "| S14046 | 北山田店   | 14 | 神奈川県 | 神奈川県横浜市都筑区北山田一丁目       | カナガワケンヨコハマシツヅキクキタヤマタイッチョウメ         | 045-123-4049 | 139.5916 | 35.56189 |  831 |\n",
       "| S14011 | 日吉本町店 | 14 | 神奈川県 | 神奈川県横浜市港北区日吉本町四丁目     | カナガワケンヨコハマシコウホククヒヨシホンチョウヨンチョウメ | 045-123-4033 | 139.6316 | 35.54655 |  890 |\n",
       "| S14048 | 中川中央店 | 14 | 神奈川県 | 神奈川県横浜市都筑区中川中央二丁目     | カナガワケンヨコハマシツヅキクナカガワチュウオウニチョウメ   | 045-123-4051 | 139.5758 | 35.54912 | 1657 |\n",
       "| S14042 | 新山下店   | 14 | 神奈川県 | 神奈川県横浜市中区新山下二丁目         | カナガワケンヨコハマシナカクシンヤマシタニチョウメ           | 045-123-4047 | 139.6593 | 35.43894 | 1044 |\n",
       "| S14006 | 葛が谷店   | 14 | 神奈川県 | 神奈川県横浜市都筑区葛が谷             | カナガワケンヨコハマシツヅキククズガヤ                       | 045-123-4031 | 139.5633 | 35.53573 | 1886 |\n",
       "\n"
      ],
      "text/plain": [
       "   store_cd store_name prefecture_cd prefecture\n",
       "1  S14010   菊名店     14            神奈川県  \n",
       "2  S14033   阿久和店   14            神奈川県  \n",
       "3  S14040   長津田店   14            神奈川県  \n",
       "4  S14050   阿久和西店 14            神奈川県  \n",
       "5  S14028   二ツ橋店   14            神奈川県  \n",
       "6  S14012   本牧和田店 14            神奈川県  \n",
       "7  S14046   北山田店   14            神奈川県  \n",
       "8  S14011   日吉本町店 14            神奈川県  \n",
       "9  S14048   中川中央店 14            神奈川県  \n",
       "10 S14042   新山下店   14            神奈川県  \n",
       "11 S14006   葛が谷店   14            神奈川県  \n",
       "   address                               \n",
       "1  神奈川県横浜市港北区菊名一丁目        \n",
       "2  神奈川県横浜市瀬谷区阿久和西一丁目    \n",
       "3  神奈川県横浜市緑区長津田みなみ台五丁目\n",
       "4  神奈川県横浜市瀬谷区阿久和西一丁目    \n",
       "5  神奈川県横浜市瀬谷区二ツ橋町          \n",
       "6  神奈川県横浜市中区本牧和田            \n",
       "7  神奈川県横浜市都筑区北山田一丁目      \n",
       "8  神奈川県横浜市港北区日吉本町四丁目    \n",
       "9  神奈川県横浜市都筑区中川中央二丁目    \n",
       "10 神奈川県横浜市中区新山下二丁目        \n",
       "11 神奈川県横浜市都筑区葛が谷            \n",
       "   address_kana                                                 tel_no      \n",
       "1  カナガワケンヨコハマシコウホククキクナイッチョウメ           045-123-4032\n",
       "2  カナガワケンヨコハマシセヤクアクワニシイッチョウメ           045-123-4043\n",
       "3  カナガワケンヨコハマシミドリクナガツタミナミダイゴチョウメ   045-123-4046\n",
       "4  カナガワケンヨコハマシセヤクアクワニシイッチョウメ           045-123-4053\n",
       "5  カナガワケンヨコハマシセヤクフタツバシチョウ                 045-123-4042\n",
       "6  カナガワケンヨコハマシナカクホンモクワダ                     045-123-4034\n",
       "7  カナガワケンヨコハマシツヅキクキタヤマタイッチョウメ         045-123-4049\n",
       "8  カナガワケンヨコハマシコウホククヒヨシホンチョウヨンチョウメ 045-123-4033\n",
       "9  カナガワケンヨコハマシツヅキクナカガワチュウオウニチョウメ   045-123-4051\n",
       "10 カナガワケンヨコハマシナカクシンヤマシタニチョウメ           045-123-4047\n",
       "11 カナガワケンヨコハマシツヅキククズガヤ                       045-123-4031\n",
       "   longitude latitude floor_area\n",
       "1  139.6326  35.50049 1732      \n",
       "2  139.4961  35.45918 1495      \n",
       "3  139.4994  35.52398 1548      \n",
       "4  139.4961  35.45918 1830      \n",
       "5  139.4963  35.46304 1574      \n",
       "6  139.6582  35.42156 1341      \n",
       "7  139.5916  35.56189  831      \n",
       "8  139.6316  35.54655  890      \n",
       "9  139.5758  35.54912 1657      \n",
       "10 139.6593  35.43894 1044      \n",
       "11 139.5633  35.53573 1886      "
      ]
     },
     "metadata": {},
     "output_type": "display_data"
    }
   ],
   "source": [
    "df_store %>% filter(grepl(\"横浜市\", address))"
   ]
  },
  {
   "cell_type": "markdown",
   "metadata": {},
   "source": [
    "---\n",
    "> R-013: 顧客データフレーム（df_customer）から、ステータスコード（status_cd）の先頭がアルファベットのA〜Fで始まるデータを全項目抽出し、10件だけ表示せよ。"
   ]
  },
  {
   "cell_type": "code",
   "execution_count": 26,
   "metadata": {},
   "outputs": [
    {
     "data": {
      "text/html": [
       "<table class=\"dataframe\">\n",
       "<caption>A data.frame: 10 × 11</caption>\n",
       "<thead>\n",
       "\t<tr><th></th><th scope=col>customer_id</th><th scope=col>customer_name</th><th scope=col>gender_cd</th><th scope=col>gender</th><th scope=col>birth_day</th><th scope=col>age</th><th scope=col>postal_cd</th><th scope=col>address</th><th scope=col>application_store_cd</th><th scope=col>application_date</th><th scope=col>status_cd</th></tr>\n",
       "\t<tr><th></th><th scope=col>&lt;chr&gt;</th><th scope=col>&lt;chr&gt;</th><th scope=col>&lt;chr&gt;</th><th scope=col>&lt;chr&gt;</th><th scope=col>&lt;date&gt;</th><th scope=col>&lt;int&gt;</th><th scope=col>&lt;chr&gt;</th><th scope=col>&lt;chr&gt;</th><th scope=col>&lt;chr&gt;</th><th scope=col>&lt;chr&gt;</th><th scope=col>&lt;chr&gt;</th></tr>\n",
       "</thead>\n",
       "<tbody>\n",
       "\t<tr><th scope=row>1</th><td>CS031415000172</td><td>宇多田 貴美子</td><td>1</td><td>女性</td><td>1976-10-04</td><td>42</td><td>151-0053</td><td>東京都渋谷区代々木**********          </td><td>S13031</td><td>20150529</td><td>D-20100325-C</td></tr>\n",
       "\t<tr><th scope=row>2</th><td>CS015414000103</td><td>奥野 陽子    </td><td>1</td><td>女性</td><td>1977-08-09</td><td>41</td><td>136-0073</td><td>東京都江東区北砂**********            </td><td>S13015</td><td>20150722</td><td>B-20100609-B</td></tr>\n",
       "\t<tr><th scope=row>3</th><td>CS011215000048</td><td>芦田 沙耶    </td><td>1</td><td>女性</td><td>1992-02-01</td><td>27</td><td>223-0062</td><td>神奈川県横浜市港北区日吉本町**********</td><td>S14011</td><td>20150228</td><td>C-20100421-9</td></tr>\n",
       "\t<tr><th scope=row>4</th><td>CS029415000023</td><td>梅田 里穂    </td><td>1</td><td>女性</td><td>1976-01-17</td><td>43</td><td>279-0043</td><td>千葉県浦安市富士見**********          </td><td>S12029</td><td>20150610</td><td>D-20100918-E</td></tr>\n",
       "\t<tr><th scope=row>5</th><td>CS035415000029</td><td>寺沢 真希    </td><td>9</td><td>不明</td><td>1977-09-27</td><td>41</td><td>158-0096</td><td>東京都世田谷区玉川台**********        </td><td>S13035</td><td>20141220</td><td>F-20101029-F</td></tr>\n",
       "\t<tr><th scope=row>6</th><td>CS031415000106</td><td>宇野 由美子  </td><td>1</td><td>女性</td><td>1970-02-26</td><td>49</td><td>151-0053</td><td>東京都渋谷区代々木**********          </td><td>S13031</td><td>20150201</td><td>F-20100511-E</td></tr>\n",
       "\t<tr><th scope=row>7</th><td>CS029215000025</td><td>石倉 美帆    </td><td>1</td><td>女性</td><td>1993-09-28</td><td>25</td><td>279-0022</td><td>千葉県浦安市今川**********            </td><td>S12029</td><td>20150708</td><td>B-20100820-C</td></tr>\n",
       "\t<tr><th scope=row>8</th><td>CS033605000005</td><td>猪股 雄太    </td><td>0</td><td>男性</td><td>1955-12-05</td><td>63</td><td>246-0031</td><td>神奈川県横浜市瀬谷区瀬谷**********    </td><td>S14033</td><td>20150425</td><td>F-20100917-E</td></tr>\n",
       "\t<tr><th scope=row>9</th><td>CS033415000229</td><td>板垣 菜々美  </td><td>1</td><td>女性</td><td>1977-11-07</td><td>41</td><td>246-0021</td><td>神奈川県横浜市瀬谷区二ツ橋町**********</td><td>S14033</td><td>20150712</td><td>F-20100326-E</td></tr>\n",
       "\t<tr><th scope=row>10</th><td>CS008415000145</td><td>黒谷 麻緒    </td><td>1</td><td>女性</td><td>1977-06-27</td><td>41</td><td>157-0067</td><td>東京都世田谷区喜多見**********        </td><td>S13008</td><td>20150829</td><td>F-20100622-F</td></tr>\n",
       "</tbody>\n",
       "</table>\n"
      ],
      "text/latex": [
       "A data.frame: 10 × 11\n",
       "\\begin{tabular}{r|lllllllllll}\n",
       "  & customer\\_id & customer\\_name & gender\\_cd & gender & birth\\_day & age & postal\\_cd & address & application\\_store\\_cd & application\\_date & status\\_cd\\\\\n",
       "  & <chr> & <chr> & <chr> & <chr> & <date> & <int> & <chr> & <chr> & <chr> & <chr> & <chr>\\\\\n",
       "\\hline\n",
       "\t1 & CS031415000172 & 宇多田 貴美子 & 1 & 女性 & 1976-10-04 & 42 & 151-0053 & 東京都渋谷区代々木**********           & S13031 & 20150529 & D-20100325-C\\\\\n",
       "\t2 & CS015414000103 & 奥野 陽子     & 1 & 女性 & 1977-08-09 & 41 & 136-0073 & 東京都江東区北砂**********             & S13015 & 20150722 & B-20100609-B\\\\\n",
       "\t3 & CS011215000048 & 芦田 沙耶     & 1 & 女性 & 1992-02-01 & 27 & 223-0062 & 神奈川県横浜市港北区日吉本町********** & S14011 & 20150228 & C-20100421-9\\\\\n",
       "\t4 & CS029415000023 & 梅田 里穂     & 1 & 女性 & 1976-01-17 & 43 & 279-0043 & 千葉県浦安市富士見**********           & S12029 & 20150610 & D-20100918-E\\\\\n",
       "\t5 & CS035415000029 & 寺沢 真希     & 9 & 不明 & 1977-09-27 & 41 & 158-0096 & 東京都世田谷区玉川台**********         & S13035 & 20141220 & F-20101029-F\\\\\n",
       "\t6 & CS031415000106 & 宇野 由美子   & 1 & 女性 & 1970-02-26 & 49 & 151-0053 & 東京都渋谷区代々木**********           & S13031 & 20150201 & F-20100511-E\\\\\n",
       "\t7 & CS029215000025 & 石倉 美帆     & 1 & 女性 & 1993-09-28 & 25 & 279-0022 & 千葉県浦安市今川**********             & S12029 & 20150708 & B-20100820-C\\\\\n",
       "\t8 & CS033605000005 & 猪股 雄太     & 0 & 男性 & 1955-12-05 & 63 & 246-0031 & 神奈川県横浜市瀬谷区瀬谷**********     & S14033 & 20150425 & F-20100917-E\\\\\n",
       "\t9 & CS033415000229 & 板垣 菜々美   & 1 & 女性 & 1977-11-07 & 41 & 246-0021 & 神奈川県横浜市瀬谷区二ツ橋町********** & S14033 & 20150712 & F-20100326-E\\\\\n",
       "\t10 & CS008415000145 & 黒谷 麻緒     & 1 & 女性 & 1977-06-27 & 41 & 157-0067 & 東京都世田谷区喜多見**********         & S13008 & 20150829 & F-20100622-F\\\\\n",
       "\\end{tabular}\n"
      ],
      "text/markdown": [
       "\n",
       "A data.frame: 10 × 11\n",
       "\n",
       "| <!--/--> | customer_id &lt;chr&gt; | customer_name &lt;chr&gt; | gender_cd &lt;chr&gt; | gender &lt;chr&gt; | birth_day &lt;date&gt; | age &lt;int&gt; | postal_cd &lt;chr&gt; | address &lt;chr&gt; | application_store_cd &lt;chr&gt; | application_date &lt;chr&gt; | status_cd &lt;chr&gt; |\n",
       "|---|---|---|---|---|---|---|---|---|---|---|---|\n",
       "| 1 | CS031415000172 | 宇多田 貴美子 | 1 | 女性 | 1976-10-04 | 42 | 151-0053 | 東京都渋谷区代々木**********           | S13031 | 20150529 | D-20100325-C |\n",
       "| 2 | CS015414000103 | 奥野 陽子     | 1 | 女性 | 1977-08-09 | 41 | 136-0073 | 東京都江東区北砂**********             | S13015 | 20150722 | B-20100609-B |\n",
       "| 3 | CS011215000048 | 芦田 沙耶     | 1 | 女性 | 1992-02-01 | 27 | 223-0062 | 神奈川県横浜市港北区日吉本町********** | S14011 | 20150228 | C-20100421-9 |\n",
       "| 4 | CS029415000023 | 梅田 里穂     | 1 | 女性 | 1976-01-17 | 43 | 279-0043 | 千葉県浦安市富士見**********           | S12029 | 20150610 | D-20100918-E |\n",
       "| 5 | CS035415000029 | 寺沢 真希     | 9 | 不明 | 1977-09-27 | 41 | 158-0096 | 東京都世田谷区玉川台**********         | S13035 | 20141220 | F-20101029-F |\n",
       "| 6 | CS031415000106 | 宇野 由美子   | 1 | 女性 | 1970-02-26 | 49 | 151-0053 | 東京都渋谷区代々木**********           | S13031 | 20150201 | F-20100511-E |\n",
       "| 7 | CS029215000025 | 石倉 美帆     | 1 | 女性 | 1993-09-28 | 25 | 279-0022 | 千葉県浦安市今川**********             | S12029 | 20150708 | B-20100820-C |\n",
       "| 8 | CS033605000005 | 猪股 雄太     | 0 | 男性 | 1955-12-05 | 63 | 246-0031 | 神奈川県横浜市瀬谷区瀬谷**********     | S14033 | 20150425 | F-20100917-E |\n",
       "| 9 | CS033415000229 | 板垣 菜々美   | 1 | 女性 | 1977-11-07 | 41 | 246-0021 | 神奈川県横浜市瀬谷区二ツ橋町********** | S14033 | 20150712 | F-20100326-E |\n",
       "| 10 | CS008415000145 | 黒谷 麻緒     | 1 | 女性 | 1977-06-27 | 41 | 157-0067 | 東京都世田谷区喜多見**********         | S13008 | 20150829 | F-20100622-F |\n",
       "\n"
      ],
      "text/plain": [
       "   customer_id    customer_name gender_cd gender birth_day  age postal_cd\n",
       "1  CS031415000172 宇多田 貴美子 1         女性   1976-10-04 42  151-0053 \n",
       "2  CS015414000103 奥野 陽子     1         女性   1977-08-09 41  136-0073 \n",
       "3  CS011215000048 芦田 沙耶     1         女性   1992-02-01 27  223-0062 \n",
       "4  CS029415000023 梅田 里穂     1         女性   1976-01-17 43  279-0043 \n",
       "5  CS035415000029 寺沢 真希     9         不明   1977-09-27 41  158-0096 \n",
       "6  CS031415000106 宇野 由美子   1         女性   1970-02-26 49  151-0053 \n",
       "7  CS029215000025 石倉 美帆     1         女性   1993-09-28 25  279-0022 \n",
       "8  CS033605000005 猪股 雄太     0         男性   1955-12-05 63  246-0031 \n",
       "9  CS033415000229 板垣 菜々美   1         女性   1977-11-07 41  246-0021 \n",
       "10 CS008415000145 黒谷 麻緒     1         女性   1977-06-27 41  157-0067 \n",
       "   address                                application_store_cd application_date\n",
       "1  東京都渋谷区代々木**********           S13031               20150529        \n",
       "2  東京都江東区北砂**********             S13015               20150722        \n",
       "3  神奈川県横浜市港北区日吉本町********** S14011               20150228        \n",
       "4  千葉県浦安市富士見**********           S12029               20150610        \n",
       "5  東京都世田谷区玉川台**********         S13035               20141220        \n",
       "6  東京都渋谷区代々木**********           S13031               20150201        \n",
       "7  千葉県浦安市今川**********             S12029               20150708        \n",
       "8  神奈川県横浜市瀬谷区瀬谷**********     S14033               20150425        \n",
       "9  神奈川県横浜市瀬谷区二ツ橋町********** S14033               20150712        \n",
       "10 東京都世田谷区喜多見**********         S13008               20150829        \n",
       "   status_cd   \n",
       "1  D-20100325-C\n",
       "2  B-20100609-B\n",
       "3  C-20100421-9\n",
       "4  D-20100918-E\n",
       "5  F-20101029-F\n",
       "6  F-20100511-E\n",
       "7  B-20100820-C\n",
       "8  F-20100917-E\n",
       "9  F-20100326-E\n",
       "10 F-20100622-F"
      ]
     },
     "metadata": {},
     "output_type": "display_data"
    }
   ],
   "source": [
    "head(df_customer %>% filter(grepl(\"^[A-F]\", status_cd)), n=10)"
   ]
  },
  {
   "cell_type": "markdown",
   "metadata": {},
   "source": [
    "---\n",
    "> R-014: 顧客データフレーム（df_customer）から、ステータスコード（status_cd）の末尾が数字の1〜9で終わるデータを全項目抽出し、10件だけ表示せよ。"
   ]
  },
  {
   "cell_type": "code",
   "execution_count": 27,
   "metadata": {},
   "outputs": [
    {
     "data": {
      "text/html": [
       "<table class=\"dataframe\">\n",
       "<caption>A data.frame: 10 × 11</caption>\n",
       "<thead>\n",
       "\t<tr><th></th><th scope=col>customer_id</th><th scope=col>customer_name</th><th scope=col>gender_cd</th><th scope=col>gender</th><th scope=col>birth_day</th><th scope=col>age</th><th scope=col>postal_cd</th><th scope=col>address</th><th scope=col>application_store_cd</th><th scope=col>application_date</th><th scope=col>status_cd</th></tr>\n",
       "\t<tr><th></th><th scope=col>&lt;chr&gt;</th><th scope=col>&lt;chr&gt;</th><th scope=col>&lt;chr&gt;</th><th scope=col>&lt;chr&gt;</th><th scope=col>&lt;date&gt;</th><th scope=col>&lt;int&gt;</th><th scope=col>&lt;chr&gt;</th><th scope=col>&lt;chr&gt;</th><th scope=col>&lt;chr&gt;</th><th scope=col>&lt;chr&gt;</th><th scope=col>&lt;chr&gt;</th></tr>\n",
       "</thead>\n",
       "<tbody>\n",
       "\t<tr><th scope=row>1</th><td>CS001215000145</td><td>田崎 美紀    </td><td>1</td><td>女性</td><td>1995-03-29</td><td>24</td><td>144-0055</td><td>東京都大田区仲六郷**********          </td><td>S13001</td><td>20170605</td><td>6-20090929-2</td></tr>\n",
       "\t<tr><th scope=row>2</th><td>CS033513000180</td><td>安斎 遥      </td><td>1</td><td>女性</td><td>1962-07-11</td><td>56</td><td>241-0823</td><td>神奈川県横浜市旭区善部町**********    </td><td>S14033</td><td>20150728</td><td>6-20080506-5</td></tr>\n",
       "\t<tr><th scope=row>3</th><td>CS011215000048</td><td>芦田 沙耶    </td><td>1</td><td>女性</td><td>1992-02-01</td><td>27</td><td>223-0062</td><td>神奈川県横浜市港北区日吉本町**********</td><td>S14011</td><td>20150228</td><td>C-20100421-9</td></tr>\n",
       "\t<tr><th scope=row>4</th><td>CS040412000191</td><td>川井 郁恵    </td><td>1</td><td>女性</td><td>1977-01-05</td><td>42</td><td>226-0021</td><td>神奈川県横浜市緑区北八朔町**********  </td><td>S14040</td><td>20151101</td><td>1-20091025-4</td></tr>\n",
       "\t<tr><th scope=row>5</th><td>CS009315000023</td><td>皆川 文世    </td><td>1</td><td>女性</td><td>1980-04-15</td><td>38</td><td>154-0012</td><td>東京都世田谷区駒沢**********          </td><td>S13009</td><td>20150319</td><td>5-20080322-1</td></tr>\n",
       "\t<tr><th scope=row>6</th><td>CS015315000033</td><td>福士 璃奈子  </td><td>1</td><td>女性</td><td>1983-03-17</td><td>36</td><td>135-0043</td><td>東京都江東区塩浜**********            </td><td>S13015</td><td>20141024</td><td>4-20080219-3</td></tr>\n",
       "\t<tr><th scope=row>7</th><td>CS023513000066</td><td>神戸 そら    </td><td>1</td><td>女性</td><td>1961-12-17</td><td>57</td><td>210-0005</td><td>神奈川県川崎市川崎区東田町**********  </td><td>S14023</td><td>20150915</td><td>5-20100524-9</td></tr>\n",
       "\t<tr><th scope=row>8</th><td>CS035513000134</td><td>市川 美帆    </td><td>1</td><td>女性</td><td>1960-03-27</td><td>59</td><td>156-0053</td><td>東京都世田谷区桜**********            </td><td>S13035</td><td>20150227</td><td>8-20100711-9</td></tr>\n",
       "\t<tr><th scope=row>9</th><td>CS001515000263</td><td>高松 夏空    </td><td>1</td><td>女性</td><td>1962-11-09</td><td>56</td><td>144-0051</td><td>東京都大田区西蒲田**********          </td><td>S13001</td><td>20160812</td><td>1-20100804-1</td></tr>\n",
       "\t<tr><th scope=row>10</th><td>CS040314000027</td><td>鶴田 きみまろ</td><td>9</td><td>不明</td><td>1986-03-26</td><td>33</td><td>226-0027</td><td>神奈川県横浜市緑区長津田**********    </td><td>S14040</td><td>20150122</td><td>2-20080426-4</td></tr>\n",
       "</tbody>\n",
       "</table>\n"
      ],
      "text/latex": [
       "A data.frame: 10 × 11\n",
       "\\begin{tabular}{r|lllllllllll}\n",
       "  & customer\\_id & customer\\_name & gender\\_cd & gender & birth\\_day & age & postal\\_cd & address & application\\_store\\_cd & application\\_date & status\\_cd\\\\\n",
       "  & <chr> & <chr> & <chr> & <chr> & <date> & <int> & <chr> & <chr> & <chr> & <chr> & <chr>\\\\\n",
       "\\hline\n",
       "\t1 & CS001215000145 & 田崎 美紀     & 1 & 女性 & 1995-03-29 & 24 & 144-0055 & 東京都大田区仲六郷**********           & S13001 & 20170605 & 6-20090929-2\\\\\n",
       "\t2 & CS033513000180 & 安斎 遥       & 1 & 女性 & 1962-07-11 & 56 & 241-0823 & 神奈川県横浜市旭区善部町**********     & S14033 & 20150728 & 6-20080506-5\\\\\n",
       "\t3 & CS011215000048 & 芦田 沙耶     & 1 & 女性 & 1992-02-01 & 27 & 223-0062 & 神奈川県横浜市港北区日吉本町********** & S14011 & 20150228 & C-20100421-9\\\\\n",
       "\t4 & CS040412000191 & 川井 郁恵     & 1 & 女性 & 1977-01-05 & 42 & 226-0021 & 神奈川県横浜市緑区北八朔町**********   & S14040 & 20151101 & 1-20091025-4\\\\\n",
       "\t5 & CS009315000023 & 皆川 文世     & 1 & 女性 & 1980-04-15 & 38 & 154-0012 & 東京都世田谷区駒沢**********           & S13009 & 20150319 & 5-20080322-1\\\\\n",
       "\t6 & CS015315000033 & 福士 璃奈子   & 1 & 女性 & 1983-03-17 & 36 & 135-0043 & 東京都江東区塩浜**********             & S13015 & 20141024 & 4-20080219-3\\\\\n",
       "\t7 & CS023513000066 & 神戸 そら     & 1 & 女性 & 1961-12-17 & 57 & 210-0005 & 神奈川県川崎市川崎区東田町**********   & S14023 & 20150915 & 5-20100524-9\\\\\n",
       "\t8 & CS035513000134 & 市川 美帆     & 1 & 女性 & 1960-03-27 & 59 & 156-0053 & 東京都世田谷区桜**********             & S13035 & 20150227 & 8-20100711-9\\\\\n",
       "\t9 & CS001515000263 & 高松 夏空     & 1 & 女性 & 1962-11-09 & 56 & 144-0051 & 東京都大田区西蒲田**********           & S13001 & 20160812 & 1-20100804-1\\\\\n",
       "\t10 & CS040314000027 & 鶴田 きみまろ & 9 & 不明 & 1986-03-26 & 33 & 226-0027 & 神奈川県横浜市緑区長津田**********     & S14040 & 20150122 & 2-20080426-4\\\\\n",
       "\\end{tabular}\n"
      ],
      "text/markdown": [
       "\n",
       "A data.frame: 10 × 11\n",
       "\n",
       "| <!--/--> | customer_id &lt;chr&gt; | customer_name &lt;chr&gt; | gender_cd &lt;chr&gt; | gender &lt;chr&gt; | birth_day &lt;date&gt; | age &lt;int&gt; | postal_cd &lt;chr&gt; | address &lt;chr&gt; | application_store_cd &lt;chr&gt; | application_date &lt;chr&gt; | status_cd &lt;chr&gt; |\n",
       "|---|---|---|---|---|---|---|---|---|---|---|---|\n",
       "| 1 | CS001215000145 | 田崎 美紀     | 1 | 女性 | 1995-03-29 | 24 | 144-0055 | 東京都大田区仲六郷**********           | S13001 | 20170605 | 6-20090929-2 |\n",
       "| 2 | CS033513000180 | 安斎 遥       | 1 | 女性 | 1962-07-11 | 56 | 241-0823 | 神奈川県横浜市旭区善部町**********     | S14033 | 20150728 | 6-20080506-5 |\n",
       "| 3 | CS011215000048 | 芦田 沙耶     | 1 | 女性 | 1992-02-01 | 27 | 223-0062 | 神奈川県横浜市港北区日吉本町********** | S14011 | 20150228 | C-20100421-9 |\n",
       "| 4 | CS040412000191 | 川井 郁恵     | 1 | 女性 | 1977-01-05 | 42 | 226-0021 | 神奈川県横浜市緑区北八朔町**********   | S14040 | 20151101 | 1-20091025-4 |\n",
       "| 5 | CS009315000023 | 皆川 文世     | 1 | 女性 | 1980-04-15 | 38 | 154-0012 | 東京都世田谷区駒沢**********           | S13009 | 20150319 | 5-20080322-1 |\n",
       "| 6 | CS015315000033 | 福士 璃奈子   | 1 | 女性 | 1983-03-17 | 36 | 135-0043 | 東京都江東区塩浜**********             | S13015 | 20141024 | 4-20080219-3 |\n",
       "| 7 | CS023513000066 | 神戸 そら     | 1 | 女性 | 1961-12-17 | 57 | 210-0005 | 神奈川県川崎市川崎区東田町**********   | S14023 | 20150915 | 5-20100524-9 |\n",
       "| 8 | CS035513000134 | 市川 美帆     | 1 | 女性 | 1960-03-27 | 59 | 156-0053 | 東京都世田谷区桜**********             | S13035 | 20150227 | 8-20100711-9 |\n",
       "| 9 | CS001515000263 | 高松 夏空     | 1 | 女性 | 1962-11-09 | 56 | 144-0051 | 東京都大田区西蒲田**********           | S13001 | 20160812 | 1-20100804-1 |\n",
       "| 10 | CS040314000027 | 鶴田 きみまろ | 9 | 不明 | 1986-03-26 | 33 | 226-0027 | 神奈川県横浜市緑区長津田**********     | S14040 | 20150122 | 2-20080426-4 |\n",
       "\n"
      ],
      "text/plain": [
       "   customer_id    customer_name gender_cd gender birth_day  age postal_cd\n",
       "1  CS001215000145 田崎 美紀     1         女性   1995-03-29 24  144-0055 \n",
       "2  CS033513000180 安斎 遥       1         女性   1962-07-11 56  241-0823 \n",
       "3  CS011215000048 芦田 沙耶     1         女性   1992-02-01 27  223-0062 \n",
       "4  CS040412000191 川井 郁恵     1         女性   1977-01-05 42  226-0021 \n",
       "5  CS009315000023 皆川 文世     1         女性   1980-04-15 38  154-0012 \n",
       "6  CS015315000033 福士 璃奈子   1         女性   1983-03-17 36  135-0043 \n",
       "7  CS023513000066 神戸 そら     1         女性   1961-12-17 57  210-0005 \n",
       "8  CS035513000134 市川 美帆     1         女性   1960-03-27 59  156-0053 \n",
       "9  CS001515000263 高松 夏空     1         女性   1962-11-09 56  144-0051 \n",
       "10 CS040314000027 鶴田 きみまろ 9         不明   1986-03-26 33  226-0027 \n",
       "   address                                application_store_cd application_date\n",
       "1  東京都大田区仲六郷**********           S13001               20170605        \n",
       "2  神奈川県横浜市旭区善部町**********     S14033               20150728        \n",
       "3  神奈川県横浜市港北区日吉本町********** S14011               20150228        \n",
       "4  神奈川県横浜市緑区北八朔町**********   S14040               20151101        \n",
       "5  東京都世田谷区駒沢**********           S13009               20150319        \n",
       "6  東京都江東区塩浜**********             S13015               20141024        \n",
       "7  神奈川県川崎市川崎区東田町**********   S14023               20150915        \n",
       "8  東京都世田谷区桜**********             S13035               20150227        \n",
       "9  東京都大田区西蒲田**********           S13001               20160812        \n",
       "10 神奈川県横浜市緑区長津田**********     S14040               20150122        \n",
       "   status_cd   \n",
       "1  6-20090929-2\n",
       "2  6-20080506-5\n",
       "3  C-20100421-9\n",
       "4  1-20091025-4\n",
       "5  5-20080322-1\n",
       "6  4-20080219-3\n",
       "7  5-20100524-9\n",
       "8  8-20100711-9\n",
       "9  1-20100804-1\n",
       "10 2-20080426-4"
      ]
     },
     "metadata": {},
     "output_type": "display_data"
    }
   ],
   "source": [
    "head(df_customer %>% filter(grepl(\"[1-9]$\", status_cd)), n=10)"
   ]
  },
  {
   "cell_type": "markdown",
   "metadata": {},
   "source": [
    "---\n",
    "> R-015: 顧客データフレーム（df_customer）から、ステータスコード（status_cd）の先頭がアルファベットのA〜Fで始まり、末尾が数字の1〜9で終わるデータを全項目抽出し、10件だけ表示せよ。"
   ]
  },
  {
   "cell_type": "code",
   "execution_count": 46,
   "metadata": {},
   "outputs": [
    {
     "data": {
      "text/html": [
       "<table class=\"dataframe\">\n",
       "<caption>A data.frame: 10 × 11</caption>\n",
       "<thead>\n",
       "\t<tr><th scope=col>customer_id</th><th scope=col>customer_name</th><th scope=col>gender_cd</th><th scope=col>gender</th><th scope=col>birth_day</th><th scope=col>age</th><th scope=col>postal_cd</th><th scope=col>address</th><th scope=col>application_store_cd</th><th scope=col>application_date</th><th scope=col>status_cd</th></tr>\n",
       "\t<tr><th scope=col>&lt;chr&gt;</th><th scope=col>&lt;chr&gt;</th><th scope=col>&lt;chr&gt;</th><th scope=col>&lt;chr&gt;</th><th scope=col>&lt;date&gt;</th><th scope=col>&lt;int&gt;</th><th scope=col>&lt;chr&gt;</th><th scope=col>&lt;chr&gt;</th><th scope=col>&lt;chr&gt;</th><th scope=col>&lt;chr&gt;</th><th scope=col>&lt;chr&gt;</th></tr>\n",
       "</thead>\n",
       "<tbody>\n",
       "\t<tr><td>CS011215000048</td><td>芦田 沙耶  </td><td>1</td><td>女性</td><td>1992-02-01</td><td>27</td><td>223-0062</td><td>神奈川県横浜市港北区日吉本町**********</td><td>S14011</td><td>20150228</td><td>C-20100421-9</td></tr>\n",
       "\t<tr><td>CS022513000105</td><td>島村 貴美子</td><td>1</td><td>女性</td><td>1962-03-12</td><td>57</td><td>249-0002</td><td>神奈川県逗子市山の根**********        </td><td>S14022</td><td>20150320</td><td>A-20091115-7</td></tr>\n",
       "\t<tr><td>CS001515000096</td><td>水野 陽子  </td><td>9</td><td>不明</td><td>1960-11-29</td><td>58</td><td>144-0053</td><td>東京都大田区蒲田本町**********        </td><td>S13001</td><td>20150614</td><td>A-20100724-7</td></tr>\n",
       "\t<tr><td>CS013615000053</td><td>西脇 季衣  </td><td>1</td><td>女性</td><td>1953-10-18</td><td>65</td><td>261-0026</td><td>千葉県千葉市美浜区幕張西**********    </td><td>S12013</td><td>20150128</td><td>B-20100329-6</td></tr>\n",
       "\t<tr><td>CS020412000161</td><td>小宮 薫    </td><td>1</td><td>女性</td><td>1974-05-21</td><td>44</td><td>174-0042</td><td>東京都板橋区東坂下**********          </td><td>S13020</td><td>20150822</td><td>B-20081021-3</td></tr>\n",
       "\t<tr><td>CS001215000097</td><td>竹中 あさみ</td><td>1</td><td>女性</td><td>1990-07-25</td><td>28</td><td>146-0095</td><td>東京都大田区多摩川**********          </td><td>S13001</td><td>20170315</td><td>A-20100211-2</td></tr>\n",
       "\t<tr><td>CS035212000007</td><td>内村 恵梨香</td><td>1</td><td>女性</td><td>1990-12-04</td><td>28</td><td>152-0023</td><td>東京都目黒区八雲**********            </td><td>S13035</td><td>20151013</td><td>B-20101018-6</td></tr>\n",
       "\t<tr><td>CS002515000386</td><td>野田 コウ  </td><td>1</td><td>女性</td><td>1963-05-30</td><td>55</td><td>185-0013</td><td>東京都国分寺市西恋ケ窪**********      </td><td>S13002</td><td>20160410</td><td>C-20100127-8</td></tr>\n",
       "\t<tr><td>CS001615000372</td><td>稲垣 寿々花</td><td>1</td><td>女性</td><td>1956-10-29</td><td>62</td><td>144-0035</td><td>東京都大田区南蒲田**********          </td><td>S13001</td><td>20170403</td><td>A-20100104-1</td></tr>\n",
       "\t<tr><td>CS032512000121</td><td>松井 知世  </td><td>1</td><td>女性</td><td>1962-09-04</td><td>56</td><td>210-0011</td><td>神奈川県川崎市川崎区富士見**********  </td><td>S13032</td><td>20150727</td><td>A-20100103-5</td></tr>\n",
       "</tbody>\n",
       "</table>\n"
      ],
      "text/latex": [
       "A data.frame: 10 × 11\n",
       "\\begin{tabular}{lllllllllll}\n",
       " customer\\_id & customer\\_name & gender\\_cd & gender & birth\\_day & age & postal\\_cd & address & application\\_store\\_cd & application\\_date & status\\_cd\\\\\n",
       " <chr> & <chr> & <chr> & <chr> & <date> & <int> & <chr> & <chr> & <chr> & <chr> & <chr>\\\\\n",
       "\\hline\n",
       "\t CS011215000048 & 芦田 沙耶   & 1 & 女性 & 1992-02-01 & 27 & 223-0062 & 神奈川県横浜市港北区日吉本町********** & S14011 & 20150228 & C-20100421-9\\\\\n",
       "\t CS022513000105 & 島村 貴美子 & 1 & 女性 & 1962-03-12 & 57 & 249-0002 & 神奈川県逗子市山の根**********         & S14022 & 20150320 & A-20091115-7\\\\\n",
       "\t CS001515000096 & 水野 陽子   & 9 & 不明 & 1960-11-29 & 58 & 144-0053 & 東京都大田区蒲田本町**********         & S13001 & 20150614 & A-20100724-7\\\\\n",
       "\t CS013615000053 & 西脇 季衣   & 1 & 女性 & 1953-10-18 & 65 & 261-0026 & 千葉県千葉市美浜区幕張西**********     & S12013 & 20150128 & B-20100329-6\\\\\n",
       "\t CS020412000161 & 小宮 薫     & 1 & 女性 & 1974-05-21 & 44 & 174-0042 & 東京都板橋区東坂下**********           & S13020 & 20150822 & B-20081021-3\\\\\n",
       "\t CS001215000097 & 竹中 あさみ & 1 & 女性 & 1990-07-25 & 28 & 146-0095 & 東京都大田区多摩川**********           & S13001 & 20170315 & A-20100211-2\\\\\n",
       "\t CS035212000007 & 内村 恵梨香 & 1 & 女性 & 1990-12-04 & 28 & 152-0023 & 東京都目黒区八雲**********             & S13035 & 20151013 & B-20101018-6\\\\\n",
       "\t CS002515000386 & 野田 コウ   & 1 & 女性 & 1963-05-30 & 55 & 185-0013 & 東京都国分寺市西恋ケ窪**********       & S13002 & 20160410 & C-20100127-8\\\\\n",
       "\t CS001615000372 & 稲垣 寿々花 & 1 & 女性 & 1956-10-29 & 62 & 144-0035 & 東京都大田区南蒲田**********           & S13001 & 20170403 & A-20100104-1\\\\\n",
       "\t CS032512000121 & 松井 知世   & 1 & 女性 & 1962-09-04 & 56 & 210-0011 & 神奈川県川崎市川崎区富士見**********   & S13032 & 20150727 & A-20100103-5\\\\\n",
       "\\end{tabular}\n"
      ],
      "text/markdown": [
       "\n",
       "A data.frame: 10 × 11\n",
       "\n",
       "| customer_id &lt;chr&gt; | customer_name &lt;chr&gt; | gender_cd &lt;chr&gt; | gender &lt;chr&gt; | birth_day &lt;date&gt; | age &lt;int&gt; | postal_cd &lt;chr&gt; | address &lt;chr&gt; | application_store_cd &lt;chr&gt; | application_date &lt;chr&gt; | status_cd &lt;chr&gt; |\n",
       "|---|---|---|---|---|---|---|---|---|---|---|\n",
       "| CS011215000048 | 芦田 沙耶   | 1 | 女性 | 1992-02-01 | 27 | 223-0062 | 神奈川県横浜市港北区日吉本町********** | S14011 | 20150228 | C-20100421-9 |\n",
       "| CS022513000105 | 島村 貴美子 | 1 | 女性 | 1962-03-12 | 57 | 249-0002 | 神奈川県逗子市山の根**********         | S14022 | 20150320 | A-20091115-7 |\n",
       "| CS001515000096 | 水野 陽子   | 9 | 不明 | 1960-11-29 | 58 | 144-0053 | 東京都大田区蒲田本町**********         | S13001 | 20150614 | A-20100724-7 |\n",
       "| CS013615000053 | 西脇 季衣   | 1 | 女性 | 1953-10-18 | 65 | 261-0026 | 千葉県千葉市美浜区幕張西**********     | S12013 | 20150128 | B-20100329-6 |\n",
       "| CS020412000161 | 小宮 薫     | 1 | 女性 | 1974-05-21 | 44 | 174-0042 | 東京都板橋区東坂下**********           | S13020 | 20150822 | B-20081021-3 |\n",
       "| CS001215000097 | 竹中 あさみ | 1 | 女性 | 1990-07-25 | 28 | 146-0095 | 東京都大田区多摩川**********           | S13001 | 20170315 | A-20100211-2 |\n",
       "| CS035212000007 | 内村 恵梨香 | 1 | 女性 | 1990-12-04 | 28 | 152-0023 | 東京都目黒区八雲**********             | S13035 | 20151013 | B-20101018-6 |\n",
       "| CS002515000386 | 野田 コウ   | 1 | 女性 | 1963-05-30 | 55 | 185-0013 | 東京都国分寺市西恋ケ窪**********       | S13002 | 20160410 | C-20100127-8 |\n",
       "| CS001615000372 | 稲垣 寿々花 | 1 | 女性 | 1956-10-29 | 62 | 144-0035 | 東京都大田区南蒲田**********           | S13001 | 20170403 | A-20100104-1 |\n",
       "| CS032512000121 | 松井 知世   | 1 | 女性 | 1962-09-04 | 56 | 210-0011 | 神奈川県川崎市川崎区富士見**********   | S13032 | 20150727 | A-20100103-5 |\n",
       "\n"
      ],
      "text/plain": [
       "   customer_id    customer_name gender_cd gender birth_day  age postal_cd\n",
       "1  CS011215000048 芦田 沙耶     1         女性   1992-02-01 27  223-0062 \n",
       "2  CS022513000105 島村 貴美子   1         女性   1962-03-12 57  249-0002 \n",
       "3  CS001515000096 水野 陽子     9         不明   1960-11-29 58  144-0053 \n",
       "4  CS013615000053 西脇 季衣     1         女性   1953-10-18 65  261-0026 \n",
       "5  CS020412000161 小宮 薫       1         女性   1974-05-21 44  174-0042 \n",
       "6  CS001215000097 竹中 あさみ   1         女性   1990-07-25 28  146-0095 \n",
       "7  CS035212000007 内村 恵梨香   1         女性   1990-12-04 28  152-0023 \n",
       "8  CS002515000386 野田 コウ     1         女性   1963-05-30 55  185-0013 \n",
       "9  CS001615000372 稲垣 寿々花   1         女性   1956-10-29 62  144-0035 \n",
       "10 CS032512000121 松井 知世     1         女性   1962-09-04 56  210-0011 \n",
       "   address                                application_store_cd application_date\n",
       "1  神奈川県横浜市港北区日吉本町********** S14011               20150228        \n",
       "2  神奈川県逗子市山の根**********         S14022               20150320        \n",
       "3  東京都大田区蒲田本町**********         S13001               20150614        \n",
       "4  千葉県千葉市美浜区幕張西**********     S12013               20150128        \n",
       "5  東京都板橋区東坂下**********           S13020               20150822        \n",
       "6  東京都大田区多摩川**********           S13001               20170315        \n",
       "7  東京都目黒区八雲**********             S13035               20151013        \n",
       "8  東京都国分寺市西恋ケ窪**********       S13002               20160410        \n",
       "9  東京都大田区南蒲田**********           S13001               20170403        \n",
       "10 神奈川県川崎市川崎区富士見**********   S13032               20150727        \n",
       "   status_cd   \n",
       "1  C-20100421-9\n",
       "2  A-20091115-7\n",
       "3  A-20100724-7\n",
       "4  B-20100329-6\n",
       "5  B-20081021-3\n",
       "6  A-20100211-2\n",
       "7  B-20101018-6\n",
       "8  C-20100127-8\n",
       "9  A-20100104-1\n",
       "10 A-20100103-5"
      ]
     },
     "metadata": {},
     "output_type": "display_data"
    }
   ],
   "source": [
    "df_customer %>% filter(grepl(\"^[A-F].*[1-9]$\",status_cd)) %>% slice(1:10)"
   ]
  },
  {
   "cell_type": "code",
   "execution_count": 30,
   "metadata": {},
   "outputs": [
    {
     "data": {
      "text/html": [
       "<table class=\"dataframe\">\n",
       "<caption>A data.frame: 10 × 11</caption>\n",
       "<thead>\n",
       "\t<tr><th></th><th scope=col>customer_id</th><th scope=col>customer_name</th><th scope=col>gender_cd</th><th scope=col>gender</th><th scope=col>birth_day</th><th scope=col>age</th><th scope=col>postal_cd</th><th scope=col>address</th><th scope=col>application_store_cd</th><th scope=col>application_date</th><th scope=col>status_cd</th></tr>\n",
       "\t<tr><th></th><th scope=col>&lt;chr&gt;</th><th scope=col>&lt;chr&gt;</th><th scope=col>&lt;chr&gt;</th><th scope=col>&lt;chr&gt;</th><th scope=col>&lt;date&gt;</th><th scope=col>&lt;int&gt;</th><th scope=col>&lt;chr&gt;</th><th scope=col>&lt;chr&gt;</th><th scope=col>&lt;chr&gt;</th><th scope=col>&lt;chr&gt;</th><th scope=col>&lt;chr&gt;</th></tr>\n",
       "</thead>\n",
       "<tbody>\n",
       "\t<tr><th scope=row>1</th><td>CS011215000048</td><td>芦田 沙耶  </td><td>1</td><td>女性</td><td>1992-02-01</td><td>27</td><td>223-0062</td><td>神奈川県横浜市港北区日吉本町**********</td><td>S14011</td><td>20150228</td><td>C-20100421-9</td></tr>\n",
       "\t<tr><th scope=row>2</th><td>CS022513000105</td><td>島村 貴美子</td><td>1</td><td>女性</td><td>1962-03-12</td><td>57</td><td>249-0002</td><td>神奈川県逗子市山の根**********        </td><td>S14022</td><td>20150320</td><td>A-20091115-7</td></tr>\n",
       "\t<tr><th scope=row>3</th><td>CS001515000096</td><td>水野 陽子  </td><td>9</td><td>不明</td><td>1960-11-29</td><td>58</td><td>144-0053</td><td>東京都大田区蒲田本町**********        </td><td>S13001</td><td>20150614</td><td>A-20100724-7</td></tr>\n",
       "\t<tr><th scope=row>4</th><td>CS013615000053</td><td>西脇 季衣  </td><td>1</td><td>女性</td><td>1953-10-18</td><td>65</td><td>261-0026</td><td>千葉県千葉市美浜区幕張西**********    </td><td>S12013</td><td>20150128</td><td>B-20100329-6</td></tr>\n",
       "\t<tr><th scope=row>5</th><td>CS020412000161</td><td>小宮 薫    </td><td>1</td><td>女性</td><td>1974-05-21</td><td>44</td><td>174-0042</td><td>東京都板橋区東坂下**********          </td><td>S13020</td><td>20150822</td><td>B-20081021-3</td></tr>\n",
       "\t<tr><th scope=row>6</th><td>CS001215000097</td><td>竹中 あさみ</td><td>1</td><td>女性</td><td>1990-07-25</td><td>28</td><td>146-0095</td><td>東京都大田区多摩川**********          </td><td>S13001</td><td>20170315</td><td>A-20100211-2</td></tr>\n",
       "\t<tr><th scope=row>7</th><td>CS035212000007</td><td>内村 恵梨香</td><td>1</td><td>女性</td><td>1990-12-04</td><td>28</td><td>152-0023</td><td>東京都目黒区八雲**********            </td><td>S13035</td><td>20151013</td><td>B-20101018-6</td></tr>\n",
       "\t<tr><th scope=row>8</th><td>CS002515000386</td><td>野田 コウ  </td><td>1</td><td>女性</td><td>1963-05-30</td><td>55</td><td>185-0013</td><td>東京都国分寺市西恋ケ窪**********      </td><td>S13002</td><td>20160410</td><td>C-20100127-8</td></tr>\n",
       "\t<tr><th scope=row>9</th><td>CS001615000372</td><td>稲垣 寿々花</td><td>1</td><td>女性</td><td>1956-10-29</td><td>62</td><td>144-0035</td><td>東京都大田区南蒲田**********          </td><td>S13001</td><td>20170403</td><td>A-20100104-1</td></tr>\n",
       "\t<tr><th scope=row>10</th><td>CS032512000121</td><td>松井 知世  </td><td>1</td><td>女性</td><td>1962-09-04</td><td>56</td><td>210-0011</td><td>神奈川県川崎市川崎区富士見**********  </td><td>S13032</td><td>20150727</td><td>A-20100103-5</td></tr>\n",
       "</tbody>\n",
       "</table>\n"
      ],
      "text/latex": [
       "A data.frame: 10 × 11\n",
       "\\begin{tabular}{r|lllllllllll}\n",
       "  & customer\\_id & customer\\_name & gender\\_cd & gender & birth\\_day & age & postal\\_cd & address & application\\_store\\_cd & application\\_date & status\\_cd\\\\\n",
       "  & <chr> & <chr> & <chr> & <chr> & <date> & <int> & <chr> & <chr> & <chr> & <chr> & <chr>\\\\\n",
       "\\hline\n",
       "\t1 & CS011215000048 & 芦田 沙耶   & 1 & 女性 & 1992-02-01 & 27 & 223-0062 & 神奈川県横浜市港北区日吉本町********** & S14011 & 20150228 & C-20100421-9\\\\\n",
       "\t2 & CS022513000105 & 島村 貴美子 & 1 & 女性 & 1962-03-12 & 57 & 249-0002 & 神奈川県逗子市山の根**********         & S14022 & 20150320 & A-20091115-7\\\\\n",
       "\t3 & CS001515000096 & 水野 陽子   & 9 & 不明 & 1960-11-29 & 58 & 144-0053 & 東京都大田区蒲田本町**********         & S13001 & 20150614 & A-20100724-7\\\\\n",
       "\t4 & CS013615000053 & 西脇 季衣   & 1 & 女性 & 1953-10-18 & 65 & 261-0026 & 千葉県千葉市美浜区幕張西**********     & S12013 & 20150128 & B-20100329-6\\\\\n",
       "\t5 & CS020412000161 & 小宮 薫     & 1 & 女性 & 1974-05-21 & 44 & 174-0042 & 東京都板橋区東坂下**********           & S13020 & 20150822 & B-20081021-3\\\\\n",
       "\t6 & CS001215000097 & 竹中 あさみ & 1 & 女性 & 1990-07-25 & 28 & 146-0095 & 東京都大田区多摩川**********           & S13001 & 20170315 & A-20100211-2\\\\\n",
       "\t7 & CS035212000007 & 内村 恵梨香 & 1 & 女性 & 1990-12-04 & 28 & 152-0023 & 東京都目黒区八雲**********             & S13035 & 20151013 & B-20101018-6\\\\\n",
       "\t8 & CS002515000386 & 野田 コウ   & 1 & 女性 & 1963-05-30 & 55 & 185-0013 & 東京都国分寺市西恋ケ窪**********       & S13002 & 20160410 & C-20100127-8\\\\\n",
       "\t9 & CS001615000372 & 稲垣 寿々花 & 1 & 女性 & 1956-10-29 & 62 & 144-0035 & 東京都大田区南蒲田**********           & S13001 & 20170403 & A-20100104-1\\\\\n",
       "\t10 & CS032512000121 & 松井 知世   & 1 & 女性 & 1962-09-04 & 56 & 210-0011 & 神奈川県川崎市川崎区富士見**********   & S13032 & 20150727 & A-20100103-5\\\\\n",
       "\\end{tabular}\n"
      ],
      "text/markdown": [
       "\n",
       "A data.frame: 10 × 11\n",
       "\n",
       "| <!--/--> | customer_id &lt;chr&gt; | customer_name &lt;chr&gt; | gender_cd &lt;chr&gt; | gender &lt;chr&gt; | birth_day &lt;date&gt; | age &lt;int&gt; | postal_cd &lt;chr&gt; | address &lt;chr&gt; | application_store_cd &lt;chr&gt; | application_date &lt;chr&gt; | status_cd &lt;chr&gt; |\n",
       "|---|---|---|---|---|---|---|---|---|---|---|---|\n",
       "| 1 | CS011215000048 | 芦田 沙耶   | 1 | 女性 | 1992-02-01 | 27 | 223-0062 | 神奈川県横浜市港北区日吉本町********** | S14011 | 20150228 | C-20100421-9 |\n",
       "| 2 | CS022513000105 | 島村 貴美子 | 1 | 女性 | 1962-03-12 | 57 | 249-0002 | 神奈川県逗子市山の根**********         | S14022 | 20150320 | A-20091115-7 |\n",
       "| 3 | CS001515000096 | 水野 陽子   | 9 | 不明 | 1960-11-29 | 58 | 144-0053 | 東京都大田区蒲田本町**********         | S13001 | 20150614 | A-20100724-7 |\n",
       "| 4 | CS013615000053 | 西脇 季衣   | 1 | 女性 | 1953-10-18 | 65 | 261-0026 | 千葉県千葉市美浜区幕張西**********     | S12013 | 20150128 | B-20100329-6 |\n",
       "| 5 | CS020412000161 | 小宮 薫     | 1 | 女性 | 1974-05-21 | 44 | 174-0042 | 東京都板橋区東坂下**********           | S13020 | 20150822 | B-20081021-3 |\n",
       "| 6 | CS001215000097 | 竹中 あさみ | 1 | 女性 | 1990-07-25 | 28 | 146-0095 | 東京都大田区多摩川**********           | S13001 | 20170315 | A-20100211-2 |\n",
       "| 7 | CS035212000007 | 内村 恵梨香 | 1 | 女性 | 1990-12-04 | 28 | 152-0023 | 東京都目黒区八雲**********             | S13035 | 20151013 | B-20101018-6 |\n",
       "| 8 | CS002515000386 | 野田 コウ   | 1 | 女性 | 1963-05-30 | 55 | 185-0013 | 東京都国分寺市西恋ケ窪**********       | S13002 | 20160410 | C-20100127-8 |\n",
       "| 9 | CS001615000372 | 稲垣 寿々花 | 1 | 女性 | 1956-10-29 | 62 | 144-0035 | 東京都大田区南蒲田**********           | S13001 | 20170403 | A-20100104-1 |\n",
       "| 10 | CS032512000121 | 松井 知世   | 1 | 女性 | 1962-09-04 | 56 | 210-0011 | 神奈川県川崎市川崎区富士見**********   | S13032 | 20150727 | A-20100103-5 |\n",
       "\n"
      ],
      "text/plain": [
       "   customer_id    customer_name gender_cd gender birth_day  age postal_cd\n",
       "1  CS011215000048 芦田 沙耶     1         女性   1992-02-01 27  223-0062 \n",
       "2  CS022513000105 島村 貴美子   1         女性   1962-03-12 57  249-0002 \n",
       "3  CS001515000096 水野 陽子     9         不明   1960-11-29 58  144-0053 \n",
       "4  CS013615000053 西脇 季衣     1         女性   1953-10-18 65  261-0026 \n",
       "5  CS020412000161 小宮 薫       1         女性   1974-05-21 44  174-0042 \n",
       "6  CS001215000097 竹中 あさみ   1         女性   1990-07-25 28  146-0095 \n",
       "7  CS035212000007 内村 恵梨香   1         女性   1990-12-04 28  152-0023 \n",
       "8  CS002515000386 野田 コウ     1         女性   1963-05-30 55  185-0013 \n",
       "9  CS001615000372 稲垣 寿々花   1         女性   1956-10-29 62  144-0035 \n",
       "10 CS032512000121 松井 知世     1         女性   1962-09-04 56  210-0011 \n",
       "   address                                application_store_cd application_date\n",
       "1  神奈川県横浜市港北区日吉本町********** S14011               20150228        \n",
       "2  神奈川県逗子市山の根**********         S14022               20150320        \n",
       "3  東京都大田区蒲田本町**********         S13001               20150614        \n",
       "4  千葉県千葉市美浜区幕張西**********     S12013               20150128        \n",
       "5  東京都板橋区東坂下**********           S13020               20150822        \n",
       "6  東京都大田区多摩川**********           S13001               20170315        \n",
       "7  東京都目黒区八雲**********             S13035               20151013        \n",
       "8  東京都国分寺市西恋ケ窪**********       S13002               20160410        \n",
       "9  東京都大田区南蒲田**********           S13001               20170403        \n",
       "10 神奈川県川崎市川崎区富士見**********   S13032               20150727        \n",
       "   status_cd   \n",
       "1  C-20100421-9\n",
       "2  A-20091115-7\n",
       "3  A-20100724-7\n",
       "4  B-20100329-6\n",
       "5  B-20081021-3\n",
       "6  A-20100211-2\n",
       "7  B-20101018-6\n",
       "8  C-20100127-8\n",
       "9  A-20100104-1\n",
       "10 A-20100103-5"
      ]
     },
     "metadata": {},
     "output_type": "display_data"
    }
   ],
   "source": [
    "head(df_customer %>% filter(grepl(\"^[A-F].*[1-9]$\",status_cd)),n=10)"
   ]
  },
  {
   "cell_type": "markdown",
   "metadata": {},
   "source": [
    "---\n",
    "> R-016: 店舗データフレーム（df_store）から、電話番号（tel_no）が3桁-3桁-4桁のデータを全項目表示せよ。"
   ]
  },
  {
   "cell_type": "code",
   "execution_count": 31,
   "metadata": {},
   "outputs": [
    {
     "data": {
      "text/html": [
       "<table class=\"dataframe\">\n",
       "<caption>A data.frame: 34 × 10</caption>\n",
       "<thead>\n",
       "\t<tr><th scope=col>store_cd</th><th scope=col>store_name</th><th scope=col>prefecture_cd</th><th scope=col>prefecture</th><th scope=col>address</th><th scope=col>address_kana</th><th scope=col>tel_no</th><th scope=col>longitude</th><th scope=col>latitude</th><th scope=col>floor_area</th></tr>\n",
       "\t<tr><th scope=col>&lt;chr&gt;</th><th scope=col>&lt;chr&gt;</th><th scope=col>&lt;chr&gt;</th><th scope=col>&lt;chr&gt;</th><th scope=col>&lt;chr&gt;</th><th scope=col>&lt;chr&gt;</th><th scope=col>&lt;chr&gt;</th><th scope=col>&lt;dbl&gt;</th><th scope=col>&lt;dbl&gt;</th><th scope=col>&lt;dbl&gt;</th></tr>\n",
       "</thead>\n",
       "<tbody>\n",
       "\t<tr><td>S12014</td><td>千草台店    </td><td>12</td><td>千葉県  </td><td>千葉県千葉市稲毛区千草台一丁目        </td><td>チバケンチバシイナゲクチグサダイイッチョウメ                </td><td>043-123-4003</td><td>140.1180</td><td>35.63559</td><td>1698</td></tr>\n",
       "\t<tr><td>S13002</td><td>国分寺店    </td><td>13</td><td>東京都  </td><td>東京都国分寺市本多二丁目              </td><td>トウキョウトコクブンジシホンダニチョウメ                    </td><td>042-123-4008</td><td>139.4802</td><td>35.70566</td><td>1735</td></tr>\n",
       "\t<tr><td>S14010</td><td>菊名店      </td><td>14</td><td>神奈川県</td><td>神奈川県横浜市港北区菊名一丁目        </td><td>カナガワケンヨコハマシコウホククキクナイッチョウメ          </td><td>045-123-4032</td><td>139.6326</td><td>35.50049</td><td>1732</td></tr>\n",
       "\t<tr><td>S14033</td><td>阿久和店    </td><td>14</td><td>神奈川県</td><td>神奈川県横浜市瀬谷区阿久和西一丁目    </td><td>カナガワケンヨコハマシセヤクアクワニシイッチョウメ          </td><td>045-123-4043</td><td>139.4961</td><td>35.45918</td><td>1495</td></tr>\n",
       "\t<tr><td>S14036</td><td>相模原中央店</td><td>14</td><td>神奈川県</td><td>神奈川県相模原市中央二丁目            </td><td>カナガワケンサガミハラシチュウオウニチョウメ                </td><td>042-123-4045</td><td>139.3716</td><td>35.57327</td><td>1679</td></tr>\n",
       "\t<tr><td>S14040</td><td>長津田店    </td><td>14</td><td>神奈川県</td><td>神奈川県横浜市緑区長津田みなみ台五丁目</td><td>カナガワケンヨコハマシミドリクナガツタミナミダイゴチョウメ  </td><td>045-123-4046</td><td>139.4994</td><td>35.52398</td><td>1548</td></tr>\n",
       "\t<tr><td>S14050</td><td>阿久和西店  </td><td>14</td><td>神奈川県</td><td>神奈川県横浜市瀬谷区阿久和西一丁目    </td><td>カナガワケンヨコハマシセヤクアクワニシイッチョウメ          </td><td>045-123-4053</td><td>139.4961</td><td>35.45918</td><td>1830</td></tr>\n",
       "\t<tr><td>S13052</td><td>森野店      </td><td>13</td><td>東京都  </td><td>東京都町田市森野三丁目                </td><td>トウキョウトマチダシモリノサンチョウメ                      </td><td>042-123-4030</td><td>139.4383</td><td>35.55293</td><td>1087</td></tr>\n",
       "\t<tr><td>S14028</td><td>二ツ橋店    </td><td>14</td><td>神奈川県</td><td>神奈川県横浜市瀬谷区二ツ橋町          </td><td>カナガワケンヨコハマシセヤクフタツバシチョウ                </td><td>045-123-4042</td><td>139.4963</td><td>35.46304</td><td>1574</td></tr>\n",
       "\t<tr><td>S14012</td><td>本牧和田店  </td><td>14</td><td>神奈川県</td><td>神奈川県横浜市中区本牧和田            </td><td>カナガワケンヨコハマシナカクホンモクワダ                    </td><td>045-123-4034</td><td>139.6582</td><td>35.42156</td><td>1341</td></tr>\n",
       "\t<tr><td>S14046</td><td>北山田店    </td><td>14</td><td>神奈川県</td><td>神奈川県横浜市都筑区北山田一丁目      </td><td>カナガワケンヨコハマシツヅキクキタヤマタイッチョウメ        </td><td>045-123-4049</td><td>139.5916</td><td>35.56189</td><td> 831</td></tr>\n",
       "\t<tr><td>S14022</td><td>逗子店      </td><td>14</td><td>神奈川県</td><td>神奈川県逗子市逗子一丁目              </td><td>カナガワケンズシシズシイッチョウメ                          </td><td>046-123-4036</td><td>139.5789</td><td>35.29642</td><td>1838</td></tr>\n",
       "\t<tr><td>S14011</td><td>日吉本町店  </td><td>14</td><td>神奈川県</td><td>神奈川県横浜市港北区日吉本町四丁目    </td><td>カナガワケンヨコハマシコウホククヒヨシホンチョウヨンチョウメ</td><td>045-123-4033</td><td>139.6316</td><td>35.54655</td><td> 890</td></tr>\n",
       "\t<tr><td>S13016</td><td>小金井店    </td><td>13</td><td>東京都  </td><td>東京都小金井市本町一丁目              </td><td>トウキョウトコガネイシホンチョウイッチョウメ                </td><td>042-123-4015</td><td>139.5094</td><td>35.70018</td><td>1399</td></tr>\n",
       "\t<tr><td>S14034</td><td>川崎野川店  </td><td>14</td><td>神奈川県</td><td>神奈川県川崎市宮前区野川              </td><td>カナガワケンカワサキシミヤマエクノガワ                      </td><td>044-123-4044</td><td>139.5998</td><td>35.57693</td><td>1318</td></tr>\n",
       "\t<tr><td>S14048</td><td>中川中央店  </td><td>14</td><td>神奈川県</td><td>神奈川県横浜市都筑区中川中央二丁目    </td><td>カナガワケンヨコハマシツヅキクナカガワチュウオウニチョウメ  </td><td>045-123-4051</td><td>139.5758</td><td>35.54912</td><td>1657</td></tr>\n",
       "\t<tr><td>S12007</td><td>佐倉店      </td><td>12</td><td>千葉県  </td><td>千葉県佐倉市上志津                    </td><td>チバケンサクラシカミシヅ                                    </td><td>043-123-4001</td><td>140.1452</td><td>35.71872</td><td>1895</td></tr>\n",
       "\t<tr><td>S14026</td><td>辻堂西海岸店</td><td>14</td><td>神奈川県</td><td>神奈川県藤沢市辻堂西海岸二丁目        </td><td>カナガワケンフジサワシツジドウニシカイガンニチョウメ        </td><td>046-123-4040</td><td>139.4466</td><td>35.32464</td><td>1732</td></tr>\n",
       "\t<tr><td>S13041</td><td>八王子店    </td><td>13</td><td>東京都  </td><td>東京都八王子市大塚                    </td><td>トウキョウトハチオウジシオオツカ                            </td><td>042-123-4026</td><td>139.4235</td><td>35.63787</td><td> 810</td></tr>\n",
       "\t<tr><td>S14049</td><td>川崎大師店  </td><td>14</td><td>神奈川県</td><td>神奈川県川崎市川崎区中瀬三丁目        </td><td>カナガワケンカワサキシカワサキクナカゼサンチョウメ          </td><td>044-123-4052</td><td>139.7327</td><td>35.53759</td><td> 962</td></tr>\n",
       "\t<tr><td>S14023</td><td>川崎店      </td><td>14</td><td>神奈川県</td><td>神奈川県川崎市川崎区本町二丁目        </td><td>カナガワケンカワサキシカワサキクホンチョウニチョウメ        </td><td>044-123-4037</td><td>139.7028</td><td>35.53599</td><td>1804</td></tr>\n",
       "\t<tr><td>S13018</td><td>清瀬店      </td><td>13</td><td>東京都  </td><td>東京都清瀬市松山一丁目                </td><td>トウキョウトキヨセシマツヤマイッチョウメ                    </td><td>042-123-4017</td><td>139.5178</td><td>35.76885</td><td>1220</td></tr>\n",
       "\t<tr><td>S14027</td><td>南藤沢店    </td><td>14</td><td>神奈川県</td><td>神奈川県藤沢市南藤沢                  </td><td>カナガワケンフジサワシミナミフジサワ                        </td><td>046-123-4041</td><td>139.4896</td><td>35.33762</td><td>1521</td></tr>\n",
       "\t<tr><td>S14021</td><td>伊勢原店    </td><td>14</td><td>神奈川県</td><td>神奈川県伊勢原市伊勢原四丁目          </td><td>カナガワケンイセハラシイセハラヨンチョウメ                  </td><td>046-123-4035</td><td>139.3129</td><td>35.40169</td><td> 962</td></tr>\n",
       "\t<tr><td>S14047</td><td>相模原店    </td><td>14</td><td>神奈川県</td><td>神奈川県相模原市千代田六丁目          </td><td>カナガワケンサガミハラシチヨダロクチョウメ                  </td><td>042-123-4050</td><td>139.3748</td><td>35.55959</td><td>1047</td></tr>\n",
       "\t<tr><td>S12013</td><td>習志野店    </td><td>12</td><td>千葉県  </td><td>千葉県習志野市芝園一丁目              </td><td>チバケンナラシノシシバゾノイッチョウメ                      </td><td>047-123-4002</td><td>140.0220</td><td>35.66122</td><td> 808</td></tr>\n",
       "\t<tr><td>S14042</td><td>新山下店    </td><td>14</td><td>神奈川県</td><td>神奈川県横浜市中区新山下二丁目        </td><td>カナガワケンヨコハマシナカクシンヤマシタニチョウメ          </td><td>045-123-4047</td><td>139.6593</td><td>35.43894</td><td>1044</td></tr>\n",
       "\t<tr><td>S12030</td><td>八幡店      </td><td>12</td><td>千葉県  </td><td>千葉県市川市八幡三丁目                </td><td>チバケンイチカワシヤワタサンチョウメ                        </td><td>047-123-4005</td><td>139.9240</td><td>35.72318</td><td>1162</td></tr>\n",
       "\t<tr><td>S14025</td><td>大和店      </td><td>14</td><td>神奈川県</td><td>神奈川県大和市下和田                  </td><td>カナガワケンヤマトシシモワダ                                </td><td>046-123-4039</td><td>139.4680</td><td>35.43414</td><td>1011</td></tr>\n",
       "\t<tr><td>S14045</td><td>厚木店      </td><td>14</td><td>神奈川県</td><td>神奈川県厚木市中町二丁目              </td><td>カナガワケンアツギシナカチョウニチョウメ                    </td><td>046-123-4048</td><td>139.3651</td><td>35.44182</td><td> 980</td></tr>\n",
       "\t<tr><td>S12029</td><td>東野店      </td><td>12</td><td>千葉県  </td><td>千葉県浦安市東野一丁目                </td><td>チバケンウラヤスシヒガシノイッチョウメ                      </td><td>047-123-4004</td><td>139.8968</td><td>35.65086</td><td>1101</td></tr>\n",
       "\t<tr><td>S12053</td><td>高洲店      </td><td>12</td><td>千葉県  </td><td>千葉県浦安市高洲五丁目                </td><td>チバケンウラヤスシタカスゴチョウメ                          </td><td>047-123-4006</td><td>139.9176</td><td>35.63755</td><td>1555</td></tr>\n",
       "\t<tr><td>S14024</td><td>三田店      </td><td>14</td><td>神奈川県</td><td>神奈川県川崎市多摩区三田四丁目        </td><td>カナガワケンカワサキシタマクミタヨンチョウメ                </td><td>044-123-4038</td><td>139.5424</td><td>35.60770</td><td> 972</td></tr>\n",
       "\t<tr><td>S14006</td><td>葛が谷店    </td><td>14</td><td>神奈川県</td><td>神奈川県横浜市都筑区葛が谷            </td><td>カナガワケンヨコハマシツヅキククズガヤ                      </td><td>045-123-4031</td><td>139.5633</td><td>35.53573</td><td>1886</td></tr>\n",
       "</tbody>\n",
       "</table>\n"
      ],
      "text/latex": [
       "A data.frame: 34 × 10\n",
       "\\begin{tabular}{llllllllll}\n",
       " store\\_cd & store\\_name & prefecture\\_cd & prefecture & address & address\\_kana & tel\\_no & longitude & latitude & floor\\_area\\\\\n",
       " <chr> & <chr> & <chr> & <chr> & <chr> & <chr> & <chr> & <dbl> & <dbl> & <dbl>\\\\\n",
       "\\hline\n",
       "\t S12014 & 千草台店     & 12 & 千葉県   & 千葉県千葉市稲毛区千草台一丁目         & チバケンチバシイナゲクチグサダイイッチョウメ                 & 043-123-4003 & 140.1180 & 35.63559 & 1698\\\\\n",
       "\t S13002 & 国分寺店     & 13 & 東京都   & 東京都国分寺市本多二丁目               & トウキョウトコクブンジシホンダニチョウメ                     & 042-123-4008 & 139.4802 & 35.70566 & 1735\\\\\n",
       "\t S14010 & 菊名店       & 14 & 神奈川県 & 神奈川県横浜市港北区菊名一丁目         & カナガワケンヨコハマシコウホククキクナイッチョウメ           & 045-123-4032 & 139.6326 & 35.50049 & 1732\\\\\n",
       "\t S14033 & 阿久和店     & 14 & 神奈川県 & 神奈川県横浜市瀬谷区阿久和西一丁目     & カナガワケンヨコハマシセヤクアクワニシイッチョウメ           & 045-123-4043 & 139.4961 & 35.45918 & 1495\\\\\n",
       "\t S14036 & 相模原中央店 & 14 & 神奈川県 & 神奈川県相模原市中央二丁目             & カナガワケンサガミハラシチュウオウニチョウメ                 & 042-123-4045 & 139.3716 & 35.57327 & 1679\\\\\n",
       "\t S14040 & 長津田店     & 14 & 神奈川県 & 神奈川県横浜市緑区長津田みなみ台五丁目 & カナガワケンヨコハマシミドリクナガツタミナミダイゴチョウメ   & 045-123-4046 & 139.4994 & 35.52398 & 1548\\\\\n",
       "\t S14050 & 阿久和西店   & 14 & 神奈川県 & 神奈川県横浜市瀬谷区阿久和西一丁目     & カナガワケンヨコハマシセヤクアクワニシイッチョウメ           & 045-123-4053 & 139.4961 & 35.45918 & 1830\\\\\n",
       "\t S13052 & 森野店       & 13 & 東京都   & 東京都町田市森野三丁目                 & トウキョウトマチダシモリノサンチョウメ                       & 042-123-4030 & 139.4383 & 35.55293 & 1087\\\\\n",
       "\t S14028 & 二ツ橋店     & 14 & 神奈川県 & 神奈川県横浜市瀬谷区二ツ橋町           & カナガワケンヨコハマシセヤクフタツバシチョウ                 & 045-123-4042 & 139.4963 & 35.46304 & 1574\\\\\n",
       "\t S14012 & 本牧和田店   & 14 & 神奈川県 & 神奈川県横浜市中区本牧和田             & カナガワケンヨコハマシナカクホンモクワダ                     & 045-123-4034 & 139.6582 & 35.42156 & 1341\\\\\n",
       "\t S14046 & 北山田店     & 14 & 神奈川県 & 神奈川県横浜市都筑区北山田一丁目       & カナガワケンヨコハマシツヅキクキタヤマタイッチョウメ         & 045-123-4049 & 139.5916 & 35.56189 &  831\\\\\n",
       "\t S14022 & 逗子店       & 14 & 神奈川県 & 神奈川県逗子市逗子一丁目               & カナガワケンズシシズシイッチョウメ                           & 046-123-4036 & 139.5789 & 35.29642 & 1838\\\\\n",
       "\t S14011 & 日吉本町店   & 14 & 神奈川県 & 神奈川県横浜市港北区日吉本町四丁目     & カナガワケンヨコハマシコウホククヒヨシホンチョウヨンチョウメ & 045-123-4033 & 139.6316 & 35.54655 &  890\\\\\n",
       "\t S13016 & 小金井店     & 13 & 東京都   & 東京都小金井市本町一丁目               & トウキョウトコガネイシホンチョウイッチョウメ                 & 042-123-4015 & 139.5094 & 35.70018 & 1399\\\\\n",
       "\t S14034 & 川崎野川店   & 14 & 神奈川県 & 神奈川県川崎市宮前区野川               & カナガワケンカワサキシミヤマエクノガワ                       & 044-123-4044 & 139.5998 & 35.57693 & 1318\\\\\n",
       "\t S14048 & 中川中央店   & 14 & 神奈川県 & 神奈川県横浜市都筑区中川中央二丁目     & カナガワケンヨコハマシツヅキクナカガワチュウオウニチョウメ   & 045-123-4051 & 139.5758 & 35.54912 & 1657\\\\\n",
       "\t S12007 & 佐倉店       & 12 & 千葉県   & 千葉県佐倉市上志津                     & チバケンサクラシカミシヅ                                     & 043-123-4001 & 140.1452 & 35.71872 & 1895\\\\\n",
       "\t S14026 & 辻堂西海岸店 & 14 & 神奈川県 & 神奈川県藤沢市辻堂西海岸二丁目         & カナガワケンフジサワシツジドウニシカイガンニチョウメ         & 046-123-4040 & 139.4466 & 35.32464 & 1732\\\\\n",
       "\t S13041 & 八王子店     & 13 & 東京都   & 東京都八王子市大塚                     & トウキョウトハチオウジシオオツカ                             & 042-123-4026 & 139.4235 & 35.63787 &  810\\\\\n",
       "\t S14049 & 川崎大師店   & 14 & 神奈川県 & 神奈川県川崎市川崎区中瀬三丁目         & カナガワケンカワサキシカワサキクナカゼサンチョウメ           & 044-123-4052 & 139.7327 & 35.53759 &  962\\\\\n",
       "\t S14023 & 川崎店       & 14 & 神奈川県 & 神奈川県川崎市川崎区本町二丁目         & カナガワケンカワサキシカワサキクホンチョウニチョウメ         & 044-123-4037 & 139.7028 & 35.53599 & 1804\\\\\n",
       "\t S13018 & 清瀬店       & 13 & 東京都   & 東京都清瀬市松山一丁目                 & トウキョウトキヨセシマツヤマイッチョウメ                     & 042-123-4017 & 139.5178 & 35.76885 & 1220\\\\\n",
       "\t S14027 & 南藤沢店     & 14 & 神奈川県 & 神奈川県藤沢市南藤沢                   & カナガワケンフジサワシミナミフジサワ                         & 046-123-4041 & 139.4896 & 35.33762 & 1521\\\\\n",
       "\t S14021 & 伊勢原店     & 14 & 神奈川県 & 神奈川県伊勢原市伊勢原四丁目           & カナガワケンイセハラシイセハラヨンチョウメ                   & 046-123-4035 & 139.3129 & 35.40169 &  962\\\\\n",
       "\t S14047 & 相模原店     & 14 & 神奈川県 & 神奈川県相模原市千代田六丁目           & カナガワケンサガミハラシチヨダロクチョウメ                   & 042-123-4050 & 139.3748 & 35.55959 & 1047\\\\\n",
       "\t S12013 & 習志野店     & 12 & 千葉県   & 千葉県習志野市芝園一丁目               & チバケンナラシノシシバゾノイッチョウメ                       & 047-123-4002 & 140.0220 & 35.66122 &  808\\\\\n",
       "\t S14042 & 新山下店     & 14 & 神奈川県 & 神奈川県横浜市中区新山下二丁目         & カナガワケンヨコハマシナカクシンヤマシタニチョウメ           & 045-123-4047 & 139.6593 & 35.43894 & 1044\\\\\n",
       "\t S12030 & 八幡店       & 12 & 千葉県   & 千葉県市川市八幡三丁目                 & チバケンイチカワシヤワタサンチョウメ                         & 047-123-4005 & 139.9240 & 35.72318 & 1162\\\\\n",
       "\t S14025 & 大和店       & 14 & 神奈川県 & 神奈川県大和市下和田                   & カナガワケンヤマトシシモワダ                                 & 046-123-4039 & 139.4680 & 35.43414 & 1011\\\\\n",
       "\t S14045 & 厚木店       & 14 & 神奈川県 & 神奈川県厚木市中町二丁目               & カナガワケンアツギシナカチョウニチョウメ                     & 046-123-4048 & 139.3651 & 35.44182 &  980\\\\\n",
       "\t S12029 & 東野店       & 12 & 千葉県   & 千葉県浦安市東野一丁目                 & チバケンウラヤスシヒガシノイッチョウメ                       & 047-123-4004 & 139.8968 & 35.65086 & 1101\\\\\n",
       "\t S12053 & 高洲店       & 12 & 千葉県   & 千葉県浦安市高洲五丁目                 & チバケンウラヤスシタカスゴチョウメ                           & 047-123-4006 & 139.9176 & 35.63755 & 1555\\\\\n",
       "\t S14024 & 三田店       & 14 & 神奈川県 & 神奈川県川崎市多摩区三田四丁目         & カナガワケンカワサキシタマクミタヨンチョウメ                 & 044-123-4038 & 139.5424 & 35.60770 &  972\\\\\n",
       "\t S14006 & 葛が谷店     & 14 & 神奈川県 & 神奈川県横浜市都筑区葛が谷             & カナガワケンヨコハマシツヅキククズガヤ                       & 045-123-4031 & 139.5633 & 35.53573 & 1886\\\\\n",
       "\\end{tabular}\n"
      ],
      "text/markdown": [
       "\n",
       "A data.frame: 34 × 10\n",
       "\n",
       "| store_cd &lt;chr&gt; | store_name &lt;chr&gt; | prefecture_cd &lt;chr&gt; | prefecture &lt;chr&gt; | address &lt;chr&gt; | address_kana &lt;chr&gt; | tel_no &lt;chr&gt; | longitude &lt;dbl&gt; | latitude &lt;dbl&gt; | floor_area &lt;dbl&gt; |\n",
       "|---|---|---|---|---|---|---|---|---|---|\n",
       "| S12014 | 千草台店     | 12 | 千葉県   | 千葉県千葉市稲毛区千草台一丁目         | チバケンチバシイナゲクチグサダイイッチョウメ                 | 043-123-4003 | 140.1180 | 35.63559 | 1698 |\n",
       "| S13002 | 国分寺店     | 13 | 東京都   | 東京都国分寺市本多二丁目               | トウキョウトコクブンジシホンダニチョウメ                     | 042-123-4008 | 139.4802 | 35.70566 | 1735 |\n",
       "| S14010 | 菊名店       | 14 | 神奈川県 | 神奈川県横浜市港北区菊名一丁目         | カナガワケンヨコハマシコウホククキクナイッチョウメ           | 045-123-4032 | 139.6326 | 35.50049 | 1732 |\n",
       "| S14033 | 阿久和店     | 14 | 神奈川県 | 神奈川県横浜市瀬谷区阿久和西一丁目     | カナガワケンヨコハマシセヤクアクワニシイッチョウメ           | 045-123-4043 | 139.4961 | 35.45918 | 1495 |\n",
       "| S14036 | 相模原中央店 | 14 | 神奈川県 | 神奈川県相模原市中央二丁目             | カナガワケンサガミハラシチュウオウニチョウメ                 | 042-123-4045 | 139.3716 | 35.57327 | 1679 |\n",
       "| S14040 | 長津田店     | 14 | 神奈川県 | 神奈川県横浜市緑区長津田みなみ台五丁目 | カナガワケンヨコハマシミドリクナガツタミナミダイゴチョウメ   | 045-123-4046 | 139.4994 | 35.52398 | 1548 |\n",
       "| S14050 | 阿久和西店   | 14 | 神奈川県 | 神奈川県横浜市瀬谷区阿久和西一丁目     | カナガワケンヨコハマシセヤクアクワニシイッチョウメ           | 045-123-4053 | 139.4961 | 35.45918 | 1830 |\n",
       "| S13052 | 森野店       | 13 | 東京都   | 東京都町田市森野三丁目                 | トウキョウトマチダシモリノサンチョウメ                       | 042-123-4030 | 139.4383 | 35.55293 | 1087 |\n",
       "| S14028 | 二ツ橋店     | 14 | 神奈川県 | 神奈川県横浜市瀬谷区二ツ橋町           | カナガワケンヨコハマシセヤクフタツバシチョウ                 | 045-123-4042 | 139.4963 | 35.46304 | 1574 |\n",
       "| S14012 | 本牧和田店   | 14 | 神奈川県 | 神奈川県横浜市中区本牧和田             | カナガワケンヨコハマシナカクホンモクワダ                     | 045-123-4034 | 139.6582 | 35.42156 | 1341 |\n",
       "| S14046 | 北山田店     | 14 | 神奈川県 | 神奈川県横浜市都筑区北山田一丁目       | カナガワケンヨコハマシツヅキクキタヤマタイッチョウメ         | 045-123-4049 | 139.5916 | 35.56189 |  831 |\n",
       "| S14022 | 逗子店       | 14 | 神奈川県 | 神奈川県逗子市逗子一丁目               | カナガワケンズシシズシイッチョウメ                           | 046-123-4036 | 139.5789 | 35.29642 | 1838 |\n",
       "| S14011 | 日吉本町店   | 14 | 神奈川県 | 神奈川県横浜市港北区日吉本町四丁目     | カナガワケンヨコハマシコウホククヒヨシホンチョウヨンチョウメ | 045-123-4033 | 139.6316 | 35.54655 |  890 |\n",
       "| S13016 | 小金井店     | 13 | 東京都   | 東京都小金井市本町一丁目               | トウキョウトコガネイシホンチョウイッチョウメ                 | 042-123-4015 | 139.5094 | 35.70018 | 1399 |\n",
       "| S14034 | 川崎野川店   | 14 | 神奈川県 | 神奈川県川崎市宮前区野川               | カナガワケンカワサキシミヤマエクノガワ                       | 044-123-4044 | 139.5998 | 35.57693 | 1318 |\n",
       "| S14048 | 中川中央店   | 14 | 神奈川県 | 神奈川県横浜市都筑区中川中央二丁目     | カナガワケンヨコハマシツヅキクナカガワチュウオウニチョウメ   | 045-123-4051 | 139.5758 | 35.54912 | 1657 |\n",
       "| S12007 | 佐倉店       | 12 | 千葉県   | 千葉県佐倉市上志津                     | チバケンサクラシカミシヅ                                     | 043-123-4001 | 140.1452 | 35.71872 | 1895 |\n",
       "| S14026 | 辻堂西海岸店 | 14 | 神奈川県 | 神奈川県藤沢市辻堂西海岸二丁目         | カナガワケンフジサワシツジドウニシカイガンニチョウメ         | 046-123-4040 | 139.4466 | 35.32464 | 1732 |\n",
       "| S13041 | 八王子店     | 13 | 東京都   | 東京都八王子市大塚                     | トウキョウトハチオウジシオオツカ                             | 042-123-4026 | 139.4235 | 35.63787 |  810 |\n",
       "| S14049 | 川崎大師店   | 14 | 神奈川県 | 神奈川県川崎市川崎区中瀬三丁目         | カナガワケンカワサキシカワサキクナカゼサンチョウメ           | 044-123-4052 | 139.7327 | 35.53759 |  962 |\n",
       "| S14023 | 川崎店       | 14 | 神奈川県 | 神奈川県川崎市川崎区本町二丁目         | カナガワケンカワサキシカワサキクホンチョウニチョウメ         | 044-123-4037 | 139.7028 | 35.53599 | 1804 |\n",
       "| S13018 | 清瀬店       | 13 | 東京都   | 東京都清瀬市松山一丁目                 | トウキョウトキヨセシマツヤマイッチョウメ                     | 042-123-4017 | 139.5178 | 35.76885 | 1220 |\n",
       "| S14027 | 南藤沢店     | 14 | 神奈川県 | 神奈川県藤沢市南藤沢                   | カナガワケンフジサワシミナミフジサワ                         | 046-123-4041 | 139.4896 | 35.33762 | 1521 |\n",
       "| S14021 | 伊勢原店     | 14 | 神奈川県 | 神奈川県伊勢原市伊勢原四丁目           | カナガワケンイセハラシイセハラヨンチョウメ                   | 046-123-4035 | 139.3129 | 35.40169 |  962 |\n",
       "| S14047 | 相模原店     | 14 | 神奈川県 | 神奈川県相模原市千代田六丁目           | カナガワケンサガミハラシチヨダロクチョウメ                   | 042-123-4050 | 139.3748 | 35.55959 | 1047 |\n",
       "| S12013 | 習志野店     | 12 | 千葉県   | 千葉県習志野市芝園一丁目               | チバケンナラシノシシバゾノイッチョウメ                       | 047-123-4002 | 140.0220 | 35.66122 |  808 |\n",
       "| S14042 | 新山下店     | 14 | 神奈川県 | 神奈川県横浜市中区新山下二丁目         | カナガワケンヨコハマシナカクシンヤマシタニチョウメ           | 045-123-4047 | 139.6593 | 35.43894 | 1044 |\n",
       "| S12030 | 八幡店       | 12 | 千葉県   | 千葉県市川市八幡三丁目                 | チバケンイチカワシヤワタサンチョウメ                         | 047-123-4005 | 139.9240 | 35.72318 | 1162 |\n",
       "| S14025 | 大和店       | 14 | 神奈川県 | 神奈川県大和市下和田                   | カナガワケンヤマトシシモワダ                                 | 046-123-4039 | 139.4680 | 35.43414 | 1011 |\n",
       "| S14045 | 厚木店       | 14 | 神奈川県 | 神奈川県厚木市中町二丁目               | カナガワケンアツギシナカチョウニチョウメ                     | 046-123-4048 | 139.3651 | 35.44182 |  980 |\n",
       "| S12029 | 東野店       | 12 | 千葉県   | 千葉県浦安市東野一丁目                 | チバケンウラヤスシヒガシノイッチョウメ                       | 047-123-4004 | 139.8968 | 35.65086 | 1101 |\n",
       "| S12053 | 高洲店       | 12 | 千葉県   | 千葉県浦安市高洲五丁目                 | チバケンウラヤスシタカスゴチョウメ                           | 047-123-4006 | 139.9176 | 35.63755 | 1555 |\n",
       "| S14024 | 三田店       | 14 | 神奈川県 | 神奈川県川崎市多摩区三田四丁目         | カナガワケンカワサキシタマクミタヨンチョウメ                 | 044-123-4038 | 139.5424 | 35.60770 |  972 |\n",
       "| S14006 | 葛が谷店     | 14 | 神奈川県 | 神奈川県横浜市都筑区葛が谷             | カナガワケンヨコハマシツヅキククズガヤ                       | 045-123-4031 | 139.5633 | 35.53573 | 1886 |\n",
       "\n"
      ],
      "text/plain": [
       "   store_cd store_name   prefecture_cd prefecture\n",
       "1  S12014   千草台店     12            千葉県    \n",
       "2  S13002   国分寺店     13            東京都    \n",
       "3  S14010   菊名店       14            神奈川県  \n",
       "4  S14033   阿久和店     14            神奈川県  \n",
       "5  S14036   相模原中央店 14            神奈川県  \n",
       "6  S14040   長津田店     14            神奈川県  \n",
       "7  S14050   阿久和西店   14            神奈川県  \n",
       "8  S13052   森野店       13            東京都    \n",
       "9  S14028   二ツ橋店     14            神奈川県  \n",
       "10 S14012   本牧和田店   14            神奈川県  \n",
       "11 S14046   北山田店     14            神奈川県  \n",
       "12 S14022   逗子店       14            神奈川県  \n",
       "13 S14011   日吉本町店   14            神奈川県  \n",
       "14 S13016   小金井店     13            東京都    \n",
       "15 S14034   川崎野川店   14            神奈川県  \n",
       "16 S14048   中川中央店   14            神奈川県  \n",
       "17 S12007   佐倉店       12            千葉県    \n",
       "18 S14026   辻堂西海岸店 14            神奈川県  \n",
       "19 S13041   八王子店     13            東京都    \n",
       "20 S14049   川崎大師店   14            神奈川県  \n",
       "21 S14023   川崎店       14            神奈川県  \n",
       "22 S13018   清瀬店       13            東京都    \n",
       "23 S14027   南藤沢店     14            神奈川県  \n",
       "24 S14021   伊勢原店     14            神奈川県  \n",
       "25 S14047   相模原店     14            神奈川県  \n",
       "26 S12013   習志野店     12            千葉県    \n",
       "27 S14042   新山下店     14            神奈川県  \n",
       "28 S12030   八幡店       12            千葉県    \n",
       "29 S14025   大和店       14            神奈川県  \n",
       "30 S14045   厚木店       14            神奈川県  \n",
       "31 S12029   東野店       12            千葉県    \n",
       "32 S12053   高洲店       12            千葉県    \n",
       "33 S14024   三田店       14            神奈川県  \n",
       "34 S14006   葛が谷店     14            神奈川県  \n",
       "   address                               \n",
       "1  千葉県千葉市稲毛区千草台一丁目        \n",
       "2  東京都国分寺市本多二丁目              \n",
       "3  神奈川県横浜市港北区菊名一丁目        \n",
       "4  神奈川県横浜市瀬谷区阿久和西一丁目    \n",
       "5  神奈川県相模原市中央二丁目            \n",
       "6  神奈川県横浜市緑区長津田みなみ台五丁目\n",
       "7  神奈川県横浜市瀬谷区阿久和西一丁目    \n",
       "8  東京都町田市森野三丁目                \n",
       "9  神奈川県横浜市瀬谷区二ツ橋町          \n",
       "10 神奈川県横浜市中区本牧和田            \n",
       "11 神奈川県横浜市都筑区北山田一丁目      \n",
       "12 神奈川県逗子市逗子一丁目              \n",
       "13 神奈川県横浜市港北区日吉本町四丁目    \n",
       "14 東京都小金井市本町一丁目              \n",
       "15 神奈川県川崎市宮前区野川              \n",
       "16 神奈川県横浜市都筑区中川中央二丁目    \n",
       "17 千葉県佐倉市上志津                    \n",
       "18 神奈川県藤沢市辻堂西海岸二丁目        \n",
       "19 東京都八王子市大塚                    \n",
       "20 神奈川県川崎市川崎区中瀬三丁目        \n",
       "21 神奈川県川崎市川崎区本町二丁目        \n",
       "22 東京都清瀬市松山一丁目                \n",
       "23 神奈川県藤沢市南藤沢                  \n",
       "24 神奈川県伊勢原市伊勢原四丁目          \n",
       "25 神奈川県相模原市千代田六丁目          \n",
       "26 千葉県習志野市芝園一丁目              \n",
       "27 神奈川県横浜市中区新山下二丁目        \n",
       "28 千葉県市川市八幡三丁目                \n",
       "29 神奈川県大和市下和田                  \n",
       "30 神奈川県厚木市中町二丁目              \n",
       "31 千葉県浦安市東野一丁目                \n",
       "32 千葉県浦安市高洲五丁目                \n",
       "33 神奈川県川崎市多摩区三田四丁目        \n",
       "34 神奈川県横浜市都筑区葛が谷            \n",
       "   address_kana                                                 tel_no      \n",
       "1  チバケンチバシイナゲクチグサダイイッチョウメ                 043-123-4003\n",
       "2  トウキョウトコクブンジシホンダニチョウメ                     042-123-4008\n",
       "3  カナガワケンヨコハマシコウホククキクナイッチョウメ           045-123-4032\n",
       "4  カナガワケンヨコハマシセヤクアクワニシイッチョウメ           045-123-4043\n",
       "5  カナガワケンサガミハラシチュウオウニチョウメ                 042-123-4045\n",
       "6  カナガワケンヨコハマシミドリクナガツタミナミダイゴチョウメ   045-123-4046\n",
       "7  カナガワケンヨコハマシセヤクアクワニシイッチョウメ           045-123-4053\n",
       "8  トウキョウトマチダシモリノサンチョウメ                       042-123-4030\n",
       "9  カナガワケンヨコハマシセヤクフタツバシチョウ                 045-123-4042\n",
       "10 カナガワケンヨコハマシナカクホンモクワダ                     045-123-4034\n",
       "11 カナガワケンヨコハマシツヅキクキタヤマタイッチョウメ         045-123-4049\n",
       "12 カナガワケンズシシズシイッチョウメ                           046-123-4036\n",
       "13 カナガワケンヨコハマシコウホククヒヨシホンチョウヨンチョウメ 045-123-4033\n",
       "14 トウキョウトコガネイシホンチョウイッチョウメ                 042-123-4015\n",
       "15 カナガワケンカワサキシミヤマエクノガワ                       044-123-4044\n",
       "16 カナガワケンヨコハマシツヅキクナカガワチュウオウニチョウメ   045-123-4051\n",
       "17 チバケンサクラシカミシヅ                                     043-123-4001\n",
       "18 カナガワケンフジサワシツジドウニシカイガンニチョウメ         046-123-4040\n",
       "19 トウキョウトハチオウジシオオツカ                             042-123-4026\n",
       "20 カナガワケンカワサキシカワサキクナカゼサンチョウメ           044-123-4052\n",
       "21 カナガワケンカワサキシカワサキクホンチョウニチョウメ         044-123-4037\n",
       "22 トウキョウトキヨセシマツヤマイッチョウメ                     042-123-4017\n",
       "23 カナガワケンフジサワシミナミフジサワ                         046-123-4041\n",
       "24 カナガワケンイセハラシイセハラヨンチョウメ                   046-123-4035\n",
       "25 カナガワケンサガミハラシチヨダロクチョウメ                   042-123-4050\n",
       "26 チバケンナラシノシシバゾノイッチョウメ                       047-123-4002\n",
       "27 カナガワケンヨコハマシナカクシンヤマシタニチョウメ           045-123-4047\n",
       "28 チバケンイチカワシヤワタサンチョウメ                         047-123-4005\n",
       "29 カナガワケンヤマトシシモワダ                                 046-123-4039\n",
       "30 カナガワケンアツギシナカチョウニチョウメ                     046-123-4048\n",
       "31 チバケンウラヤスシヒガシノイッチョウメ                       047-123-4004\n",
       "32 チバケンウラヤスシタカスゴチョウメ                           047-123-4006\n",
       "33 カナガワケンカワサキシタマクミタヨンチョウメ                 044-123-4038\n",
       "34 カナガワケンヨコハマシツヅキククズガヤ                       045-123-4031\n",
       "   longitude latitude floor_area\n",
       "1  140.1180  35.63559 1698      \n",
       "2  139.4802  35.70566 1735      \n",
       "3  139.6326  35.50049 1732      \n",
       "4  139.4961  35.45918 1495      \n",
       "5  139.3716  35.57327 1679      \n",
       "6  139.4994  35.52398 1548      \n",
       "7  139.4961  35.45918 1830      \n",
       "8  139.4383  35.55293 1087      \n",
       "9  139.4963  35.46304 1574      \n",
       "10 139.6582  35.42156 1341      \n",
       "11 139.5916  35.56189  831      \n",
       "12 139.5789  35.29642 1838      \n",
       "13 139.6316  35.54655  890      \n",
       "14 139.5094  35.70018 1399      \n",
       "15 139.5998  35.57693 1318      \n",
       "16 139.5758  35.54912 1657      \n",
       "17 140.1452  35.71872 1895      \n",
       "18 139.4466  35.32464 1732      \n",
       "19 139.4235  35.63787  810      \n",
       "20 139.7327  35.53759  962      \n",
       "21 139.7028  35.53599 1804      \n",
       "22 139.5178  35.76885 1220      \n",
       "23 139.4896  35.33762 1521      \n",
       "24 139.3129  35.40169  962      \n",
       "25 139.3748  35.55959 1047      \n",
       "26 140.0220  35.66122  808      \n",
       "27 139.6593  35.43894 1044      \n",
       "28 139.9240  35.72318 1162      \n",
       "29 139.4680  35.43414 1011      \n",
       "30 139.3651  35.44182  980      \n",
       "31 139.8968  35.65086 1101      \n",
       "32 139.9176  35.63755 1555      \n",
       "33 139.5424  35.60770  972      \n",
       "34 139.5633  35.53573 1886      "
      ]
     },
     "metadata": {},
     "output_type": "display_data"
    }
   ],
   "source": [
    "df_store %>% filter(grepl(\"[0-9]{3}-[0-9]{3}-[0-9]{4}\", tel_no))"
   ]
  },
  {
   "cell_type": "markdown",
   "metadata": {},
   "source": [
    "---\n",
    "> R-017: 顧客データフレーム（df_customer）を生年月日（birth_day）で高齢順にソートし、先頭10件を全項目表示せよ。"
   ]
  },
  {
   "cell_type": "code",
   "execution_count": 37,
   "metadata": {},
   "outputs": [
    {
     "data": {
      "text/html": [
       "<table class=\"dataframe\">\n",
       "<caption>A data.frame: 10 × 11</caption>\n",
       "<thead>\n",
       "\t<tr><th></th><th scope=col>customer_id</th><th scope=col>customer_name</th><th scope=col>gender_cd</th><th scope=col>gender</th><th scope=col>birth_day</th><th scope=col>age</th><th scope=col>postal_cd</th><th scope=col>address</th><th scope=col>application_store_cd</th><th scope=col>application_date</th><th scope=col>status_cd</th></tr>\n",
       "\t<tr><th></th><th scope=col>&lt;chr&gt;</th><th scope=col>&lt;chr&gt;</th><th scope=col>&lt;chr&gt;</th><th scope=col>&lt;chr&gt;</th><th scope=col>&lt;date&gt;</th><th scope=col>&lt;int&gt;</th><th scope=col>&lt;chr&gt;</th><th scope=col>&lt;chr&gt;</th><th scope=col>&lt;chr&gt;</th><th scope=col>&lt;chr&gt;</th><th scope=col>&lt;chr&gt;</th></tr>\n",
       "</thead>\n",
       "<tbody>\n",
       "\t<tr><th scope=row>18818</th><td>CS003813000014</td><td>村山 菜々美</td><td>1</td><td>女性</td><td>1928-11-26</td><td>90</td><td>182-0007</td><td>東京都調布市菊野台**********      </td><td>S13003</td><td>20160214</td><td>0-00000000-0</td></tr>\n",
       "\t<tr><th scope=row>12329</th><td>CS026813000004</td><td>吉村 朝陽  </td><td>1</td><td>女性</td><td>1928-12-14</td><td>90</td><td>251-0043</td><td>神奈川県藤沢市辻堂元町**********  </td><td>S14026</td><td>20150723</td><td>0-00000000-0</td></tr>\n",
       "\t<tr><th scope=row>15683</th><td>CS018811000003</td><td>熊沢 美里  </td><td>1</td><td>女性</td><td>1929-01-07</td><td>90</td><td>204-0004</td><td>東京都清瀬市野塩**********        </td><td>S13018</td><td>20150403</td><td>0-00000000-0</td></tr>\n",
       "\t<tr><th scope=row>15303</th><td>CS027803000004</td><td>内村 拓郎  </td><td>0</td><td>男性</td><td>1929-01-12</td><td>90</td><td>251-0031</td><td>神奈川県藤沢市鵠沼藤が谷**********</td><td>S14027</td><td>20151227</td><td>0-00000000-0</td></tr>\n",
       "\t<tr><th scope=row>1682</th><td>CS013801000003</td><td>天野 拓郎  </td><td>0</td><td>男性</td><td>1929-01-15</td><td>90</td><td>274-0824</td><td>千葉県船橋市前原東**********      </td><td>S12013</td><td>20160120</td><td>0-00000000-0</td></tr>\n",
       "\t<tr><th scope=row>7512</th><td>CS001814000022</td><td>鶴田 里穂  </td><td>1</td><td>女性</td><td>1929-01-28</td><td>90</td><td>144-0045</td><td>東京都大田区南六郷**********      </td><td>S13001</td><td>20161012</td><td>A-20090415-7</td></tr>\n",
       "\t<tr><th scope=row>2379</th><td>CS016815000002</td><td>山元 美紀  </td><td>1</td><td>女性</td><td>1929-02-22</td><td>90</td><td>184-0005</td><td>東京都小金井市桜町**********      </td><td>S13016</td><td>20150629</td><td>C-20090923-C</td></tr>\n",
       "\t<tr><th scope=row>4681</th><td>CS009815000003</td><td>中田 里穂  </td><td>1</td><td>女性</td><td>1929-04-08</td><td>89</td><td>154-0014</td><td>東京都世田谷区新町**********      </td><td>S13009</td><td>20150421</td><td>D-20091021-E</td></tr>\n",
       "\t<tr><th scope=row>6306</th><td>CS012813000013</td><td>宇野 南朋  </td><td>1</td><td>女性</td><td>1929-04-09</td><td>89</td><td>231-0806</td><td>神奈川県横浜市中区本牧町**********</td><td>S14012</td><td>20150712</td><td>0-00000000-0</td></tr>\n",
       "\t<tr><th scope=row>16071</th><td>CS005813000015</td><td>金谷 恵梨香</td><td>1</td><td>女性</td><td>1929-04-09</td><td>89</td><td>165-0032</td><td>東京都中野区鷺宮**********        </td><td>S13005</td><td>20150506</td><td>0-00000000-0</td></tr>\n",
       "</tbody>\n",
       "</table>\n"
      ],
      "text/latex": [
       "A data.frame: 10 × 11\n",
       "\\begin{tabular}{r|lllllllllll}\n",
       "  & customer\\_id & customer\\_name & gender\\_cd & gender & birth\\_day & age & postal\\_cd & address & application\\_store\\_cd & application\\_date & status\\_cd\\\\\n",
       "  & <chr> & <chr> & <chr> & <chr> & <date> & <int> & <chr> & <chr> & <chr> & <chr> & <chr>\\\\\n",
       "\\hline\n",
       "\t18818 & CS003813000014 & 村山 菜々美 & 1 & 女性 & 1928-11-26 & 90 & 182-0007 & 東京都調布市菊野台**********       & S13003 & 20160214 & 0-00000000-0\\\\\n",
       "\t12329 & CS026813000004 & 吉村 朝陽   & 1 & 女性 & 1928-12-14 & 90 & 251-0043 & 神奈川県藤沢市辻堂元町**********   & S14026 & 20150723 & 0-00000000-0\\\\\n",
       "\t15683 & CS018811000003 & 熊沢 美里   & 1 & 女性 & 1929-01-07 & 90 & 204-0004 & 東京都清瀬市野塩**********         & S13018 & 20150403 & 0-00000000-0\\\\\n",
       "\t15303 & CS027803000004 & 内村 拓郎   & 0 & 男性 & 1929-01-12 & 90 & 251-0031 & 神奈川県藤沢市鵠沼藤が谷********** & S14027 & 20151227 & 0-00000000-0\\\\\n",
       "\t1682 & CS013801000003 & 天野 拓郎   & 0 & 男性 & 1929-01-15 & 90 & 274-0824 & 千葉県船橋市前原東**********       & S12013 & 20160120 & 0-00000000-0\\\\\n",
       "\t7512 & CS001814000022 & 鶴田 里穂   & 1 & 女性 & 1929-01-28 & 90 & 144-0045 & 東京都大田区南六郷**********       & S13001 & 20161012 & A-20090415-7\\\\\n",
       "\t2379 & CS016815000002 & 山元 美紀   & 1 & 女性 & 1929-02-22 & 90 & 184-0005 & 東京都小金井市桜町**********       & S13016 & 20150629 & C-20090923-C\\\\\n",
       "\t4681 & CS009815000003 & 中田 里穂   & 1 & 女性 & 1929-04-08 & 89 & 154-0014 & 東京都世田谷区新町**********       & S13009 & 20150421 & D-20091021-E\\\\\n",
       "\t6306 & CS012813000013 & 宇野 南朋   & 1 & 女性 & 1929-04-09 & 89 & 231-0806 & 神奈川県横浜市中区本牧町********** & S14012 & 20150712 & 0-00000000-0\\\\\n",
       "\t16071 & CS005813000015 & 金谷 恵梨香 & 1 & 女性 & 1929-04-09 & 89 & 165-0032 & 東京都中野区鷺宮**********         & S13005 & 20150506 & 0-00000000-0\\\\\n",
       "\\end{tabular}\n"
      ],
      "text/markdown": [
       "\n",
       "A data.frame: 10 × 11\n",
       "\n",
       "| <!--/--> | customer_id &lt;chr&gt; | customer_name &lt;chr&gt; | gender_cd &lt;chr&gt; | gender &lt;chr&gt; | birth_day &lt;date&gt; | age &lt;int&gt; | postal_cd &lt;chr&gt; | address &lt;chr&gt; | application_store_cd &lt;chr&gt; | application_date &lt;chr&gt; | status_cd &lt;chr&gt; |\n",
       "|---|---|---|---|---|---|---|---|---|---|---|---|\n",
       "| 18818 | CS003813000014 | 村山 菜々美 | 1 | 女性 | 1928-11-26 | 90 | 182-0007 | 東京都調布市菊野台**********       | S13003 | 20160214 | 0-00000000-0 |\n",
       "| 12329 | CS026813000004 | 吉村 朝陽   | 1 | 女性 | 1928-12-14 | 90 | 251-0043 | 神奈川県藤沢市辻堂元町**********   | S14026 | 20150723 | 0-00000000-0 |\n",
       "| 15683 | CS018811000003 | 熊沢 美里   | 1 | 女性 | 1929-01-07 | 90 | 204-0004 | 東京都清瀬市野塩**********         | S13018 | 20150403 | 0-00000000-0 |\n",
       "| 15303 | CS027803000004 | 内村 拓郎   | 0 | 男性 | 1929-01-12 | 90 | 251-0031 | 神奈川県藤沢市鵠沼藤が谷********** | S14027 | 20151227 | 0-00000000-0 |\n",
       "| 1682 | CS013801000003 | 天野 拓郎   | 0 | 男性 | 1929-01-15 | 90 | 274-0824 | 千葉県船橋市前原東**********       | S12013 | 20160120 | 0-00000000-0 |\n",
       "| 7512 | CS001814000022 | 鶴田 里穂   | 1 | 女性 | 1929-01-28 | 90 | 144-0045 | 東京都大田区南六郷**********       | S13001 | 20161012 | A-20090415-7 |\n",
       "| 2379 | CS016815000002 | 山元 美紀   | 1 | 女性 | 1929-02-22 | 90 | 184-0005 | 東京都小金井市桜町**********       | S13016 | 20150629 | C-20090923-C |\n",
       "| 4681 | CS009815000003 | 中田 里穂   | 1 | 女性 | 1929-04-08 | 89 | 154-0014 | 東京都世田谷区新町**********       | S13009 | 20150421 | D-20091021-E |\n",
       "| 6306 | CS012813000013 | 宇野 南朋   | 1 | 女性 | 1929-04-09 | 89 | 231-0806 | 神奈川県横浜市中区本牧町********** | S14012 | 20150712 | 0-00000000-0 |\n",
       "| 16071 | CS005813000015 | 金谷 恵梨香 | 1 | 女性 | 1929-04-09 | 89 | 165-0032 | 東京都中野区鷺宮**********         | S13005 | 20150506 | 0-00000000-0 |\n",
       "\n"
      ],
      "text/plain": [
       "      customer_id    customer_name gender_cd gender birth_day  age postal_cd\n",
       "18818 CS003813000014 村山 菜々美   1         女性   1928-11-26 90  182-0007 \n",
       "12329 CS026813000004 吉村 朝陽     1         女性   1928-12-14 90  251-0043 \n",
       "15683 CS018811000003 熊沢 美里     1         女性   1929-01-07 90  204-0004 \n",
       "15303 CS027803000004 内村 拓郎     0         男性   1929-01-12 90  251-0031 \n",
       "1682  CS013801000003 天野 拓郎     0         男性   1929-01-15 90  274-0824 \n",
       "7512  CS001814000022 鶴田 里穂     1         女性   1929-01-28 90  144-0045 \n",
       "2379  CS016815000002 山元 美紀     1         女性   1929-02-22 90  184-0005 \n",
       "4681  CS009815000003 中田 里穂     1         女性   1929-04-08 89  154-0014 \n",
       "6306  CS012813000013 宇野 南朋     1         女性   1929-04-09 89  231-0806 \n",
       "16071 CS005813000015 金谷 恵梨香   1         女性   1929-04-09 89  165-0032 \n",
       "      address                            application_store_cd application_date\n",
       "18818 東京都調布市菊野台**********       S13003               20160214        \n",
       "12329 神奈川県藤沢市辻堂元町**********   S14026               20150723        \n",
       "15683 東京都清瀬市野塩**********         S13018               20150403        \n",
       "15303 神奈川県藤沢市鵠沼藤が谷********** S14027               20151227        \n",
       "1682  千葉県船橋市前原東**********       S12013               20160120        \n",
       "7512  東京都大田区南六郷**********       S13001               20161012        \n",
       "2379  東京都小金井市桜町**********       S13016               20150629        \n",
       "4681  東京都世田谷区新町**********       S13009               20150421        \n",
       "6306  神奈川県横浜市中区本牧町********** S14012               20150712        \n",
       "16071 東京都中野区鷺宮**********         S13005               20150506        \n",
       "      status_cd   \n",
       "18818 0-00000000-0\n",
       "12329 0-00000000-0\n",
       "15683 0-00000000-0\n",
       "15303 0-00000000-0\n",
       "1682  0-00000000-0\n",
       "7512  A-20090415-7\n",
       "2379  C-20090923-C\n",
       "4681  D-20091021-E\n",
       "6306  0-00000000-0\n",
       "16071 0-00000000-0"
      ]
     },
     "metadata": {},
     "output_type": "display_data"
    }
   ],
   "source": [
    "head(df_customer[order(df_customer$birth_day, decreasing=FALSE),], n=10)"
   ]
  },
  {
   "cell_type": "markdown",
   "metadata": {},
   "source": [
    "---\n",
    "> R-018: 顧客データフレーム（df_customer）を生年月日（birth_day）で若い順にソートし、先頭10件を全項目表示せよ。"
   ]
  },
  {
   "cell_type": "code",
   "execution_count": 38,
   "metadata": {},
   "outputs": [
    {
     "data": {
      "text/html": [
       "<table class=\"dataframe\">\n",
       "<caption>A data.frame: 10 × 11</caption>\n",
       "<thead>\n",
       "\t<tr><th></th><th scope=col>customer_id</th><th scope=col>customer_name</th><th scope=col>gender_cd</th><th scope=col>gender</th><th scope=col>birth_day</th><th scope=col>age</th><th scope=col>postal_cd</th><th scope=col>address</th><th scope=col>application_store_cd</th><th scope=col>application_date</th><th scope=col>status_cd</th></tr>\n",
       "\t<tr><th></th><th scope=col>&lt;chr&gt;</th><th scope=col>&lt;chr&gt;</th><th scope=col>&lt;chr&gt;</th><th scope=col>&lt;chr&gt;</th><th scope=col>&lt;date&gt;</th><th scope=col>&lt;int&gt;</th><th scope=col>&lt;chr&gt;</th><th scope=col>&lt;chr&gt;</th><th scope=col>&lt;chr&gt;</th><th scope=col>&lt;chr&gt;</th><th scope=col>&lt;chr&gt;</th></tr>\n",
       "</thead>\n",
       "<tbody>\n",
       "\t<tr><th scope=row>15640</th><td>CS035114000004</td><td>大村 美里  </td><td>1</td><td>女性</td><td>2007-11-25</td><td>11</td><td>156-0053</td><td>東京都世田谷区桜**********          </td><td>S13035</td><td>20150619</td><td>6-20091205-6</td></tr>\n",
       "\t<tr><th scope=row>7469</th><td>CS022103000002</td><td>福山 はじめ</td><td>9</td><td>不明</td><td>2007-10-02</td><td>11</td><td>249-0006</td><td>神奈川県逗子市逗子**********        </td><td>S14022</td><td>20160909</td><td>0-00000000-0</td></tr>\n",
       "\t<tr><th scope=row>10746</th><td>CS002113000009</td><td>柴田 真悠子</td><td>1</td><td>女性</td><td>2007-09-17</td><td>11</td><td>184-0014</td><td>東京都小金井市貫井南町**********    </td><td>S13002</td><td>20160304</td><td>0-00000000-0</td></tr>\n",
       "\t<tr><th scope=row>19812</th><td>CS004115000014</td><td>松井 京子  </td><td>1</td><td>女性</td><td>2007-08-09</td><td>11</td><td>165-0031</td><td>東京都中野区上鷺宮**********        </td><td>S13004</td><td>20161120</td><td>1-20081231-1</td></tr>\n",
       "\t<tr><th scope=row>7040</th><td>CS002114000010</td><td>山内 遥    </td><td>1</td><td>女性</td><td>2007-06-03</td><td>11</td><td>184-0015</td><td>東京都小金井市貫井北町**********    </td><td>S13002</td><td>20160920</td><td>6-20100510-1</td></tr>\n",
       "\t<tr><th scope=row>3671</th><td>CS025115000002</td><td>小柳 夏希  </td><td>1</td><td>女性</td><td>2007-04-18</td><td>11</td><td>245-0018</td><td>神奈川県横浜市泉区上飯田町**********</td><td>S14025</td><td>20160116</td><td>D-20100913-D</td></tr>\n",
       "\t<tr><th scope=row>12494</th><td>CS002113000025</td><td>広末 まなみ</td><td>1</td><td>女性</td><td>2007-03-30</td><td>12</td><td>184-0015</td><td>東京都小金井市貫井北町**********    </td><td>S13002</td><td>20171030</td><td>0-00000000-0</td></tr>\n",
       "\t<tr><th scope=row>15978</th><td>CS033112000003</td><td>長野 美紀  </td><td>1</td><td>女性</td><td>2007-03-22</td><td>12</td><td>245-0051</td><td>神奈川県横浜市戸塚区名瀬町**********</td><td>S14033</td><td>20150606</td><td>0-00000000-0</td></tr>\n",
       "\t<tr><th scope=row>5717</th><td>CS007115000006</td><td>福岡 瞬    </td><td>1</td><td>女性</td><td>2007-03-10</td><td>12</td><td>285-0845</td><td>千葉県佐倉市西志津**********        </td><td>S12007</td><td>20151118</td><td>F-20101016-F</td></tr>\n",
       "\t<tr><th scope=row>15098</th><td>CS014113000008</td><td>矢口 莉緒  </td><td>1</td><td>女性</td><td>2007-03-05</td><td>12</td><td>260-0041</td><td>千葉県千葉市中央区東千葉**********  </td><td>S12014</td><td>20150622</td><td>3-20091108-6</td></tr>\n",
       "</tbody>\n",
       "</table>\n"
      ],
      "text/latex": [
       "A data.frame: 10 × 11\n",
       "\\begin{tabular}{r|lllllllllll}\n",
       "  & customer\\_id & customer\\_name & gender\\_cd & gender & birth\\_day & age & postal\\_cd & address & application\\_store\\_cd & application\\_date & status\\_cd\\\\\n",
       "  & <chr> & <chr> & <chr> & <chr> & <date> & <int> & <chr> & <chr> & <chr> & <chr> & <chr>\\\\\n",
       "\\hline\n",
       "\t15640 & CS035114000004 & 大村 美里   & 1 & 女性 & 2007-11-25 & 11 & 156-0053 & 東京都世田谷区桜**********           & S13035 & 20150619 & 6-20091205-6\\\\\n",
       "\t7469 & CS022103000002 & 福山 はじめ & 9 & 不明 & 2007-10-02 & 11 & 249-0006 & 神奈川県逗子市逗子**********         & S14022 & 20160909 & 0-00000000-0\\\\\n",
       "\t10746 & CS002113000009 & 柴田 真悠子 & 1 & 女性 & 2007-09-17 & 11 & 184-0014 & 東京都小金井市貫井南町**********     & S13002 & 20160304 & 0-00000000-0\\\\\n",
       "\t19812 & CS004115000014 & 松井 京子   & 1 & 女性 & 2007-08-09 & 11 & 165-0031 & 東京都中野区上鷺宮**********         & S13004 & 20161120 & 1-20081231-1\\\\\n",
       "\t7040 & CS002114000010 & 山内 遥     & 1 & 女性 & 2007-06-03 & 11 & 184-0015 & 東京都小金井市貫井北町**********     & S13002 & 20160920 & 6-20100510-1\\\\\n",
       "\t3671 & CS025115000002 & 小柳 夏希   & 1 & 女性 & 2007-04-18 & 11 & 245-0018 & 神奈川県横浜市泉区上飯田町********** & S14025 & 20160116 & D-20100913-D\\\\\n",
       "\t12494 & CS002113000025 & 広末 まなみ & 1 & 女性 & 2007-03-30 & 12 & 184-0015 & 東京都小金井市貫井北町**********     & S13002 & 20171030 & 0-00000000-0\\\\\n",
       "\t15978 & CS033112000003 & 長野 美紀   & 1 & 女性 & 2007-03-22 & 12 & 245-0051 & 神奈川県横浜市戸塚区名瀬町********** & S14033 & 20150606 & 0-00000000-0\\\\\n",
       "\t5717 & CS007115000006 & 福岡 瞬     & 1 & 女性 & 2007-03-10 & 12 & 285-0845 & 千葉県佐倉市西志津**********         & S12007 & 20151118 & F-20101016-F\\\\\n",
       "\t15098 & CS014113000008 & 矢口 莉緒   & 1 & 女性 & 2007-03-05 & 12 & 260-0041 & 千葉県千葉市中央区東千葉**********   & S12014 & 20150622 & 3-20091108-6\\\\\n",
       "\\end{tabular}\n"
      ],
      "text/markdown": [
       "\n",
       "A data.frame: 10 × 11\n",
       "\n",
       "| <!--/--> | customer_id &lt;chr&gt; | customer_name &lt;chr&gt; | gender_cd &lt;chr&gt; | gender &lt;chr&gt; | birth_day &lt;date&gt; | age &lt;int&gt; | postal_cd &lt;chr&gt; | address &lt;chr&gt; | application_store_cd &lt;chr&gt; | application_date &lt;chr&gt; | status_cd &lt;chr&gt; |\n",
       "|---|---|---|---|---|---|---|---|---|---|---|---|\n",
       "| 15640 | CS035114000004 | 大村 美里   | 1 | 女性 | 2007-11-25 | 11 | 156-0053 | 東京都世田谷区桜**********           | S13035 | 20150619 | 6-20091205-6 |\n",
       "| 7469 | CS022103000002 | 福山 はじめ | 9 | 不明 | 2007-10-02 | 11 | 249-0006 | 神奈川県逗子市逗子**********         | S14022 | 20160909 | 0-00000000-0 |\n",
       "| 10746 | CS002113000009 | 柴田 真悠子 | 1 | 女性 | 2007-09-17 | 11 | 184-0014 | 東京都小金井市貫井南町**********     | S13002 | 20160304 | 0-00000000-0 |\n",
       "| 19812 | CS004115000014 | 松井 京子   | 1 | 女性 | 2007-08-09 | 11 | 165-0031 | 東京都中野区上鷺宮**********         | S13004 | 20161120 | 1-20081231-1 |\n",
       "| 7040 | CS002114000010 | 山内 遥     | 1 | 女性 | 2007-06-03 | 11 | 184-0015 | 東京都小金井市貫井北町**********     | S13002 | 20160920 | 6-20100510-1 |\n",
       "| 3671 | CS025115000002 | 小柳 夏希   | 1 | 女性 | 2007-04-18 | 11 | 245-0018 | 神奈川県横浜市泉区上飯田町********** | S14025 | 20160116 | D-20100913-D |\n",
       "| 12494 | CS002113000025 | 広末 まなみ | 1 | 女性 | 2007-03-30 | 12 | 184-0015 | 東京都小金井市貫井北町**********     | S13002 | 20171030 | 0-00000000-0 |\n",
       "| 15978 | CS033112000003 | 長野 美紀   | 1 | 女性 | 2007-03-22 | 12 | 245-0051 | 神奈川県横浜市戸塚区名瀬町********** | S14033 | 20150606 | 0-00000000-0 |\n",
       "| 5717 | CS007115000006 | 福岡 瞬     | 1 | 女性 | 2007-03-10 | 12 | 285-0845 | 千葉県佐倉市西志津**********         | S12007 | 20151118 | F-20101016-F |\n",
       "| 15098 | CS014113000008 | 矢口 莉緒   | 1 | 女性 | 2007-03-05 | 12 | 260-0041 | 千葉県千葉市中央区東千葉**********   | S12014 | 20150622 | 3-20091108-6 |\n",
       "\n"
      ],
      "text/plain": [
       "      customer_id    customer_name gender_cd gender birth_day  age postal_cd\n",
       "15640 CS035114000004 大村 美里     1         女性   2007-11-25 11  156-0053 \n",
       "7469  CS022103000002 福山 はじめ   9         不明   2007-10-02 11  249-0006 \n",
       "10746 CS002113000009 柴田 真悠子   1         女性   2007-09-17 11  184-0014 \n",
       "19812 CS004115000014 松井 京子     1         女性   2007-08-09 11  165-0031 \n",
       "7040  CS002114000010 山内 遥       1         女性   2007-06-03 11  184-0015 \n",
       "3671  CS025115000002 小柳 夏希     1         女性   2007-04-18 11  245-0018 \n",
       "12494 CS002113000025 広末 まなみ   1         女性   2007-03-30 12  184-0015 \n",
       "15978 CS033112000003 長野 美紀     1         女性   2007-03-22 12  245-0051 \n",
       "5717  CS007115000006 福岡 瞬       1         女性   2007-03-10 12  285-0845 \n",
       "15098 CS014113000008 矢口 莉緒     1         女性   2007-03-05 12  260-0041 \n",
       "      address                              application_store_cd\n",
       "15640 東京都世田谷区桜**********           S13035              \n",
       "7469  神奈川県逗子市逗子**********         S14022              \n",
       "10746 東京都小金井市貫井南町**********     S13002              \n",
       "19812 東京都中野区上鷺宮**********         S13004              \n",
       "7040  東京都小金井市貫井北町**********     S13002              \n",
       "3671  神奈川県横浜市泉区上飯田町********** S14025              \n",
       "12494 東京都小金井市貫井北町**********     S13002              \n",
       "15978 神奈川県横浜市戸塚区名瀬町********** S14033              \n",
       "5717  千葉県佐倉市西志津**********         S12007              \n",
       "15098 千葉県千葉市中央区東千葉**********   S12014              \n",
       "      application_date status_cd   \n",
       "15640 20150619         6-20091205-6\n",
       "7469  20160909         0-00000000-0\n",
       "10746 20160304         0-00000000-0\n",
       "19812 20161120         1-20081231-1\n",
       "7040  20160920         6-20100510-1\n",
       "3671  20160116         D-20100913-D\n",
       "12494 20171030         0-00000000-0\n",
       "15978 20150606         0-00000000-0\n",
       "5717  20151118         F-20101016-F\n",
       "15098 20150622         3-20091108-6"
      ]
     },
     "metadata": {},
     "output_type": "display_data"
    }
   ],
   "source": [
    "head(df_customer[order(df_customer$birth_day, decreasing=TRUE),], n=10)"
   ]
  },
  {
   "cell_type": "markdown",
   "metadata": {},
   "source": [
    "---\n",
    "> R-019: レシート明細データフレーム（df_receipt）に対し、1件あたりの売上金額（amount）が高い順にランクを付与し、先頭10件を抽出せよ。項目は顧客ID（customer_id）、売上金額（amount）、付与したランクを表示させること。なお、売上金額（amount）が等しい場合は同一順位を付与するものとする。"
   ]
  },
  {
   "cell_type": "code",
   "execution_count": 45,
   "metadata": {},
   "outputs": [
    {
     "data": {
      "text/html": [
       "<table class=\"dataframe\">\n",
       "<caption>A data.frame: 10 × 10</caption>\n",
       "<thead>\n",
       "\t<tr><th scope=col>sales_ymd</th><th scope=col>sales_epoch</th><th scope=col>store_cd</th><th scope=col>receipt_no</th><th scope=col>receipt_sub_no</th><th scope=col>customer_id</th><th scope=col>product_cd</th><th scope=col>quantity</th><th scope=col>amount</th><th scope=col>ranking</th></tr>\n",
       "\t<tr><th scope=col>&lt;int&gt;</th><th scope=col>&lt;int&gt;</th><th scope=col>&lt;chr&gt;</th><th scope=col>&lt;int&gt;</th><th scope=col>&lt;int&gt;</th><th scope=col>&lt;chr&gt;</th><th scope=col>&lt;chr&gt;</th><th scope=col>&lt;int&gt;</th><th scope=col>&lt;int&gt;</th><th scope=col>&lt;int&gt;</th></tr>\n",
       "</thead>\n",
       "<tbody>\n",
       "\t<tr><td>20190903</td><td>1567468800</td><td>S14011</td><td>1192</td><td>2</td><td>CS011415000006</td><td>P080104055</td><td>1</td><td>10925</td><td>1</td></tr>\n",
       "\t<tr><td>20190304</td><td>1551657600</td><td>S14046</td><td>1152</td><td>2</td><td>ZZ000000000000</td><td>P090302118</td><td>1</td><td> 6800</td><td>2</td></tr>\n",
       "\t<tr><td>20170921</td><td>1505952000</td><td>S14028</td><td>1192</td><td>2</td><td>CS028605000002</td><td>P090907210</td><td>1</td><td> 5780</td><td>3</td></tr>\n",
       "\t<tr><td>20170721</td><td>1500595200</td><td>S13015</td><td>1112</td><td>1</td><td>CS015515000034</td><td>P090907208</td><td>1</td><td> 5480</td><td>4</td></tr>\n",
       "\t<tr><td>20190103</td><td>1546473600</td><td>S14021</td><td>1162</td><td>2</td><td>ZZ000000000000</td><td>P090907208</td><td>1</td><td> 5480</td><td>4</td></tr>\n",
       "\t<tr><td>20190724</td><td>1563926400</td><td>S13009</td><td>1192</td><td>2</td><td>ZZ000000000000</td><td>P090907209</td><td>1</td><td> 5480</td><td>4</td></tr>\n",
       "\t<tr><td>20180621</td><td>1529539200</td><td>S13004</td><td>1172</td><td>2</td><td>ZZ000000000000</td><td>P090907206</td><td>1</td><td> 5440</td><td>7</td></tr>\n",
       "\t<tr><td>20190209</td><td>1549670400</td><td>S14021</td><td>1142</td><td>2</td><td>CS021515000089</td><td>P090907206</td><td>1</td><td> 5440</td><td>7</td></tr>\n",
       "\t<tr><td>20181219</td><td>1545177600</td><td>S13015</td><td>1132</td><td>1</td><td>CS015515000083</td><td>P071301009</td><td>1</td><td> 5280</td><td>9</td></tr>\n",
       "\t<tr><td>20180603</td><td>1527984000</td><td>S13017</td><td>1192</td><td>1</td><td>CS017414000114</td><td>P071301009</td><td>1</td><td> 5280</td><td>9</td></tr>\n",
       "</tbody>\n",
       "</table>\n"
      ],
      "text/latex": [
       "A data.frame: 10 × 10\n",
       "\\begin{tabular}{llllllllll}\n",
       " sales\\_ymd & sales\\_epoch & store\\_cd & receipt\\_no & receipt\\_sub\\_no & customer\\_id & product\\_cd & quantity & amount & ranking\\\\\n",
       " <int> & <int> & <chr> & <int> & <int> & <chr> & <chr> & <int> & <int> & <int>\\\\\n",
       "\\hline\n",
       "\t 20190903 & 1567468800 & S14011 & 1192 & 2 & CS011415000006 & P080104055 & 1 & 10925 & 1\\\\\n",
       "\t 20190304 & 1551657600 & S14046 & 1152 & 2 & ZZ000000000000 & P090302118 & 1 &  6800 & 2\\\\\n",
       "\t 20170921 & 1505952000 & S14028 & 1192 & 2 & CS028605000002 & P090907210 & 1 &  5780 & 3\\\\\n",
       "\t 20170721 & 1500595200 & S13015 & 1112 & 1 & CS015515000034 & P090907208 & 1 &  5480 & 4\\\\\n",
       "\t 20190103 & 1546473600 & S14021 & 1162 & 2 & ZZ000000000000 & P090907208 & 1 &  5480 & 4\\\\\n",
       "\t 20190724 & 1563926400 & S13009 & 1192 & 2 & ZZ000000000000 & P090907209 & 1 &  5480 & 4\\\\\n",
       "\t 20180621 & 1529539200 & S13004 & 1172 & 2 & ZZ000000000000 & P090907206 & 1 &  5440 & 7\\\\\n",
       "\t 20190209 & 1549670400 & S14021 & 1142 & 2 & CS021515000089 & P090907206 & 1 &  5440 & 7\\\\\n",
       "\t 20181219 & 1545177600 & S13015 & 1132 & 1 & CS015515000083 & P071301009 & 1 &  5280 & 9\\\\\n",
       "\t 20180603 & 1527984000 & S13017 & 1192 & 1 & CS017414000114 & P071301009 & 1 &  5280 & 9\\\\\n",
       "\\end{tabular}\n"
      ],
      "text/markdown": [
       "\n",
       "A data.frame: 10 × 10\n",
       "\n",
       "| sales_ymd &lt;int&gt; | sales_epoch &lt;int&gt; | store_cd &lt;chr&gt; | receipt_no &lt;int&gt; | receipt_sub_no &lt;int&gt; | customer_id &lt;chr&gt; | product_cd &lt;chr&gt; | quantity &lt;int&gt; | amount &lt;int&gt; | ranking &lt;int&gt; |\n",
       "|---|---|---|---|---|---|---|---|---|---|\n",
       "| 20190903 | 1567468800 | S14011 | 1192 | 2 | CS011415000006 | P080104055 | 1 | 10925 | 1 |\n",
       "| 20190304 | 1551657600 | S14046 | 1152 | 2 | ZZ000000000000 | P090302118 | 1 |  6800 | 2 |\n",
       "| 20170921 | 1505952000 | S14028 | 1192 | 2 | CS028605000002 | P090907210 | 1 |  5780 | 3 |\n",
       "| 20170721 | 1500595200 | S13015 | 1112 | 1 | CS015515000034 | P090907208 | 1 |  5480 | 4 |\n",
       "| 20190103 | 1546473600 | S14021 | 1162 | 2 | ZZ000000000000 | P090907208 | 1 |  5480 | 4 |\n",
       "| 20190724 | 1563926400 | S13009 | 1192 | 2 | ZZ000000000000 | P090907209 | 1 |  5480 | 4 |\n",
       "| 20180621 | 1529539200 | S13004 | 1172 | 2 | ZZ000000000000 | P090907206 | 1 |  5440 | 7 |\n",
       "| 20190209 | 1549670400 | S14021 | 1142 | 2 | CS021515000089 | P090907206 | 1 |  5440 | 7 |\n",
       "| 20181219 | 1545177600 | S13015 | 1132 | 1 | CS015515000083 | P071301009 | 1 |  5280 | 9 |\n",
       "| 20180603 | 1527984000 | S13017 | 1192 | 1 | CS017414000114 | P071301009 | 1 |  5280 | 9 |\n",
       "\n"
      ],
      "text/plain": [
       "   sales_ymd sales_epoch store_cd receipt_no receipt_sub_no customer_id   \n",
       "1  20190903  1567468800  S14011   1192       2              CS011415000006\n",
       "2  20190304  1551657600  S14046   1152       2              ZZ000000000000\n",
       "3  20170921  1505952000  S14028   1192       2              CS028605000002\n",
       "4  20170721  1500595200  S13015   1112       1              CS015515000034\n",
       "5  20190103  1546473600  S14021   1162       2              ZZ000000000000\n",
       "6  20190724  1563926400  S13009   1192       2              ZZ000000000000\n",
       "7  20180621  1529539200  S13004   1172       2              ZZ000000000000\n",
       "8  20190209  1549670400  S14021   1142       2              CS021515000089\n",
       "9  20181219  1545177600  S13015   1132       1              CS015515000083\n",
       "10 20180603  1527984000  S13017   1192       1              CS017414000114\n",
       "   product_cd quantity amount ranking\n",
       "1  P080104055 1        10925  1      \n",
       "2  P090302118 1         6800  2      \n",
       "3  P090907210 1         5780  3      \n",
       "4  P090907208 1         5480  4      \n",
       "5  P090907208 1         5480  4      \n",
       "6  P090907209 1         5480  4      \n",
       "7  P090907206 1         5440  7      \n",
       "8  P090907206 1         5440  7      \n",
       "9  P071301009 1         5280  9      \n",
       "10 P071301009 1         5280  9      "
      ]
     },
     "metadata": {},
     "output_type": "display_data"
    }
   ],
   "source": [
    "df_receipt %>%\n",
    "    mutate(ranking = min_rank(desc(amount))) %>%\n",
    "    arrange(ranking) %>%\n",
    "    slice(1:10)"
   ]
  },
  {
   "cell_type": "markdown",
   "metadata": {},
   "source": [
    "---\n",
    "> R-020: レシート明細データフレーム（df_receipt）に対し、1件あたりの売上金額（amount）が高い順にランクを付与し、先頭10件を抽出せよ。項目は顧客ID（customer_id）、売上金額（amount）、付与したランクを表示させること。なお、売上金額（amount）が等しい場合でも別順位を付与すること。"
   ]
  },
  {
   "cell_type": "code",
   "execution_count": 49,
   "metadata": {},
   "outputs": [
    {
     "data": {
      "text/html": [
       "<table class=\"dataframe\">\n",
       "<caption>A data.frame: 10 × 10</caption>\n",
       "<thead>\n",
       "\t<tr><th scope=col>sales_ymd</th><th scope=col>sales_epoch</th><th scope=col>store_cd</th><th scope=col>receipt_no</th><th scope=col>receipt_sub_no</th><th scope=col>customer_id</th><th scope=col>product_cd</th><th scope=col>quantity</th><th scope=col>amount</th><th scope=col>ranking</th></tr>\n",
       "\t<tr><th scope=col>&lt;int&gt;</th><th scope=col>&lt;int&gt;</th><th scope=col>&lt;chr&gt;</th><th scope=col>&lt;int&gt;</th><th scope=col>&lt;int&gt;</th><th scope=col>&lt;chr&gt;</th><th scope=col>&lt;chr&gt;</th><th scope=col>&lt;int&gt;</th><th scope=col>&lt;int&gt;</th><th scope=col>&lt;int&gt;</th></tr>\n",
       "</thead>\n",
       "<tbody>\n",
       "\t<tr><td>20190903</td><td>1567468800</td><td>S14011</td><td>1192</td><td>2</td><td>CS011415000006</td><td>P080104055</td><td>1</td><td>10925</td><td> 1</td></tr>\n",
       "\t<tr><td>20190304</td><td>1551657600</td><td>S14046</td><td>1152</td><td>2</td><td>ZZ000000000000</td><td>P090302118</td><td>1</td><td> 6800</td><td> 2</td></tr>\n",
       "\t<tr><td>20170921</td><td>1505952000</td><td>S14028</td><td>1192</td><td>2</td><td>CS028605000002</td><td>P090907210</td><td>1</td><td> 5780</td><td> 3</td></tr>\n",
       "\t<tr><td>20170721</td><td>1500595200</td><td>S13015</td><td>1112</td><td>1</td><td>CS015515000034</td><td>P090907208</td><td>1</td><td> 5480</td><td> 4</td></tr>\n",
       "\t<tr><td>20190103</td><td>1546473600</td><td>S14021</td><td>1162</td><td>2</td><td>ZZ000000000000</td><td>P090907208</td><td>1</td><td> 5480</td><td> 5</td></tr>\n",
       "\t<tr><td>20190724</td><td>1563926400</td><td>S13009</td><td>1192</td><td>2</td><td>ZZ000000000000</td><td>P090907209</td><td>1</td><td> 5480</td><td> 6</td></tr>\n",
       "\t<tr><td>20180621</td><td>1529539200</td><td>S13004</td><td>1172</td><td>2</td><td>ZZ000000000000</td><td>P090907206</td><td>1</td><td> 5440</td><td> 7</td></tr>\n",
       "\t<tr><td>20190209</td><td>1549670400</td><td>S14021</td><td>1142</td><td>2</td><td>CS021515000089</td><td>P090907206</td><td>1</td><td> 5440</td><td> 8</td></tr>\n",
       "\t<tr><td>20181219</td><td>1545177600</td><td>S13015</td><td>1132</td><td>1</td><td>CS015515000083</td><td>P071301009</td><td>1</td><td> 5280</td><td> 9</td></tr>\n",
       "\t<tr><td>20180603</td><td>1527984000</td><td>S13017</td><td>1192</td><td>1</td><td>CS017414000114</td><td>P071301009</td><td>1</td><td> 5280</td><td>10</td></tr>\n",
       "</tbody>\n",
       "</table>\n"
      ],
      "text/latex": [
       "A data.frame: 10 × 10\n",
       "\\begin{tabular}{llllllllll}\n",
       " sales\\_ymd & sales\\_epoch & store\\_cd & receipt\\_no & receipt\\_sub\\_no & customer\\_id & product\\_cd & quantity & amount & ranking\\\\\n",
       " <int> & <int> & <chr> & <int> & <int> & <chr> & <chr> & <int> & <int> & <int>\\\\\n",
       "\\hline\n",
       "\t 20190903 & 1567468800 & S14011 & 1192 & 2 & CS011415000006 & P080104055 & 1 & 10925 &  1\\\\\n",
       "\t 20190304 & 1551657600 & S14046 & 1152 & 2 & ZZ000000000000 & P090302118 & 1 &  6800 &  2\\\\\n",
       "\t 20170921 & 1505952000 & S14028 & 1192 & 2 & CS028605000002 & P090907210 & 1 &  5780 &  3\\\\\n",
       "\t 20170721 & 1500595200 & S13015 & 1112 & 1 & CS015515000034 & P090907208 & 1 &  5480 &  4\\\\\n",
       "\t 20190103 & 1546473600 & S14021 & 1162 & 2 & ZZ000000000000 & P090907208 & 1 &  5480 &  5\\\\\n",
       "\t 20190724 & 1563926400 & S13009 & 1192 & 2 & ZZ000000000000 & P090907209 & 1 &  5480 &  6\\\\\n",
       "\t 20180621 & 1529539200 & S13004 & 1172 & 2 & ZZ000000000000 & P090907206 & 1 &  5440 &  7\\\\\n",
       "\t 20190209 & 1549670400 & S14021 & 1142 & 2 & CS021515000089 & P090907206 & 1 &  5440 &  8\\\\\n",
       "\t 20181219 & 1545177600 & S13015 & 1132 & 1 & CS015515000083 & P071301009 & 1 &  5280 &  9\\\\\n",
       "\t 20180603 & 1527984000 & S13017 & 1192 & 1 & CS017414000114 & P071301009 & 1 &  5280 & 10\\\\\n",
       "\\end{tabular}\n"
      ],
      "text/markdown": [
       "\n",
       "A data.frame: 10 × 10\n",
       "\n",
       "| sales_ymd &lt;int&gt; | sales_epoch &lt;int&gt; | store_cd &lt;chr&gt; | receipt_no &lt;int&gt; | receipt_sub_no &lt;int&gt; | customer_id &lt;chr&gt; | product_cd &lt;chr&gt; | quantity &lt;int&gt; | amount &lt;int&gt; | ranking &lt;int&gt; |\n",
       "|---|---|---|---|---|---|---|---|---|---|\n",
       "| 20190903 | 1567468800 | S14011 | 1192 | 2 | CS011415000006 | P080104055 | 1 | 10925 |  1 |\n",
       "| 20190304 | 1551657600 | S14046 | 1152 | 2 | ZZ000000000000 | P090302118 | 1 |  6800 |  2 |\n",
       "| 20170921 | 1505952000 | S14028 | 1192 | 2 | CS028605000002 | P090907210 | 1 |  5780 |  3 |\n",
       "| 20170721 | 1500595200 | S13015 | 1112 | 1 | CS015515000034 | P090907208 | 1 |  5480 |  4 |\n",
       "| 20190103 | 1546473600 | S14021 | 1162 | 2 | ZZ000000000000 | P090907208 | 1 |  5480 |  5 |\n",
       "| 20190724 | 1563926400 | S13009 | 1192 | 2 | ZZ000000000000 | P090907209 | 1 |  5480 |  6 |\n",
       "| 20180621 | 1529539200 | S13004 | 1172 | 2 | ZZ000000000000 | P090907206 | 1 |  5440 |  7 |\n",
       "| 20190209 | 1549670400 | S14021 | 1142 | 2 | CS021515000089 | P090907206 | 1 |  5440 |  8 |\n",
       "| 20181219 | 1545177600 | S13015 | 1132 | 1 | CS015515000083 | P071301009 | 1 |  5280 |  9 |\n",
       "| 20180603 | 1527984000 | S13017 | 1192 | 1 | CS017414000114 | P071301009 | 1 |  5280 | 10 |\n",
       "\n"
      ],
      "text/plain": [
       "   sales_ymd sales_epoch store_cd receipt_no receipt_sub_no customer_id   \n",
       "1  20190903  1567468800  S14011   1192       2              CS011415000006\n",
       "2  20190304  1551657600  S14046   1152       2              ZZ000000000000\n",
       "3  20170921  1505952000  S14028   1192       2              CS028605000002\n",
       "4  20170721  1500595200  S13015   1112       1              CS015515000034\n",
       "5  20190103  1546473600  S14021   1162       2              ZZ000000000000\n",
       "6  20190724  1563926400  S13009   1192       2              ZZ000000000000\n",
       "7  20180621  1529539200  S13004   1172       2              ZZ000000000000\n",
       "8  20190209  1549670400  S14021   1142       2              CS021515000089\n",
       "9  20181219  1545177600  S13015   1132       1              CS015515000083\n",
       "10 20180603  1527984000  S13017   1192       1              CS017414000114\n",
       "   product_cd quantity amount ranking\n",
       "1  P080104055 1        10925   1     \n",
       "2  P090302118 1         6800   2     \n",
       "3  P090907210 1         5780   3     \n",
       "4  P090907208 1         5480   4     \n",
       "5  P090907208 1         5480   5     \n",
       "6  P090907209 1         5480   6     \n",
       "7  P090907206 1         5440   7     \n",
       "8  P090907206 1         5440   8     \n",
       "9  P071301009 1         5280   9     \n",
       "10 P071301009 1         5280  10     "
      ]
     },
     "metadata": {},
     "output_type": "display_data"
    }
   ],
   "source": [
    "df_receipt %>%\n",
    "    mutate(ranking = row_number(desc(amount))) %>%\n",
    "    arrange(ranking) %>%\n",
    "    slice(1:10)"
   ]
  },
  {
   "cell_type": "markdown",
   "metadata": {},
   "source": [
    "---\n",
    "> R-021: レシート明細データフレーム（df_receipt）に対し、件数をカウントせよ。"
   ]
  },
  {
   "cell_type": "code",
   "execution_count": 51,
   "metadata": {},
   "outputs": [
    {
     "data": {
      "text/html": [
       "9"
      ],
      "text/latex": [
       "9"
      ],
      "text/markdown": [
       "9"
      ],
      "text/plain": [
       "[1] 9"
      ]
     },
     "metadata": {},
     "output_type": "display_data"
    }
   ],
   "source": [
    "nrow(df_receipt)"
   ]
  },
  {
   "cell_type": "markdown",
   "metadata": {},
   "source": [
    "---\n",
    "> R-022: レシート明細データフレーム（df_receipt）の顧客ID（customer_id）に対し、ユニーク件数をカウントせよ。"
   ]
  },
  {
   "cell_type": "code",
   "execution_count": 54,
   "metadata": {},
   "outputs": [
    {
     "data": {
      "text/html": [
       "8307"
      ],
      "text/latex": [
       "8307"
      ],
      "text/markdown": [
       "8307"
      ],
      "text/plain": [
       "[1] 8307"
      ]
     },
     "metadata": {},
     "output_type": "display_data"
    }
   ],
   "source": [
    "length(unique(df_receipt$customer_id))"
   ]
  },
  {
   "cell_type": "markdown",
   "metadata": {},
   "source": [
    "---\n",
    "> R-023: レシート明細データフレーム（df_receipt）に対し、店舗コード（store_cd）ごとに売上金額（amount）と売上数量（quantity）を合計せよ。"
   ]
  },
  {
   "cell_type": "code",
   "execution_count": 59,
   "metadata": {},
   "outputs": [
    {
     "data": {
      "text/html": [
       "<table class=\"dataframe\">\n",
       "<caption>A tibble: 10 × 3</caption>\n",
       "<thead>\n",
       "\t<tr><th scope=col>store_cd</th><th scope=col>amount</th><th scope=col>quantity</th></tr>\n",
       "\t<tr><th scope=col>&lt;chr&gt;</th><th scope=col>&lt;int&gt;</th><th scope=col>&lt;int&gt;</th></tr>\n",
       "</thead>\n",
       "<tbody>\n",
       "\t<tr><td>S12007</td><td>638761</td><td>2099</td></tr>\n",
       "\t<tr><td>S12013</td><td>787513</td><td>2425</td></tr>\n",
       "\t<tr><td>S12014</td><td>725167</td><td>2358</td></tr>\n",
       "\t<tr><td>S12029</td><td>794741</td><td>2555</td></tr>\n",
       "\t<tr><td>S12030</td><td>684402</td><td>2403</td></tr>\n",
       "\t<tr><td>S13001</td><td>811936</td><td>2347</td></tr>\n",
       "\t<tr><td>S13002</td><td>727821</td><td>2340</td></tr>\n",
       "\t<tr><td>S13003</td><td>764294</td><td>2197</td></tr>\n",
       "\t<tr><td>S13004</td><td>779373</td><td>2390</td></tr>\n",
       "\t<tr><td>S13005</td><td>629876</td><td>2004</td></tr>\n",
       "</tbody>\n",
       "</table>\n"
      ],
      "text/latex": [
       "A tibble: 10 × 3\n",
       "\\begin{tabular}{lll}\n",
       " store\\_cd & amount & quantity\\\\\n",
       " <chr> & <int> & <int>\\\\\n",
       "\\hline\n",
       "\t S12007 & 638761 & 2099\\\\\n",
       "\t S12013 & 787513 & 2425\\\\\n",
       "\t S12014 & 725167 & 2358\\\\\n",
       "\t S12029 & 794741 & 2555\\\\\n",
       "\t S12030 & 684402 & 2403\\\\\n",
       "\t S13001 & 811936 & 2347\\\\\n",
       "\t S13002 & 727821 & 2340\\\\\n",
       "\t S13003 & 764294 & 2197\\\\\n",
       "\t S13004 & 779373 & 2390\\\\\n",
       "\t S13005 & 629876 & 2004\\\\\n",
       "\\end{tabular}\n"
      ],
      "text/markdown": [
       "\n",
       "A tibble: 10 × 3\n",
       "\n",
       "| store_cd &lt;chr&gt; | amount &lt;int&gt; | quantity &lt;int&gt; |\n",
       "|---|---|---|\n",
       "| S12007 | 638761 | 2099 |\n",
       "| S12013 | 787513 | 2425 |\n",
       "| S12014 | 725167 | 2358 |\n",
       "| S12029 | 794741 | 2555 |\n",
       "| S12030 | 684402 | 2403 |\n",
       "| S13001 | 811936 | 2347 |\n",
       "| S13002 | 727821 | 2340 |\n",
       "| S13003 | 764294 | 2197 |\n",
       "| S13004 | 779373 | 2390 |\n",
       "| S13005 | 629876 | 2004 |\n",
       "\n"
      ],
      "text/plain": [
       "   store_cd amount quantity\n",
       "1  S12007   638761 2099    \n",
       "2  S12013   787513 2425    \n",
       "3  S12014   725167 2358    \n",
       "4  S12029   794741 2555    \n",
       "5  S12030   684402 2403    \n",
       "6  S13001   811936 2347    \n",
       "7  S13002   727821 2340    \n",
       "8  S13003   764294 2197    \n",
       "9  S13004   779373 2390    \n",
       "10 S13005   629876 2004    "
      ]
     },
     "metadata": {},
     "output_type": "display_data"
    }
   ],
   "source": [
    "df_receipt %>%\n",
    "    group_by(store_cd) %>%\n",
    "    summarise(amount=sum(amount), quantity=sum(quantity), .groups = \"drop\") %>%\n",
    "    slice(1:10)"
   ]
  },
  {
   "cell_type": "markdown",
   "metadata": {},
   "source": [
    "---\n",
    "> R-024: レシート明細データフレーム（df_receipt）に対し、顧客ID（customer_id）ごとに最も新しい売上日（sales_ymd）を求め、10件表示せよ。"
   ]
  },
  {
   "cell_type": "code",
   "execution_count": 60,
   "metadata": {},
   "outputs": [
    {
     "data": {
      "text/html": [
       "<table class=\"dataframe\">\n",
       "<caption>A tibble: 10 × 2</caption>\n",
       "<thead>\n",
       "\t<tr><th scope=col>customer_id</th><th scope=col>max_ymd</th></tr>\n",
       "\t<tr><th scope=col>&lt;chr&gt;</th><th scope=col>&lt;int&gt;</th></tr>\n",
       "</thead>\n",
       "<tbody>\n",
       "\t<tr><td>CS001113000004</td><td>20190308</td></tr>\n",
       "\t<tr><td>CS001114000005</td><td>20190731</td></tr>\n",
       "\t<tr><td>CS001115000010</td><td>20190405</td></tr>\n",
       "\t<tr><td>CS001205000004</td><td>20190625</td></tr>\n",
       "\t<tr><td>CS001205000006</td><td>20190224</td></tr>\n",
       "\t<tr><td>CS001211000025</td><td>20190322</td></tr>\n",
       "\t<tr><td>CS001212000027</td><td>20170127</td></tr>\n",
       "\t<tr><td>CS001212000031</td><td>20180906</td></tr>\n",
       "\t<tr><td>CS001212000046</td><td>20170811</td></tr>\n",
       "\t<tr><td>CS001212000070</td><td>20191018</td></tr>\n",
       "</tbody>\n",
       "</table>\n"
      ],
      "text/latex": [
       "A tibble: 10 × 2\n",
       "\\begin{tabular}{ll}\n",
       " customer\\_id & max\\_ymd\\\\\n",
       " <chr> & <int>\\\\\n",
       "\\hline\n",
       "\t CS001113000004 & 20190308\\\\\n",
       "\t CS001114000005 & 20190731\\\\\n",
       "\t CS001115000010 & 20190405\\\\\n",
       "\t CS001205000004 & 20190625\\\\\n",
       "\t CS001205000006 & 20190224\\\\\n",
       "\t CS001211000025 & 20190322\\\\\n",
       "\t CS001212000027 & 20170127\\\\\n",
       "\t CS001212000031 & 20180906\\\\\n",
       "\t CS001212000046 & 20170811\\\\\n",
       "\t CS001212000070 & 20191018\\\\\n",
       "\\end{tabular}\n"
      ],
      "text/markdown": [
       "\n",
       "A tibble: 10 × 2\n",
       "\n",
       "| customer_id &lt;chr&gt; | max_ymd &lt;int&gt; |\n",
       "|---|---|\n",
       "| CS001113000004 | 20190308 |\n",
       "| CS001114000005 | 20190731 |\n",
       "| CS001115000010 | 20190405 |\n",
       "| CS001205000004 | 20190625 |\n",
       "| CS001205000006 | 20190224 |\n",
       "| CS001211000025 | 20190322 |\n",
       "| CS001212000027 | 20170127 |\n",
       "| CS001212000031 | 20180906 |\n",
       "| CS001212000046 | 20170811 |\n",
       "| CS001212000070 | 20191018 |\n",
       "\n"
      ],
      "text/plain": [
       "   customer_id    max_ymd \n",
       "1  CS001113000004 20190308\n",
       "2  CS001114000005 20190731\n",
       "3  CS001115000010 20190405\n",
       "4  CS001205000004 20190625\n",
       "5  CS001205000006 20190224\n",
       "6  CS001211000025 20190322\n",
       "7  CS001212000027 20170127\n",
       "8  CS001212000031 20180906\n",
       "9  CS001212000046 20170811\n",
       "10 CS001212000070 20191018"
      ]
     },
     "metadata": {},
     "output_type": "display_data"
    }
   ],
   "source": [
    "df_receipt %>%\n",
    "    group_by(customer_id) %>%\n",
    "    summarise(max_ymd=max(sales_ymd), .groups = \"drop\") %>%\n",
    "    slice(1:10)"
   ]
  },
  {
   "cell_type": "markdown",
   "metadata": {},
   "source": [
    "---\n",
    "> R-025: レシート明細データフレーム（df_receipt）に対し、顧客ID（customer_id）ごとに最も古い売上日（sales_ymd）を求め、10件表示せよ。"
   ]
  },
  {
   "cell_type": "code",
   "execution_count": 62,
   "metadata": {},
   "outputs": [
    {
     "data": {
      "text/html": [
       "<table class=\"dataframe\">\n",
       "<caption>A tibble: 10 × 2</caption>\n",
       "<thead>\n",
       "\t<tr><th scope=col>customer_id</th><th scope=col>old_ymd</th></tr>\n",
       "\t<tr><th scope=col>&lt;chr&gt;</th><th scope=col>&lt;int&gt;</th></tr>\n",
       "</thead>\n",
       "<tbody>\n",
       "\t<tr><td>CS001113000004</td><td>20190308</td></tr>\n",
       "\t<tr><td>CS001114000005</td><td>20180503</td></tr>\n",
       "\t<tr><td>CS001115000010</td><td>20171228</td></tr>\n",
       "\t<tr><td>CS001205000004</td><td>20170914</td></tr>\n",
       "\t<tr><td>CS001205000006</td><td>20180207</td></tr>\n",
       "\t<tr><td>CS001211000025</td><td>20190322</td></tr>\n",
       "\t<tr><td>CS001212000027</td><td>20170127</td></tr>\n",
       "\t<tr><td>CS001212000031</td><td>20180906</td></tr>\n",
       "\t<tr><td>CS001212000046</td><td>20170811</td></tr>\n",
       "\t<tr><td>CS001212000070</td><td>20191018</td></tr>\n",
       "</tbody>\n",
       "</table>\n"
      ],
      "text/latex": [
       "A tibble: 10 × 2\n",
       "\\begin{tabular}{ll}\n",
       " customer\\_id & old\\_ymd\\\\\n",
       " <chr> & <int>\\\\\n",
       "\\hline\n",
       "\t CS001113000004 & 20190308\\\\\n",
       "\t CS001114000005 & 20180503\\\\\n",
       "\t CS001115000010 & 20171228\\\\\n",
       "\t CS001205000004 & 20170914\\\\\n",
       "\t CS001205000006 & 20180207\\\\\n",
       "\t CS001211000025 & 20190322\\\\\n",
       "\t CS001212000027 & 20170127\\\\\n",
       "\t CS001212000031 & 20180906\\\\\n",
       "\t CS001212000046 & 20170811\\\\\n",
       "\t CS001212000070 & 20191018\\\\\n",
       "\\end{tabular}\n"
      ],
      "text/markdown": [
       "\n",
       "A tibble: 10 × 2\n",
       "\n",
       "| customer_id &lt;chr&gt; | old_ymd &lt;int&gt; |\n",
       "|---|---|\n",
       "| CS001113000004 | 20190308 |\n",
       "| CS001114000005 | 20180503 |\n",
       "| CS001115000010 | 20171228 |\n",
       "| CS001205000004 | 20170914 |\n",
       "| CS001205000006 | 20180207 |\n",
       "| CS001211000025 | 20190322 |\n",
       "| CS001212000027 | 20170127 |\n",
       "| CS001212000031 | 20180906 |\n",
       "| CS001212000046 | 20170811 |\n",
       "| CS001212000070 | 20191018 |\n",
       "\n"
      ],
      "text/plain": [
       "   customer_id    old_ymd \n",
       "1  CS001113000004 20190308\n",
       "2  CS001114000005 20180503\n",
       "3  CS001115000010 20171228\n",
       "4  CS001205000004 20170914\n",
       "5  CS001205000006 20180207\n",
       "6  CS001211000025 20190322\n",
       "7  CS001212000027 20170127\n",
       "8  CS001212000031 20180906\n",
       "9  CS001212000046 20170811\n",
       "10 CS001212000070 20191018"
      ]
     },
     "metadata": {},
     "output_type": "display_data"
    }
   ],
   "source": [
    "df_receipt %>%\n",
    "    group_by(customer_id) %>%\n",
    "    summarise(old_ymd=min(sales_ymd), .groups = \"drop\") %>% slice(1:10)"
   ]
  },
  {
   "cell_type": "markdown",
   "metadata": {},
   "source": [
    "---\n",
    "> R-026: レシート明細データフレーム（df_receipt）に対し、顧客ID（customer_id）ごとに最も新しい売上日（sales_ymd）と古い売上日を求め、両者が異なるデータを10件表示せよ。"
   ]
  },
  {
   "cell_type": "code",
   "execution_count": 64,
   "metadata": {},
   "outputs": [
    {
     "data": {
      "text/html": [
       "<table class=\"dataframe\">\n",
       "<caption>A tibble: 10 × 3</caption>\n",
       "<thead>\n",
       "\t<tr><th scope=col>customer_id</th><th scope=col>max_ymd</th><th scope=col>old_ymd</th></tr>\n",
       "\t<tr><th scope=col>&lt;chr&gt;</th><th scope=col>&lt;int&gt;</th><th scope=col>&lt;int&gt;</th></tr>\n",
       "</thead>\n",
       "<tbody>\n",
       "\t<tr><td>CS001114000005</td><td>20190731</td><td>20180503</td></tr>\n",
       "\t<tr><td>CS001115000010</td><td>20190405</td><td>20171228</td></tr>\n",
       "\t<tr><td>CS001205000004</td><td>20190625</td><td>20170914</td></tr>\n",
       "\t<tr><td>CS001205000006</td><td>20190224</td><td>20180207</td></tr>\n",
       "\t<tr><td>CS001214000009</td><td>20190902</td><td>20170306</td></tr>\n",
       "\t<tr><td>CS001214000017</td><td>20191006</td><td>20180828</td></tr>\n",
       "\t<tr><td>CS001214000048</td><td>20190929</td><td>20171109</td></tr>\n",
       "\t<tr><td>CS001214000052</td><td>20190617</td><td>20180208</td></tr>\n",
       "\t<tr><td>CS001215000005</td><td>20181021</td><td>20170206</td></tr>\n",
       "\t<tr><td>CS001215000040</td><td>20171022</td><td>20170214</td></tr>\n",
       "</tbody>\n",
       "</table>\n"
      ],
      "text/latex": [
       "A tibble: 10 × 3\n",
       "\\begin{tabular}{lll}\n",
       " customer\\_id & max\\_ymd & old\\_ymd\\\\\n",
       " <chr> & <int> & <int>\\\\\n",
       "\\hline\n",
       "\t CS001114000005 & 20190731 & 20180503\\\\\n",
       "\t CS001115000010 & 20190405 & 20171228\\\\\n",
       "\t CS001205000004 & 20190625 & 20170914\\\\\n",
       "\t CS001205000006 & 20190224 & 20180207\\\\\n",
       "\t CS001214000009 & 20190902 & 20170306\\\\\n",
       "\t CS001214000017 & 20191006 & 20180828\\\\\n",
       "\t CS001214000048 & 20190929 & 20171109\\\\\n",
       "\t CS001214000052 & 20190617 & 20180208\\\\\n",
       "\t CS001215000005 & 20181021 & 20170206\\\\\n",
       "\t CS001215000040 & 20171022 & 20170214\\\\\n",
       "\\end{tabular}\n"
      ],
      "text/markdown": [
       "\n",
       "A tibble: 10 × 3\n",
       "\n",
       "| customer_id &lt;chr&gt; | max_ymd &lt;int&gt; | old_ymd &lt;int&gt; |\n",
       "|---|---|---|\n",
       "| CS001114000005 | 20190731 | 20180503 |\n",
       "| CS001115000010 | 20190405 | 20171228 |\n",
       "| CS001205000004 | 20190625 | 20170914 |\n",
       "| CS001205000006 | 20190224 | 20180207 |\n",
       "| CS001214000009 | 20190902 | 20170306 |\n",
       "| CS001214000017 | 20191006 | 20180828 |\n",
       "| CS001214000048 | 20190929 | 20171109 |\n",
       "| CS001214000052 | 20190617 | 20180208 |\n",
       "| CS001215000005 | 20181021 | 20170206 |\n",
       "| CS001215000040 | 20171022 | 20170214 |\n",
       "\n"
      ],
      "text/plain": [
       "   customer_id    max_ymd  old_ymd \n",
       "1  CS001114000005 20190731 20180503\n",
       "2  CS001115000010 20190405 20171228\n",
       "3  CS001205000004 20190625 20170914\n",
       "4  CS001205000006 20190224 20180207\n",
       "5  CS001214000009 20190902 20170306\n",
       "6  CS001214000017 20191006 20180828\n",
       "7  CS001214000048 20190929 20171109\n",
       "8  CS001214000052 20190617 20180208\n",
       "9  CS001215000005 20181021 20170206\n",
       "10 CS001215000040 20171022 20170214"
      ]
     },
     "metadata": {},
     "output_type": "display_data"
    }
   ],
   "source": [
    "df_receipt %>%\n",
    "    group_by(customer_id) %>%\n",
    "    summarise(max_ymd=max(sales_ymd), old_ymd=min(sales_ymd), .groups = \"drop\") %>% \n",
    "    filter(max_ymd != old_ymd) %>%\n",
    "    slice(1:10)"
   ]
  },
  {
   "cell_type": "markdown",
   "metadata": {},
   "source": [
    "---\n",
    "> R-027: レシート明細データフレーム（df_receipt）に対し、店舗コード（store_cd）ごとに売上金額（amount）の平均を計算し、降順でTOP5を表示せよ。"
   ]
  },
  {
   "cell_type": "code",
   "execution_count": 65,
   "metadata": {},
   "outputs": [
    {
     "data": {
      "text/html": [
       "<table class=\"dataframe\">\n",
       "<caption>A tibble: 5 × 2</caption>\n",
       "<thead>\n",
       "\t<tr><th scope=col>store_cd</th><th scope=col>mean_amount</th></tr>\n",
       "\t<tr><th scope=col>&lt;chr&gt;</th><th scope=col>&lt;dbl&gt;</th></tr>\n",
       "</thead>\n",
       "<tbody>\n",
       "\t<tr><td>S13052</td><td>402.8675</td></tr>\n",
       "\t<tr><td>S13015</td><td>351.1120</td></tr>\n",
       "\t<tr><td>S13003</td><td>350.9155</td></tr>\n",
       "\t<tr><td>S14010</td><td>348.7913</td></tr>\n",
       "\t<tr><td>S13001</td><td>348.4704</td></tr>\n",
       "</tbody>\n",
       "</table>\n"
      ],
      "text/latex": [
       "A tibble: 5 × 2\n",
       "\\begin{tabular}{ll}\n",
       " store\\_cd & mean\\_amount\\\\\n",
       " <chr> & <dbl>\\\\\n",
       "\\hline\n",
       "\t S13052 & 402.8675\\\\\n",
       "\t S13015 & 351.1120\\\\\n",
       "\t S13003 & 350.9155\\\\\n",
       "\t S14010 & 348.7913\\\\\n",
       "\t S13001 & 348.4704\\\\\n",
       "\\end{tabular}\n"
      ],
      "text/markdown": [
       "\n",
       "A tibble: 5 × 2\n",
       "\n",
       "| store_cd &lt;chr&gt; | mean_amount &lt;dbl&gt; |\n",
       "|---|---|\n",
       "| S13052 | 402.8675 |\n",
       "| S13015 | 351.1120 |\n",
       "| S13003 | 350.9155 |\n",
       "| S14010 | 348.7913 |\n",
       "| S13001 | 348.4704 |\n",
       "\n"
      ],
      "text/plain": [
       "  store_cd mean_amount\n",
       "1 S13052   402.8675   \n",
       "2 S13015   351.1120   \n",
       "3 S13003   350.9155   \n",
       "4 S14010   348.7913   \n",
       "5 S13001   348.4704   "
      ]
     },
     "metadata": {},
     "output_type": "display_data"
    }
   ],
   "source": [
    "df_receipt %>%\n",
    "    group_by(store_cd) %>%\n",
    "    summarise(mean_amount = mean(amount), .groups = \"drop\") %>%\n",
    "    arrange(desc(mean_amount)) %>%\n",
    "    slice(1:5)"
   ]
  },
  {
   "cell_type": "markdown",
   "metadata": {},
   "source": [
    "---\n",
    "> R-028: レシート明細データフレーム（df_receipt）に対し、店舗コード（store_cd）ごとに売上金額（amount）の中央値を計算し、降順でTOP5を表示せよ。"
   ]
  },
  {
   "cell_type": "code",
   "execution_count": 66,
   "metadata": {},
   "outputs": [
    {
     "data": {
      "text/html": [
       "<table class=\"dataframe\">\n",
       "<caption>A tibble: 5 × 2</caption>\n",
       "<thead>\n",
       "\t<tr><th scope=col>store_cd</th><th scope=col>median_amount</th></tr>\n",
       "\t<tr><th scope=col>&lt;chr&gt;</th><th scope=col>&lt;dbl&gt;</th></tr>\n",
       "</thead>\n",
       "<tbody>\n",
       "\t<tr><td>S13052</td><td>190</td></tr>\n",
       "\t<tr><td>S14010</td><td>188</td></tr>\n",
       "\t<tr><td>S14050</td><td>185</td></tr>\n",
       "\t<tr><td>S13003</td><td>180</td></tr>\n",
       "\t<tr><td>S13018</td><td>180</td></tr>\n",
       "</tbody>\n",
       "</table>\n"
      ],
      "text/latex": [
       "A tibble: 5 × 2\n",
       "\\begin{tabular}{ll}\n",
       " store\\_cd & median\\_amount\\\\\n",
       " <chr> & <dbl>\\\\\n",
       "\\hline\n",
       "\t S13052 & 190\\\\\n",
       "\t S14010 & 188\\\\\n",
       "\t S14050 & 185\\\\\n",
       "\t S13003 & 180\\\\\n",
       "\t S13018 & 180\\\\\n",
       "\\end{tabular}\n"
      ],
      "text/markdown": [
       "\n",
       "A tibble: 5 × 2\n",
       "\n",
       "| store_cd &lt;chr&gt; | median_amount &lt;dbl&gt; |\n",
       "|---|---|\n",
       "| S13052 | 190 |\n",
       "| S14010 | 188 |\n",
       "| S14050 | 185 |\n",
       "| S13003 | 180 |\n",
       "| S13018 | 180 |\n",
       "\n"
      ],
      "text/plain": [
       "  store_cd median_amount\n",
       "1 S13052   190          \n",
       "2 S14010   188          \n",
       "3 S14050   185          \n",
       "4 S13003   180          \n",
       "5 S13018   180          "
      ]
     },
     "metadata": {},
     "output_type": "display_data"
    }
   ],
   "source": [
    "df_receipt %>%\n",
    "    group_by(store_cd) %>%\n",
    "    summarise(median_amount = median(amount), .groups=\"drop\") %>%\n",
    "    arrange(desc(median_amount)) %>%\n",
    "    slice(1:5)"
   ]
  },
  {
   "cell_type": "markdown",
   "metadata": {},
   "source": [
    "---\n",
    "> R-029: レシート明細データフレーム（df_receipt）に対し、店舗コード（store_cd）ごとに商品コード（product_cd）の最頻値を求めよ。"
   ]
  },
  {
   "cell_type": "code",
   "execution_count": 68,
   "metadata": {},
   "outputs": [
    {
     "data": {
      "text/html": [
       "<table class=\"dataframe\">\n",
       "<caption>A tibble: 55 × 3</caption>\n",
       "<thead>\n",
       "\t<tr><th scope=col>store_cd</th><th scope=col>product_cd</th><th scope=col>n</th></tr>\n",
       "\t<tr><th scope=col>&lt;chr&gt;</th><th scope=col>&lt;chr&gt;</th><th scope=col>&lt;int&gt;</th></tr>\n",
       "</thead>\n",
       "<tbody>\n",
       "\t<tr><td>S12007</td><td>P060303001</td><td> 72</td></tr>\n",
       "\t<tr><td>S12013</td><td>P060303001</td><td>107</td></tr>\n",
       "\t<tr><td>S12014</td><td>P060303001</td><td> 65</td></tr>\n",
       "\t<tr><td>S12029</td><td>P060303001</td><td> 92</td></tr>\n",
       "\t<tr><td>S12030</td><td>P060303001</td><td>115</td></tr>\n",
       "\t<tr><td>S13001</td><td>P060303001</td><td> 67</td></tr>\n",
       "\t<tr><td>S13002</td><td>P060303001</td><td> 78</td></tr>\n",
       "\t<tr><td>S13003</td><td>P071401001</td><td> 65</td></tr>\n",
       "\t<tr><td>S13004</td><td>P060303001</td><td> 88</td></tr>\n",
       "\t<tr><td>S13005</td><td>P040503001</td><td> 36</td></tr>\n",
       "\t<tr><td>S13008</td><td>P060303001</td><td> 77</td></tr>\n",
       "\t<tr><td>S13009</td><td>P060303001</td><td> 64</td></tr>\n",
       "\t<tr><td>S13015</td><td>P071401001</td><td> 34</td></tr>\n",
       "\t<tr><td>S13016</td><td>P071102001</td><td> 32</td></tr>\n",
       "\t<tr><td>S13017</td><td>P060101002</td><td> 31</td></tr>\n",
       "\t<tr><td>S13018</td><td>P071401001</td><td> 47</td></tr>\n",
       "\t<tr><td>S13019</td><td>P071401001</td><td> 70</td></tr>\n",
       "\t<tr><td>S13020</td><td>P071401001</td><td> 79</td></tr>\n",
       "\t<tr><td>S13031</td><td>P060303001</td><td>115</td></tr>\n",
       "\t<tr><td>S13032</td><td>P060303001</td><td> 85</td></tr>\n",
       "\t<tr><td>S13035</td><td>P040503001</td><td> 39</td></tr>\n",
       "\t<tr><td>S13037</td><td>P060303001</td><td> 88</td></tr>\n",
       "\t<tr><td>S13038</td><td>P060303001</td><td> 41</td></tr>\n",
       "\t<tr><td>S13039</td><td>P071401001</td><td> 36</td></tr>\n",
       "\t<tr><td>S13041</td><td>P071401001</td><td> 70</td></tr>\n",
       "\t<tr><td>S13043</td><td>P060303001</td><td> 56</td></tr>\n",
       "\t<tr><td>S13044</td><td>P060303001</td><td> 96</td></tr>\n",
       "\t<tr><td>S13051</td><td>P050102001</td><td>  5</td></tr>\n",
       "\t<tr><td>S13051</td><td>P071003001</td><td>  5</td></tr>\n",
       "\t<tr><td>S13051</td><td>P080804001</td><td>  5</td></tr>\n",
       "\t<tr><td>S13052</td><td>P050101001</td><td>  4</td></tr>\n",
       "\t<tr><td>S14006</td><td>P060303001</td><td> 70</td></tr>\n",
       "\t<tr><td>S14010</td><td>P060303001</td><td> 68</td></tr>\n",
       "\t<tr><td>S14011</td><td>P060101001</td><td> 51</td></tr>\n",
       "\t<tr><td>S14012</td><td>P060303001</td><td>142</td></tr>\n",
       "\t<tr><td>S14021</td><td>P060101001</td><td> 30</td></tr>\n",
       "\t<tr><td>S14022</td><td>P060303001</td><td> 71</td></tr>\n",
       "\t<tr><td>S14023</td><td>P071401001</td><td> 70</td></tr>\n",
       "\t<tr><td>S14024</td><td>P060303001</td><td> 96</td></tr>\n",
       "\t<tr><td>S14025</td><td>P060303001</td><td> 46</td></tr>\n",
       "\t<tr><td>S14026</td><td>P071401001</td><td> 40</td></tr>\n",
       "\t<tr><td>S14027</td><td>P060303001</td><td>152</td></tr>\n",
       "\t<tr><td>S14028</td><td>P060303001</td><td>140</td></tr>\n",
       "\t<tr><td>S14033</td><td>P071401001</td><td> 68</td></tr>\n",
       "\t<tr><td>S14034</td><td>P060303001</td><td> 71</td></tr>\n",
       "\t<tr><td>S14036</td><td>P040503001</td><td> 19</td></tr>\n",
       "\t<tr><td>S14036</td><td>P060101001</td><td> 19</td></tr>\n",
       "\t<tr><td>S14040</td><td>P060303001</td><td> 80</td></tr>\n",
       "\t<tr><td>S14042</td><td>P050101001</td><td> 34</td></tr>\n",
       "\t<tr><td>S14045</td><td>P060303001</td><td> 33</td></tr>\n",
       "\t<tr><td>S14046</td><td>P060303001</td><td> 71</td></tr>\n",
       "\t<tr><td>S14047</td><td>P060303001</td><td> 36</td></tr>\n",
       "\t<tr><td>S14048</td><td>P050101001</td><td> 17</td></tr>\n",
       "\t<tr><td>S14049</td><td>P060303001</td><td> 55</td></tr>\n",
       "\t<tr><td>S14050</td><td>P060303001</td><td>  9</td></tr>\n",
       "</tbody>\n",
       "</table>\n"
      ],
      "text/latex": [
       "A tibble: 55 × 3\n",
       "\\begin{tabular}{lll}\n",
       " store\\_cd & product\\_cd & n\\\\\n",
       " <chr> & <chr> & <int>\\\\\n",
       "\\hline\n",
       "\t S12007 & P060303001 &  72\\\\\n",
       "\t S12013 & P060303001 & 107\\\\\n",
       "\t S12014 & P060303001 &  65\\\\\n",
       "\t S12029 & P060303001 &  92\\\\\n",
       "\t S12030 & P060303001 & 115\\\\\n",
       "\t S13001 & P060303001 &  67\\\\\n",
       "\t S13002 & P060303001 &  78\\\\\n",
       "\t S13003 & P071401001 &  65\\\\\n",
       "\t S13004 & P060303001 &  88\\\\\n",
       "\t S13005 & P040503001 &  36\\\\\n",
       "\t S13008 & P060303001 &  77\\\\\n",
       "\t S13009 & P060303001 &  64\\\\\n",
       "\t S13015 & P071401001 &  34\\\\\n",
       "\t S13016 & P071102001 &  32\\\\\n",
       "\t S13017 & P060101002 &  31\\\\\n",
       "\t S13018 & P071401001 &  47\\\\\n",
       "\t S13019 & P071401001 &  70\\\\\n",
       "\t S13020 & P071401001 &  79\\\\\n",
       "\t S13031 & P060303001 & 115\\\\\n",
       "\t S13032 & P060303001 &  85\\\\\n",
       "\t S13035 & P040503001 &  39\\\\\n",
       "\t S13037 & P060303001 &  88\\\\\n",
       "\t S13038 & P060303001 &  41\\\\\n",
       "\t S13039 & P071401001 &  36\\\\\n",
       "\t S13041 & P071401001 &  70\\\\\n",
       "\t S13043 & P060303001 &  56\\\\\n",
       "\t S13044 & P060303001 &  96\\\\\n",
       "\t S13051 & P050102001 &   5\\\\\n",
       "\t S13051 & P071003001 &   5\\\\\n",
       "\t S13051 & P080804001 &   5\\\\\n",
       "\t S13052 & P050101001 &   4\\\\\n",
       "\t S14006 & P060303001 &  70\\\\\n",
       "\t S14010 & P060303001 &  68\\\\\n",
       "\t S14011 & P060101001 &  51\\\\\n",
       "\t S14012 & P060303001 & 142\\\\\n",
       "\t S14021 & P060101001 &  30\\\\\n",
       "\t S14022 & P060303001 &  71\\\\\n",
       "\t S14023 & P071401001 &  70\\\\\n",
       "\t S14024 & P060303001 &  96\\\\\n",
       "\t S14025 & P060303001 &  46\\\\\n",
       "\t S14026 & P071401001 &  40\\\\\n",
       "\t S14027 & P060303001 & 152\\\\\n",
       "\t S14028 & P060303001 & 140\\\\\n",
       "\t S14033 & P071401001 &  68\\\\\n",
       "\t S14034 & P060303001 &  71\\\\\n",
       "\t S14036 & P040503001 &  19\\\\\n",
       "\t S14036 & P060101001 &  19\\\\\n",
       "\t S14040 & P060303001 &  80\\\\\n",
       "\t S14042 & P050101001 &  34\\\\\n",
       "\t S14045 & P060303001 &  33\\\\\n",
       "\t S14046 & P060303001 &  71\\\\\n",
       "\t S14047 & P060303001 &  36\\\\\n",
       "\t S14048 & P050101001 &  17\\\\\n",
       "\t S14049 & P060303001 &  55\\\\\n",
       "\t S14050 & P060303001 &   9\\\\\n",
       "\\end{tabular}\n"
      ],
      "text/markdown": [
       "\n",
       "A tibble: 55 × 3\n",
       "\n",
       "| store_cd &lt;chr&gt; | product_cd &lt;chr&gt; | n &lt;int&gt; |\n",
       "|---|---|---|\n",
       "| S12007 | P060303001 |  72 |\n",
       "| S12013 | P060303001 | 107 |\n",
       "| S12014 | P060303001 |  65 |\n",
       "| S12029 | P060303001 |  92 |\n",
       "| S12030 | P060303001 | 115 |\n",
       "| S13001 | P060303001 |  67 |\n",
       "| S13002 | P060303001 |  78 |\n",
       "| S13003 | P071401001 |  65 |\n",
       "| S13004 | P060303001 |  88 |\n",
       "| S13005 | P040503001 |  36 |\n",
       "| S13008 | P060303001 |  77 |\n",
       "| S13009 | P060303001 |  64 |\n",
       "| S13015 | P071401001 |  34 |\n",
       "| S13016 | P071102001 |  32 |\n",
       "| S13017 | P060101002 |  31 |\n",
       "| S13018 | P071401001 |  47 |\n",
       "| S13019 | P071401001 |  70 |\n",
       "| S13020 | P071401001 |  79 |\n",
       "| S13031 | P060303001 | 115 |\n",
       "| S13032 | P060303001 |  85 |\n",
       "| S13035 | P040503001 |  39 |\n",
       "| S13037 | P060303001 |  88 |\n",
       "| S13038 | P060303001 |  41 |\n",
       "| S13039 | P071401001 |  36 |\n",
       "| S13041 | P071401001 |  70 |\n",
       "| S13043 | P060303001 |  56 |\n",
       "| S13044 | P060303001 |  96 |\n",
       "| S13051 | P050102001 |   5 |\n",
       "| S13051 | P071003001 |   5 |\n",
       "| S13051 | P080804001 |   5 |\n",
       "| S13052 | P050101001 |   4 |\n",
       "| S14006 | P060303001 |  70 |\n",
       "| S14010 | P060303001 |  68 |\n",
       "| S14011 | P060101001 |  51 |\n",
       "| S14012 | P060303001 | 142 |\n",
       "| S14021 | P060101001 |  30 |\n",
       "| S14022 | P060303001 |  71 |\n",
       "| S14023 | P071401001 |  70 |\n",
       "| S14024 | P060303001 |  96 |\n",
       "| S14025 | P060303001 |  46 |\n",
       "| S14026 | P071401001 |  40 |\n",
       "| S14027 | P060303001 | 152 |\n",
       "| S14028 | P060303001 | 140 |\n",
       "| S14033 | P071401001 |  68 |\n",
       "| S14034 | P060303001 |  71 |\n",
       "| S14036 | P040503001 |  19 |\n",
       "| S14036 | P060101001 |  19 |\n",
       "| S14040 | P060303001 |  80 |\n",
       "| S14042 | P050101001 |  34 |\n",
       "| S14045 | P060303001 |  33 |\n",
       "| S14046 | P060303001 |  71 |\n",
       "| S14047 | P060303001 |  36 |\n",
       "| S14048 | P050101001 |  17 |\n",
       "| S14049 | P060303001 |  55 |\n",
       "| S14050 | P060303001 |   9 |\n",
       "\n"
      ],
      "text/plain": [
       "   store_cd product_cd n  \n",
       "1  S12007   P060303001  72\n",
       "2  S12013   P060303001 107\n",
       "3  S12014   P060303001  65\n",
       "4  S12029   P060303001  92\n",
       "5  S12030   P060303001 115\n",
       "6  S13001   P060303001  67\n",
       "7  S13002   P060303001  78\n",
       "8  S13003   P071401001  65\n",
       "9  S13004   P060303001  88\n",
       "10 S13005   P040503001  36\n",
       "11 S13008   P060303001  77\n",
       "12 S13009   P060303001  64\n",
       "13 S13015   P071401001  34\n",
       "14 S13016   P071102001  32\n",
       "15 S13017   P060101002  31\n",
       "16 S13018   P071401001  47\n",
       "17 S13019   P071401001  70\n",
       "18 S13020   P071401001  79\n",
       "19 S13031   P060303001 115\n",
       "20 S13032   P060303001  85\n",
       "21 S13035   P040503001  39\n",
       "22 S13037   P060303001  88\n",
       "23 S13038   P060303001  41\n",
       "24 S13039   P071401001  36\n",
       "25 S13041   P071401001  70\n",
       "26 S13043   P060303001  56\n",
       "27 S13044   P060303001  96\n",
       "28 S13051   P050102001   5\n",
       "29 S13051   P071003001   5\n",
       "30 S13051   P080804001   5\n",
       "31 S13052   P050101001   4\n",
       "32 S14006   P060303001  70\n",
       "33 S14010   P060303001  68\n",
       "34 S14011   P060101001  51\n",
       "35 S14012   P060303001 142\n",
       "36 S14021   P060101001  30\n",
       "37 S14022   P060303001  71\n",
       "38 S14023   P071401001  70\n",
       "39 S14024   P060303001  96\n",
       "40 S14025   P060303001  46\n",
       "41 S14026   P071401001  40\n",
       "42 S14027   P060303001 152\n",
       "43 S14028   P060303001 140\n",
       "44 S14033   P071401001  68\n",
       "45 S14034   P060303001  71\n",
       "46 S14036   P040503001  19\n",
       "47 S14036   P060101001  19\n",
       "48 S14040   P060303001  80\n",
       "49 S14042   P050101001  34\n",
       "50 S14045   P060303001  33\n",
       "51 S14046   P060303001  71\n",
       "52 S14047   P060303001  36\n",
       "53 S14048   P050101001  17\n",
       "54 S14049   P060303001  55\n",
       "55 S14050   P060303001   9"
      ]
     },
     "metadata": {},
     "output_type": "display_data"
    }
   ],
   "source": [
    "df_receipt %>%\n",
    "    group_by(store_cd, product_cd) %>%\n",
    "    summarise(n = n(), .groups=\"drop_last\") %>%\n",
    "    filter(n == n %>% max()) %>%\n",
    "    ungroup()"
   ]
  },
  {
   "cell_type": "markdown",
   "metadata": {},
   "source": [
    "---\n",
    "> R-030: レシート明細データフレーム（df_receipt）に対し、店舗コード（store_cd）ごとに売上金額（amount）の標本分散を計算し、降順でTOP5を表示せよ。"
   ]
  },
  {
   "cell_type": "code",
   "execution_count": 70,
   "metadata": {},
   "outputs": [
    {
     "data": {
      "text/html": [
       "<table class=\"dataframe\">\n",
       "<caption>A tibble: 10 × 2</caption>\n",
       "<thead>\n",
       "\t<tr><th scope=col>store_cd</th><th scope=col>var_amount</th></tr>\n",
       "\t<tr><th scope=col>&lt;chr&gt;</th><th scope=col>&lt;dbl&gt;</th></tr>\n",
       "</thead>\n",
       "<tbody>\n",
       "\t<tr><td>S12007</td><td>199878.6</td></tr>\n",
       "\t<tr><td>S12013</td><td>221059.6</td></tr>\n",
       "\t<tr><td>S12014</td><td>200946.4</td></tr>\n",
       "\t<tr><td>S12029</td><td>194078.6</td></tr>\n",
       "\t<tr><td>S12030</td><td>185542.9</td></tr>\n",
       "\t<tr><td>S13001</td><td>295432.0</td></tr>\n",
       "\t<tr><td>S13002</td><td>242059.9</td></tr>\n",
       "\t<tr><td>S13003</td><td>231834.5</td></tr>\n",
       "\t<tr><td>S13004</td><td>226455.7</td></tr>\n",
       "\t<tr><td>S13005</td><td>215435.4</td></tr>\n",
       "</tbody>\n",
       "</table>\n"
      ],
      "text/latex": [
       "A tibble: 10 × 2\n",
       "\\begin{tabular}{ll}\n",
       " store\\_cd & var\\_amount\\\\\n",
       " <chr> & <dbl>\\\\\n",
       "\\hline\n",
       "\t S12007 & 199878.6\\\\\n",
       "\t S12013 & 221059.6\\\\\n",
       "\t S12014 & 200946.4\\\\\n",
       "\t S12029 & 194078.6\\\\\n",
       "\t S12030 & 185542.9\\\\\n",
       "\t S13001 & 295432.0\\\\\n",
       "\t S13002 & 242059.9\\\\\n",
       "\t S13003 & 231834.5\\\\\n",
       "\t S13004 & 226455.7\\\\\n",
       "\t S13005 & 215435.4\\\\\n",
       "\\end{tabular}\n"
      ],
      "text/markdown": [
       "\n",
       "A tibble: 10 × 2\n",
       "\n",
       "| store_cd &lt;chr&gt; | var_amount &lt;dbl&gt; |\n",
       "|---|---|\n",
       "| S12007 | 199878.6 |\n",
       "| S12013 | 221059.6 |\n",
       "| S12014 | 200946.4 |\n",
       "| S12029 | 194078.6 |\n",
       "| S12030 | 185542.9 |\n",
       "| S13001 | 295432.0 |\n",
       "| S13002 | 242059.9 |\n",
       "| S13003 | 231834.5 |\n",
       "| S13004 | 226455.7 |\n",
       "| S13005 | 215435.4 |\n",
       "\n"
      ],
      "text/plain": [
       "   store_cd var_amount\n",
       "1  S12007   199878.6  \n",
       "2  S12013   221059.6  \n",
       "3  S12014   200946.4  \n",
       "4  S12029   194078.6  \n",
       "5  S12030   185542.9  \n",
       "6  S13001   295432.0  \n",
       "7  S13002   242059.9  \n",
       "8  S13003   231834.5  \n",
       "9  S13004   226455.7  \n",
       "10 S13005   215435.4  "
      ]
     },
     "metadata": {},
     "output_type": "display_data"
    }
   ],
   "source": [
    "var_sample <- function(x){var(x)*(length(x)-1)/length(x)}\n",
    "\n",
    "df_receipt %>%\n",
    "    group_by(store_cd) %>%\n",
    "    summarise(var_amount=var_sample(amount), .groups = \"drop\") %>%\n",
    "    slice(1:10)"
   ]
  },
  {
   "cell_type": "markdown",
   "metadata": {},
   "source": [
    "---\n",
    "> R-031: レシート明細データフレーム（df_receipt）に対し、店舗コード（store_cd）ごとに売上金額（amount）の標本標準偏差を計算し、降順でTOP5を表示せよ。"
   ]
  },
  {
   "cell_type": "code",
   "execution_count": 72,
   "metadata": {},
   "outputs": [
    {
     "data": {
      "text/html": [
       "<table class=\"dataframe\">\n",
       "<caption>A tibble: 10 × 2</caption>\n",
       "<thead>\n",
       "\t<tr><th scope=col>store_cd</th><th scope=col>std_amount</th></tr>\n",
       "\t<tr><th scope=col>&lt;chr&gt;</th><th scope=col>&lt;dbl&gt;</th></tr>\n",
       "</thead>\n",
       "<tbody>\n",
       "\t<tr><td>S12007</td><td>447.0778</td></tr>\n",
       "\t<tr><td>S12013</td><td>470.1698</td></tr>\n",
       "\t<tr><td>S12014</td><td>448.2705</td></tr>\n",
       "\t<tr><td>S12029</td><td>440.5435</td></tr>\n",
       "\t<tr><td>S12030</td><td>430.7469</td></tr>\n",
       "\t<tr><td>S13001</td><td>543.5366</td></tr>\n",
       "\t<tr><td>S13002</td><td>491.9959</td></tr>\n",
       "\t<tr><td>S13003</td><td>481.4920</td></tr>\n",
       "\t<tr><td>S13004</td><td>475.8736</td></tr>\n",
       "\t<tr><td>S13005</td><td>464.1502</td></tr>\n",
       "</tbody>\n",
       "</table>\n"
      ],
      "text/latex": [
       "A tibble: 10 × 2\n",
       "\\begin{tabular}{ll}\n",
       " store\\_cd & std\\_amount\\\\\n",
       " <chr> & <dbl>\\\\\n",
       "\\hline\n",
       "\t S12007 & 447.0778\\\\\n",
       "\t S12013 & 470.1698\\\\\n",
       "\t S12014 & 448.2705\\\\\n",
       "\t S12029 & 440.5435\\\\\n",
       "\t S12030 & 430.7469\\\\\n",
       "\t S13001 & 543.5366\\\\\n",
       "\t S13002 & 491.9959\\\\\n",
       "\t S13003 & 481.4920\\\\\n",
       "\t S13004 & 475.8736\\\\\n",
       "\t S13005 & 464.1502\\\\\n",
       "\\end{tabular}\n"
      ],
      "text/markdown": [
       "\n",
       "A tibble: 10 × 2\n",
       "\n",
       "| store_cd &lt;chr&gt; | std_amount &lt;dbl&gt; |\n",
       "|---|---|\n",
       "| S12007 | 447.0778 |\n",
       "| S12013 | 470.1698 |\n",
       "| S12014 | 448.2705 |\n",
       "| S12029 | 440.5435 |\n",
       "| S12030 | 430.7469 |\n",
       "| S13001 | 543.5366 |\n",
       "| S13002 | 491.9959 |\n",
       "| S13003 | 481.4920 |\n",
       "| S13004 | 475.8736 |\n",
       "| S13005 | 464.1502 |\n",
       "\n"
      ],
      "text/plain": [
       "   store_cd std_amount\n",
       "1  S12007   447.0778  \n",
       "2  S12013   470.1698  \n",
       "3  S12014   448.2705  \n",
       "4  S12029   440.5435  \n",
       "5  S12030   430.7469  \n",
       "6  S13001   543.5366  \n",
       "7  S13002   491.9959  \n",
       "8  S13003   481.4920  \n",
       "9  S13004   475.8736  \n",
       "10 S13005   464.1502  "
      ]
     },
     "metadata": {},
     "output_type": "display_data"
    }
   ],
   "source": [
    "std_sample <- function(x){sqrt(var_sample(x))}\n",
    "df_receipt %>%\n",
    "    group_by(store_cd) %>%\n",
    "    summarise(std_amount=std_sample(amount), .groups = \"drop\") %>%\n",
    "    slice(1:10)"
   ]
  },
  {
   "cell_type": "markdown",
   "metadata": {},
   "source": [
    "---\n",
    "> R-032: レシート明細データフレーム（df_receipt）の売上金額（amount）について、25％刻みでパーセンタイル値を求めよ。"
   ]
  },
  {
   "cell_type": "code",
   "execution_count": null,
   "metadata": {},
   "outputs": [],
   "source": []
  },
  {
   "cell_type": "markdown",
   "metadata": {},
   "source": [
    "---\n",
    "> R-033: レシート明細データフレーム（df_receipt）に対し、店舗コード（store_cd）ごとに売上金額（amount）の平均を計算し、330以上のものを抽出せよ。"
   ]
  },
  {
   "cell_type": "code",
   "execution_count": null,
   "metadata": {},
   "outputs": [],
   "source": []
  },
  {
   "cell_type": "markdown",
   "metadata": {},
   "source": [
    "---\n",
    "> R-034: レシート明細データフレーム（df_receipt）に対し、顧客ID（customer_id）ごとに売上金額（amount）を合計して全顧客の平均を求めよ。ただし、顧客IDが\"Z\"から始まるのものは非会員を表すため、除外して計算すること。"
   ]
  },
  {
   "cell_type": "code",
   "execution_count": null,
   "metadata": {},
   "outputs": [],
   "source": []
  },
  {
   "cell_type": "markdown",
   "metadata": {},
   "source": [
    "---\n",
    "> R-035: レシート明細データフレーム（df_receipt）に対し、顧客ID（customer_id）ごとに売上金額（amount）を合計して全顧客の平均を求め、平均以上に買い物をしている顧客を抽出せよ。ただし、顧客IDが\"Z\"から始まるのものは非会員を表すため、除外して計算すること。なお、データは10件だけ表示させれば良い。"
   ]
  },
  {
   "cell_type": "code",
   "execution_count": null,
   "metadata": {},
   "outputs": [],
   "source": []
  },
  {
   "cell_type": "markdown",
   "metadata": {},
   "source": [
    "---\n",
    "> R-036: レシート明細データフレーム（df_receipt）と店舗データフレーム（df_store）を内部結合し、レシート明細データフレームの全項目と店舗データフレームの店舗名（store_name）を10件表示させよ。"
   ]
  },
  {
   "cell_type": "code",
   "execution_count": null,
   "metadata": {},
   "outputs": [],
   "source": []
  },
  {
   "cell_type": "markdown",
   "metadata": {},
   "source": [
    "---\n",
    "> R-037: 商品データフレーム（df_product）とカテゴリデータフレーム（df_category）を内部結合し、商品データフレームの全項目とカテゴリデータフレームの小区分名（category_small_name）を10件表示させよ。"
   ]
  },
  {
   "cell_type": "code",
   "execution_count": null,
   "metadata": {},
   "outputs": [],
   "source": []
  },
  {
   "cell_type": "markdown",
   "metadata": {},
   "source": [
    "---\n",
    "> R-038: 顧客データフレーム（df_customer）とレシート明細データフレーム（df_receipt）から、各顧客ごとの売上金額合計を求めよ。ただし、買い物の実績がない顧客については売上金額を0として表示させること。また、顧客は性別コード（gender_cd）が女性（1）であるものを対象とし、非会員（顧客IDが'Z'から始まるもの）は除外すること。なお、結果は10件だけ表示させれば良い。"
   ]
  },
  {
   "cell_type": "code",
   "execution_count": null,
   "metadata": {},
   "outputs": [],
   "source": []
  },
  {
   "cell_type": "markdown",
   "metadata": {},
   "source": [
    "---\n",
    "> R-039: レシート明細データフレーム（df_receipt）から売上日数の多い顧客の上位20件と、売上金額合計の多い顧客の上位20件を抽出し、完全外部結合せよ。ただし、非会員（顧客IDが'Z'から始まるもの）は除外すること。"
   ]
  },
  {
   "cell_type": "code",
   "execution_count": null,
   "metadata": {},
   "outputs": [],
   "source": []
  },
  {
   "cell_type": "markdown",
   "metadata": {},
   "source": [
    "---\n",
    "> R-040: 全ての店舗と全ての商品を組み合わせると何件のデータとなるか調査したい。店舗（df_store）と商品（df_product）を直積した件数を計算せよ。"
   ]
  },
  {
   "cell_type": "code",
   "execution_count": null,
   "metadata": {},
   "outputs": [],
   "source": []
  },
  {
   "cell_type": "markdown",
   "metadata": {},
   "source": [
    "---\n",
    "> R-041: レシート明細データフレーム（df_receipt）の売上金額（amount）を日付（sales_ymd）ごとに集計し、前日からの売上金額増減を計算せよ。なお、計算結果は10件表示すればよい。"
   ]
  },
  {
   "cell_type": "code",
   "execution_count": null,
   "metadata": {},
   "outputs": [],
   "source": []
  },
  {
   "cell_type": "markdown",
   "metadata": {},
   "source": [
    "---\n",
    "> R-042: レシート明細データフレーム（df_receipt）の売上金額（amount）を日付（sales_ymd）ごとに集計し、各日付のデータに対し、１日前、２日前、３日前のデータを結合せよ。結果は10件表示すればよい。"
   ]
  },
  {
   "cell_type": "code",
   "execution_count": null,
   "metadata": {},
   "outputs": [],
   "source": []
  },
  {
   "cell_type": "markdown",
   "metadata": {},
   "source": [
    "---\n",
    "> R-043: レシート明細データフレーム（df_receipt）と顧客データフレーム（df_customer）を結合し、性別（gender）と年代（ageから計算）ごとに売上金額（amount）を合計した売上サマリデータフレーム（df_sales_summary）を作成せよ。性別は0が男性、1が女性、9が不明を表すものとする。\n",
    ">\n",
    "> ただし、項目構成は年代、女性の売上金額、男性の売上金額、性別不明の売上金額の4項目とすること（縦に年代、横に性別のクロス集計）。また、年代は10歳ごとの階級とすること。"
   ]
  },
  {
   "cell_type": "code",
   "execution_count": null,
   "metadata": {},
   "outputs": [],
   "source": []
  },
  {
   "cell_type": "markdown",
   "metadata": {},
   "source": [
    "---\n",
    "> R-044: 前設問で作成した売上サマリデータフレーム（df_sales_summary）は性別の売上を横持ちさせたものであった。このデータフレームから性別を縦持ちさせ、年代、性別コード、売上金額の3項目に変換せよ。ただし、性別コードは男性を'00'、女性を'01'、不明を'99'とする。"
   ]
  },
  {
   "cell_type": "code",
   "execution_count": null,
   "metadata": {},
   "outputs": [],
   "source": []
  },
  {
   "cell_type": "markdown",
   "metadata": {},
   "source": [
    "---\n",
    "> R-045: 顧客データフレーム（df_customer）の生年月日（birth_day）は日付型（Date）でデータを保有している。これをYYYYMMDD形式の文字列に変換し、顧客ID（customer_id）とともに抽出せよ。データは10件を抽出すれば良い。"
   ]
  },
  {
   "cell_type": "code",
   "execution_count": null,
   "metadata": {},
   "outputs": [],
   "source": []
  },
  {
   "cell_type": "markdown",
   "metadata": {},
   "source": [
    "---\n",
    "> R-046: 顧客データフレーム（df_customer）の申し込み日（application_date）はYYYYMMDD形式の文字列型でデータを保有している。これを日付型（dateやdatetime）に変換し、顧客ID（customer_id）とともに抽出せよ。データは10件を抽出すれば良い。"
   ]
  },
  {
   "cell_type": "code",
   "execution_count": null,
   "metadata": {},
   "outputs": [],
   "source": []
  },
  {
   "cell_type": "markdown",
   "metadata": {},
   "source": [
    "---\n",
    "> R-047: レシート明細データフレーム（df_receipt）の売上日（sales_ymd）はYYYYMMDD形式の数値型でデータを保有している。これを日付型（dateやdatetime）に変換し、レシート番号(receipt_no)、レシートサブ番号（receipt_sub_no）とともに抽出せよ。データは10件を抽出すれば良い。"
   ]
  },
  {
   "cell_type": "code",
   "execution_count": null,
   "metadata": {},
   "outputs": [],
   "source": []
  },
  {
   "cell_type": "markdown",
   "metadata": {},
   "source": [
    "---\n",
    "> R-048: レシート明細データフレーム（df_receipt）の売上エポック秒（sales_epoch）は数値型のUNIX秒でデータを保有している。これを日付型（POSIXct）に変換し、レシート番号(receipt_no)、レシートサブ番号（receipt_sub_no）とともに抽出せよ。データは10件を抽出すれば良い。"
   ]
  },
  {
   "cell_type": "code",
   "execution_count": null,
   "metadata": {},
   "outputs": [],
   "source": []
  },
  {
   "cell_type": "markdown",
   "metadata": {},
   "source": [
    "---\n",
    "> R-049: レシート明細データフレーム（df_receipt）の売上エポック秒（sales_epoch）を日付型（POSIXct）に変換し、\"年\"だけ取り出してレシート番号(receipt_no)、レシートサブ番号（receipt_sub_no）とともに抽出せよ。データは10件を抽出すれば良い。"
   ]
  },
  {
   "cell_type": "code",
   "execution_count": null,
   "metadata": {},
   "outputs": [],
   "source": []
  },
  {
   "cell_type": "markdown",
   "metadata": {},
   "source": [
    "---\n",
    "> R-050: レシート明細データフレーム（df_receipt）の売上エポック秒（sales_epoch）を日付型（POSIXct）に変換し、\"月\"だけ取り出してレシート番号(receipt_no)、レシートサブ番号（receipt_sub_no）とともに抽出せよ。なお、\"月\"は0埋め2桁で取り出すこと。データは10件を抽出すれば良い。"
   ]
  },
  {
   "cell_type": "code",
   "execution_count": null,
   "metadata": {},
   "outputs": [],
   "source": []
  },
  {
   "cell_type": "markdown",
   "metadata": {},
   "source": [
    "---\n",
    "> R-051: レシート明細データフレーム（df_receipt）の売上エポック秒（sales_epoch）を日付型（POSIXct）に変換し、\"日\"だけ取り出してレシート番号(receipt_no)、レシートサブ番号（receipt_sub_no）とともに抽出せよ。なお、\"日\"は0埋め2桁で取り出すこと。データは10件を抽出すれば良い。"
   ]
  },
  {
   "cell_type": "code",
   "execution_count": null,
   "metadata": {},
   "outputs": [],
   "source": []
  },
  {
   "cell_type": "markdown",
   "metadata": {},
   "source": [
    "---\n",
    "> R-052: レシート明細データフレーム（df_receipt）の売上金額（amount）を顧客ID（customer_id）ごとに合計の上、売上金額合計に対して2000円以下を0、2000円超を1に2値化し、顧客ID、合計金額とともに10件表示せよ。ただし、顧客IDが\"Z\"から始まるのものは非会員を表すため、除外して計算すること。\n"
   ]
  },
  {
   "cell_type": "code",
   "execution_count": null,
   "metadata": {},
   "outputs": [],
   "source": []
  },
  {
   "cell_type": "markdown",
   "metadata": {},
   "source": [
    "---\n",
    "> R-053: 顧客データフレーム（df_customer）の郵便番号（postal_cd）に対し、東京（先頭3桁が100〜209のもの）を1、それ以外のものを０に２値化せよ。さらにレシート明細データフレーム（df_receipt）と結合し、全期間において買い物実績のある顧客数を、作成した2値ごとにカウントせよ。"
   ]
  },
  {
   "cell_type": "code",
   "execution_count": null,
   "metadata": {},
   "outputs": [],
   "source": []
  },
  {
   "cell_type": "markdown",
   "metadata": {},
   "source": [
    "---\n",
    "> R-054: 顧客データデータフレーム（df_customer）の住所（address）は、埼玉県、千葉県、東京都、神奈川県のいずれかとなっている。都道府県毎にコード値を作成し、顧客ID、住所とともに抽出せよ。値は埼玉県を11、千葉県を12、東京都を13、神奈川県を14とすること。結果は10件表示させれば良い。"
   ]
  },
  {
   "cell_type": "code",
   "execution_count": null,
   "metadata": {},
   "outputs": [],
   "source": []
  },
  {
   "cell_type": "markdown",
   "metadata": {},
   "source": [
    "---\n",
    "> R-055: レシート明細データフレーム（df_receipt）の売上金額（amount）を顧客ID（customer_id）ごとに合計し、その合計金額の四分位点を求めよ。その上で、顧客ごとの売上金額合計に対して以下の基準でカテゴリ値を作成し、顧客ID、売上金額と合計ともに表示せよ。カテゴリ値は上から順に1〜4とする。結果は10件表示させれば良い。\n",
    ">\n",
    "> - 最小値以上第一四分位未満\n",
    "> - 第一四分位以上第二四分位未満\n",
    "> - 第二四分位以上第三四分位未満\n",
    "> - 第三四分位以上"
   ]
  },
  {
   "cell_type": "code",
   "execution_count": null,
   "metadata": {},
   "outputs": [],
   "source": []
  },
  {
   "cell_type": "markdown",
   "metadata": {},
   "source": [
    "---\n",
    "> R-056: 顧客データフレーム（df_customer）の年齢（age）をもとに10歳刻みで年代を算出し、顧客ID（customer_id）、生年月日（birth_day）とともに抽出せよ。ただし、60歳以上は全て60歳代とすること。年代を表すカテゴリ名は任意とする。先頭10件を表示させればよい。"
   ]
  },
  {
   "cell_type": "code",
   "execution_count": null,
   "metadata": {},
   "outputs": [],
   "source": []
  },
  {
   "cell_type": "markdown",
   "metadata": {},
   "source": [
    "---\n",
    "> R-057: 前問題の抽出結果と性別（gender）を組み合わせ、新たに性別×年代の組み合わせを表すカテゴリデータを作成せよ。組み合わせを表すカテゴリの値は任意とする。先頭10件を表示させればよい。"
   ]
  },
  {
   "cell_type": "code",
   "execution_count": null,
   "metadata": {},
   "outputs": [],
   "source": []
  },
  {
   "cell_type": "markdown",
   "metadata": {},
   "source": [
    "---\n",
    "> R-058: 顧客データフレーム（df_customer）の性別コード（gender_cd）をダミー変数化し、顧客ID（customer_id）とともに抽出せよ。結果は10件表示させれば良い。"
   ]
  },
  {
   "cell_type": "code",
   "execution_count": null,
   "metadata": {},
   "outputs": [],
   "source": []
  },
  {
   "cell_type": "markdown",
   "metadata": {},
   "source": [
    "---\n",
    "> R-059: レシート明細データフレーム（df_receipt）の売上金額（amount）を顧客ID（customer_id）ごとに合計し、合計した売上金額を平均0、標準偏差1に標準化して顧客ID、売上金額合計とともに表示せよ。標準化に使用する標準偏差は、不偏標準偏差と標本標準偏差のどちらでも良いものとする。ただし、顧客IDが\"Z\"から始まるのものは非会員を表すため、除外して計算すること。結果は10件表示させれば良い。"
   ]
  },
  {
   "cell_type": "code",
   "execution_count": null,
   "metadata": {},
   "outputs": [],
   "source": []
  },
  {
   "cell_type": "markdown",
   "metadata": {},
   "source": [
    "---\n",
    "> R-060: レシート明細データフレーム（df_receipt）の売上金額（amount）を顧客ID（customer_id）ごとに合計し、合計した売上金額を最小値0、最大値1に正規化して顧客ID、売上金額合計とともに表示せよ。ただし、顧客IDが\"Z\"から始まるのものは非会員を表すため、除外して計算すること。結果は10件表示させれば良い。"
   ]
  },
  {
   "cell_type": "code",
   "execution_count": null,
   "metadata": {},
   "outputs": [],
   "source": []
  },
  {
   "cell_type": "markdown",
   "metadata": {},
   "source": [
    "---\n",
    "> R-061: レシート明細データフレーム（df_receipt）の売上金額（amount）を顧客ID（customer_id）ごとに合計し、合計した売上金額を常用対数化（底=10）して顧客ID、売上金額合計とともに表示せよ（ただし、顧客IDが\"Z\"から始まるのものは非会員を表すため、除外して計算すること）。結果は10件表示させれば良い。"
   ]
  },
  {
   "cell_type": "code",
   "execution_count": null,
   "metadata": {},
   "outputs": [],
   "source": []
  },
  {
   "cell_type": "markdown",
   "metadata": {},
   "source": [
    "---\n",
    "> R-062: レシート明細データフレーム（df_receipt）の売上金額（amount）を顧客ID（customer_id）ごとに合計し、合計した売上金額を自然対数化(底=e）して顧客ID、売上金額合計とともに表示せよ。ただし、顧客IDが\"Z\"から始まるのものは非会員を表すため、除外して計算すること。結果は10件表示させれば良い。"
   ]
  },
  {
   "cell_type": "code",
   "execution_count": null,
   "metadata": {},
   "outputs": [],
   "source": []
  },
  {
   "cell_type": "markdown",
   "metadata": {},
   "source": [
    "---\n",
    "> R-063: 商品データフレーム（df_product）の単価（unit_price）と原価（unit_cost）から、各商品の利益額を算出せよ。結果は10件表示させれば良い。"
   ]
  },
  {
   "cell_type": "code",
   "execution_count": null,
   "metadata": {},
   "outputs": [],
   "source": []
  },
  {
   "cell_type": "markdown",
   "metadata": {},
   "source": [
    "---\n",
    "> R-064: 商品データフレーム（df_product）の単価（unit_price）と原価（unit_cost）から、各商品の利益率の全体平均を算出せよ。 ただし、単価と原価にはNULLが存在することに注意せよ。"
   ]
  },
  {
   "cell_type": "code",
   "execution_count": null,
   "metadata": {},
   "outputs": [],
   "source": []
  },
  {
   "cell_type": "markdown",
   "metadata": {},
   "source": [
    "---\n",
    "> R-065: 商品データフレーム（df_product）の各商品について、利益率が30%となる新たな単価を求めよ。ただし、1円未満は切り捨てること。そして結果を10件表示させ、利益率がおよそ30％付近であることを確認せよ。ただし、単価（unit_price）と原価（unit_cost）にはNULLが存在することに注意せよ。"
   ]
  },
  {
   "cell_type": "code",
   "execution_count": null,
   "metadata": {},
   "outputs": [],
   "source": []
  },
  {
   "cell_type": "markdown",
   "metadata": {},
   "source": [
    "---\n",
    "> R-066: 商品データフレーム（df_product）の各商品について、利益率が30%となる新たな単価を求めよ。今回は、1円未満を四捨五入すること（0.5については偶数方向の丸めで良い）。そして結果を10件表示させ、利益率がおよそ30％付近であることを確認せよ。ただし、単価（unit_price）と原価（unit_cost）にはNULLが存在することに注意せよ。"
   ]
  },
  {
   "cell_type": "code",
   "execution_count": null,
   "metadata": {},
   "outputs": [],
   "source": []
  },
  {
   "cell_type": "markdown",
   "metadata": {},
   "source": [
    "---\n",
    "> R-067: 商品データフレーム（df_product）の各商品について、利益率が30%となる新たな単価を求めよ。今回は、1円未満を切り上げること。そして結果を10件表示させ、利益率がおよそ30％付近であることを確認せよ。ただし、単価（unit_price）と原価（unit_cost）にはNULLが存在することに注意せよ。"
   ]
  },
  {
   "cell_type": "code",
   "execution_count": null,
   "metadata": {},
   "outputs": [],
   "source": []
  },
  {
   "cell_type": "markdown",
   "metadata": {},
   "source": [
    "---\n",
    "> R-068: 商品データフレーム（df_product）の各商品について、消費税率10%の税込み金額を求めよ。1円未満の端数は切り捨てとし、結果は10件表示すれば良い。ただし、単価（unit_price）にはNULLが存在することに注意せよ。"
   ]
  },
  {
   "cell_type": "code",
   "execution_count": null,
   "metadata": {},
   "outputs": [],
   "source": []
  },
  {
   "cell_type": "markdown",
   "metadata": {},
   "source": [
    "---\n",
    "> R-069: レシート明細データフレーム（df_receipt）と商品データフレーム（df_product）を結合し、顧客毎に全商品の売上金額合計と、カテゴリ大区分（category_major_cd）が\"07\"（瓶詰缶詰）の売上金額合計を計算の上、両者の比率を求めよ。抽出対象はカテゴリ大区分\"07\"（瓶詰缶詰）の購入実績がある顧客のみとし、結果は10件表示させればよい。"
   ]
  },
  {
   "cell_type": "code",
   "execution_count": null,
   "metadata": {},
   "outputs": [],
   "source": []
  },
  {
   "cell_type": "markdown",
   "metadata": {},
   "source": [
    "---\n",
    "> R-070: レシート明細データフレーム（df_receipt）の売上日（sales_ymd）に対し、顧客データフレーム（df_customer）の会員申込日（application_date）からの経過日数を計算し、顧客ID（customer_id）、売上日、会員申込日とともに表示せよ。結果は10件表示させれば良い（なお、sales_ymdは数値、application_dateは文字列でデータを保持している点に注意）。"
   ]
  },
  {
   "cell_type": "code",
   "execution_count": null,
   "metadata": {},
   "outputs": [],
   "source": []
  },
  {
   "cell_type": "markdown",
   "metadata": {},
   "source": [
    "---\n",
    "> R-071: レシート明細データフレーム（df_receipt）の売上日（sales_ymd）に対し、顧客データフレーム（df_customer）の会員申込日（application_date）からの経過月数を計算し、顧客ID（customer_id）、売上日、会員申込日とともに表示せよ。結果は10件表示させれば良い（なお、sales_ymdは数値、application_dateは文字列でデータを保持している点に注意）。1ヶ月未満は切り捨てること。"
   ]
  },
  {
   "cell_type": "code",
   "execution_count": null,
   "metadata": {},
   "outputs": [],
   "source": []
  },
  {
   "cell_type": "markdown",
   "metadata": {},
   "source": [
    "---\n",
    "> R-072: レシート明細データフレーム（df_receipt）の売上日（sales_ymd）に対し、顧客データフレーム（df_customer）の会員申込日（application_date）からの経過年数を計算し、顧客ID（customer_id）、売上日、会員申込日とともに表示せよ。結果は10件表示させれば良い（なお、sales_ymdは数値、application_dateは文字列でデータを保持している点に注意）。1年未満は切り捨てること。"
   ]
  },
  {
   "cell_type": "code",
   "execution_count": null,
   "metadata": {},
   "outputs": [],
   "source": []
  },
  {
   "cell_type": "markdown",
   "metadata": {},
   "source": [
    "---\n",
    "> R-073: レシート明細データフレーム（df_receipt）の売上日（sales_ymd）に対し、顧客データフレーム（df_customer）の会員申込日（application_date）からのエポック秒による経過時間を計算し、顧客ID（customer_id）、売上日、会員申込日とともに表示せよ。結果は10件表示させれば良い（なお、sales_ymdは数値、application_dateは文字列でデータを保持している点に注意）。なお、時間情報は保有していないため各日付は0時0分0秒を表すものとする。"
   ]
  },
  {
   "cell_type": "code",
   "execution_count": null,
   "metadata": {},
   "outputs": [],
   "source": []
  },
  {
   "cell_type": "markdown",
   "metadata": {},
   "source": [
    "---\n",
    "> R-074: レシート明細データフレーム（df_receipt）の売上日（sales_ymd）に対し、当該週の月曜日からの経過日数を計算し、顧客ID、売上日、当該週の月曜日付とともに表示せよ。結果は10件表示させれば良い（なお、sales_ymdは数値でデータを保持している点に注意）。"
   ]
  },
  {
   "cell_type": "code",
   "execution_count": null,
   "metadata": {},
   "outputs": [],
   "source": []
  },
  {
   "cell_type": "markdown",
   "metadata": {},
   "source": [
    "---\n",
    "> R-075: 顧客データフレーム（df_customer）からランダムに1%のデータを抽出し、先頭から10件データを抽出せよ。"
   ]
  },
  {
   "cell_type": "code",
   "execution_count": null,
   "metadata": {},
   "outputs": [],
   "source": []
  },
  {
   "cell_type": "markdown",
   "metadata": {},
   "source": [
    "---\n",
    "> R-076: 顧客データフレーム（df_customer）から性別（gender_cd）の割合に基づきランダムに10%のデータを層化抽出データし、性別ごとに件数を集計せよ。"
   ]
  },
  {
   "cell_type": "code",
   "execution_count": null,
   "metadata": {},
   "outputs": [],
   "source": []
  },
  {
   "cell_type": "markdown",
   "metadata": {},
   "source": [
    "---\n",
    "> R-077: レシート明細データフレーム（df_receipt）の売上金額（amount）を顧客単位に合計し、合計した売上金額の外れ値を抽出せよ。ただし、顧客IDが\"Z\"から始まるのものは非会員を表すため、除外して計算すること。なお、ここでは外れ値を平均から3σ以上離れたものとする。結果は10件表示させれば良い。"
   ]
  },
  {
   "cell_type": "code",
   "execution_count": null,
   "metadata": {},
   "outputs": [],
   "source": []
  },
  {
   "cell_type": "markdown",
   "metadata": {},
   "source": [
    "---\n",
    "> R-078: レシート明細データフレーム（df_receipt）の売上金額（amount）を顧客単位に合計し、合計した売上金額の外れ値を抽出せよ。ただし、顧客IDが\"Z\"から始まるのものは非会員を表すため、除外して計算すること。なお、ここでは外れ値を第一四分位と第三四分位の差であるIQRを用いて、「第一四分位数-1.5×IQR」よりも下回るもの、または「第三四分位数+1.5×IQR」を超えるものとする。結果は10件表示させれば良い。"
   ]
  },
  {
   "cell_type": "code",
   "execution_count": null,
   "metadata": {},
   "outputs": [],
   "source": []
  },
  {
   "cell_type": "markdown",
   "metadata": {},
   "source": [
    "---\n",
    "> R-079: 商品データフレーム（df_product）の各項目に対し、欠損数を確認せよ。"
   ]
  },
  {
   "cell_type": "code",
   "execution_count": null,
   "metadata": {},
   "outputs": [],
   "source": []
  },
  {
   "cell_type": "markdown",
   "metadata": {},
   "source": [
    "---\n",
    "> R-080: 商品データフレーム（df_product）のいずれかの項目に欠損が発生しているレコードを全て削除した新たなdf_product_1を作成せよ。なお、削除前後の件数を表示させ、前設問で確認した件数だけ減少していることも確認すること。"
   ]
  },
  {
   "cell_type": "code",
   "execution_count": null,
   "metadata": {},
   "outputs": [],
   "source": []
  },
  {
   "cell_type": "markdown",
   "metadata": {},
   "source": [
    "---\n",
    "> R-081: 単価（unit_price）と原価（unit_cost）の欠損値について、それぞれの平均値で補完した新たなdf_product_2を作成せよ。なお、平均値について1円未満は四捨五入とし、0.5については偶数寄せでかまわない。補完実施後、各項目について欠損が生じていないことも確認すること。"
   ]
  },
  {
   "cell_type": "code",
   "execution_count": null,
   "metadata": {},
   "outputs": [],
   "source": []
  },
  {
   "cell_type": "markdown",
   "metadata": {},
   "source": [
    "---\n",
    "> R-082: 単価（unit_price）と原価（unit_cost）の欠損値について、それぞれの中央値で補完した新たなdf_product_3を作成せよ。なお、中央値について1円未満は四捨五入とし、0.5については偶数寄せでかまわない。補完実施後、各項目について欠損が生じていないことも確認すること。"
   ]
  },
  {
   "cell_type": "code",
   "execution_count": null,
   "metadata": {},
   "outputs": [],
   "source": []
  },
  {
   "cell_type": "markdown",
   "metadata": {},
   "source": [
    "---\n",
    "> R-083: 単価（unit_price）と原価（unit_cost）の欠損値について、各商品の小区分（category_small_cd）ごとに算出した中央値で補完した新たなdf_product_4を作成せよ。なお、中央値について1円未満は四捨五入とし、0.5については偶数寄せでかまわない。補完実施後、各項目について欠損が生じていないことも確認すること。"
   ]
  },
  {
   "cell_type": "code",
   "execution_count": null,
   "metadata": {},
   "outputs": [],
   "source": []
  },
  {
   "cell_type": "markdown",
   "metadata": {},
   "source": [
    "---\n",
    "> R-084: 顧客データフレーム（df_customer）の全顧客に対し、全期間の売上金額に占める2019年売上金額の割合を計算せよ。ただし、販売実績のない場合は0として扱うこと。そして計算した割合が0超のものを抽出せよ。 結果は10件表示させれば良い。また、作成したデータにNAやNANが存在しないことを確認せよ。"
   ]
  },
  {
   "cell_type": "code",
   "execution_count": null,
   "metadata": {},
   "outputs": [],
   "source": []
  },
  {
   "cell_type": "markdown",
   "metadata": {},
   "source": [
    "---\n",
    "> R-085: 郵便番号（postal_cd）を用いて経度緯度変換用データフレーム（df_geocode）を紐付け、新たなdf_customer_1を作成せよ。ただし、複数紐づく場合は経度（longitude）、緯度（latitude）それぞれ平均を算出すること。"
   ]
  },
  {
   "cell_type": "code",
   "execution_count": null,
   "metadata": {},
   "outputs": [],
   "source": []
  },
  {
   "cell_type": "markdown",
   "metadata": {},
   "source": [
    "---\n",
    "> R-086: 前設問で作成した緯度経度つき顧客データフレーム（df_customer_1）に対し、申込み店舗コード（application_store_cd）をキーに店舗データフレーム（df_store）と結合せよ。そして申込み店舗の緯度（latitude）・経度情報（longitude)と顧客の緯度・経度を用いて距離（km）を求め、顧客ID（customer_id）、顧客住所（address）、店舗住所（address）とともに表示せよ。計算式は簡易式で良いものとするが、その他精度の高い方式を利用したライブラリを利用してもかまわない。結果は10件表示すれば良い。"
   ]
  },
  {
   "cell_type": "markdown",
   "metadata": {},
   "source": [
    "$$\n",
    "緯度（ラジアン）：\\phi \\\\\n",
    "経度（ラジアン）：\\lambda \\\\\n",
    "距離L = 6371 * arccos(sin \\phi_1 * sin \\phi_2\n",
    "+ cos \\phi_1 * cos \\phi_2 * cos(\\lambda_1 − \\lambda_2))\n",
    "$$"
   ]
  },
  {
   "cell_type": "code",
   "execution_count": null,
   "metadata": {},
   "outputs": [],
   "source": []
  },
  {
   "cell_type": "markdown",
   "metadata": {},
   "source": [
    "---\n",
    "> R-087: 顧客データフレーム（df_customer）では、異なる店舗での申込みなどにより同一顧客が複数登録されている。名前（customer_name）と郵便番号（postal_cd）が同じ顧客は同一顧客とみなし、1顧客1レコードとなるように名寄せした名寄顧客データフレーム（df_customer_u）を作成せよ。ただし、同一顧客に対しては売上金額合計が最も高いものを残すものとし、売上金額合計が同一もしくは売上実績の無い顧客については顧客ID（customer_id）の番号が小さいものを残すこととする。"
   ]
  },
  {
   "cell_type": "code",
   "execution_count": null,
   "metadata": {},
   "outputs": [],
   "source": []
  },
  {
   "cell_type": "markdown",
   "metadata": {},
   "source": [
    "---\n",
    "> R-088: 前設問で作成したデータを元に、顧客データフレームに統合名寄IDを付与したデータフレーム（df_customer_n）を作成せよ。ただし、統合名寄IDは以下の仕様で付与するものとする。\n",
    "> - 重複していない顧客：顧客ID（customer_id）を設定\n",
    "> - 重複している顧客：前設問で抽出したレコードの顧客IDを設定"
   ]
  },
  {
   "cell_type": "code",
   "execution_count": null,
   "metadata": {},
   "outputs": [],
   "source": []
  },
  {
   "cell_type": "markdown",
   "metadata": {},
   "source": [
    "---\n",
    "> R-089: 売上実績のある顧客に対し、予測モデル構築のため学習用データとテスト用データに分割したい。それぞれ8:2の割合でランダムにデータを分割せよ。"
   ]
  },
  {
   "cell_type": "code",
   "execution_count": null,
   "metadata": {},
   "outputs": [],
   "source": []
  },
  {
   "cell_type": "markdown",
   "metadata": {},
   "source": [
    "---\n",
    "> R-090: レシート明細データフレーム（df_receipt）は2017年1月1日〜2019年10月31日までのデータを有している。売上金額（amount）を月次で集計し、学習用に12ヶ月、テスト用に6ヶ月のモデル構築用データを3セット作成せよ。"
   ]
  },
  {
   "cell_type": "code",
   "execution_count": null,
   "metadata": {},
   "outputs": [],
   "source": []
  },
  {
   "cell_type": "markdown",
   "metadata": {},
   "source": [
    "---\n",
    "> R-091: 顧客データフレーム（df_customer）の各顧客に対し、売上実績のある顧客数と売上実績のない顧客数が1:1となるようにアンダーサンプリングで抽出せよ。"
   ]
  },
  {
   "cell_type": "code",
   "execution_count": null,
   "metadata": {},
   "outputs": [],
   "source": []
  },
  {
   "cell_type": "markdown",
   "metadata": {},
   "source": [
    "---\n",
    "> R-092: 顧客データフレーム（df_customer）では、性別に関する情報が非正規化の状態で保持されている。これを第三正規化せよ。"
   ]
  },
  {
   "cell_type": "code",
   "execution_count": null,
   "metadata": {},
   "outputs": [],
   "source": []
  },
  {
   "cell_type": "markdown",
   "metadata": {},
   "source": [
    "---\n",
    "> R-093: 商品データフレーム（df_product）では各カテゴリのコード値だけを保有し、カテゴリ名は保有していない。カテゴリデータフレーム（df_category）と組み合わせて非正規化し、カテゴリ名を保有した新たな商品データフレームを作成せよ。"
   ]
  },
  {
   "cell_type": "code",
   "execution_count": null,
   "metadata": {},
   "outputs": [],
   "source": []
  },
  {
   "cell_type": "markdown",
   "metadata": {},
   "source": [
    "---\n",
    "> R-094: 先に作成したカテゴリ名付き商品データを以下の仕様でファイル出力せよ。なお、出力先のパスはdata配下とする。\n",
    "> - ファイル形式はCSV（カンマ区切り）\n",
    "> - ヘッダ有り\n",
    "> - 文字コードはUTF-8"
   ]
  },
  {
   "cell_type": "code",
   "execution_count": null,
   "metadata": {},
   "outputs": [],
   "source": []
  },
  {
   "cell_type": "markdown",
   "metadata": {},
   "source": [
    "---\n",
    "> R-095: 先に作成したカテゴリ名付き商品データを以下の仕様でファイル出力せよ。なお、出力先のパスはdata配下とする。\n",
    "> - ファイル形式はCSV（カンマ区切り）\n",
    "> - ヘッダ有り\n",
    "> - 文字コードはCP932"
   ]
  },
  {
   "cell_type": "code",
   "execution_count": null,
   "metadata": {},
   "outputs": [],
   "source": []
  },
  {
   "cell_type": "markdown",
   "metadata": {},
   "source": [
    "---\n",
    "> R-096: 先に作成したカテゴリ名付き商品データを以下の仕様でファイル出力せよ。なお、出力先のパスはdata\n",
    "配下とする。\n",
    "> - ファイル形式はCSV（カンマ区切り）\n",
    "> - ヘッダ無し\n",
    "> - 文字コードはUTF-8"
   ]
  },
  {
   "cell_type": "code",
   "execution_count": null,
   "metadata": {},
   "outputs": [],
   "source": []
  },
  {
   "cell_type": "markdown",
   "metadata": {},
   "source": [
    "---\n",
    "> R-097: 先に作成した以下形式のファイルを読み込み、データフレームを作成せよ。また、先頭10件を表示させ、正しくとりまれていることを確認せよ。\n",
    "> - ファイル形式はCSV（カンマ区切り）\n",
    "> - ヘッダ有り\n",
    "> - 文字コードはUTF-8"
   ]
  },
  {
   "cell_type": "code",
   "execution_count": null,
   "metadata": {},
   "outputs": [],
   "source": []
  },
  {
   "cell_type": "markdown",
   "metadata": {},
   "source": [
    "---\n",
    "> R-098: 先に作成した以下形式のファイルを読み込み、データフレームを作成せよ。また、先頭10件を表示させ、正しくとりまれていることを確認せよ。\n",
    "> - ファイル形式はCSV（カンマ区切り）\n",
    "> - ヘッダ無し\n",
    "> - 文字コードはUTF-8"
   ]
  },
  {
   "cell_type": "code",
   "execution_count": null,
   "metadata": {},
   "outputs": [],
   "source": []
  },
  {
   "cell_type": "markdown",
   "metadata": {},
   "source": [
    "---\n",
    "> R-099: 先に作成したカテゴリ名付き商品データを以下の仕様でファイル出力せよ。なお、出力先のパスはdata配下とする。\n",
    "> - ファイル形式はTSV（タブ区切り）\n",
    "> - ヘッダ有り\n",
    "> - 文字コードはUTF-8"
   ]
  },
  {
   "cell_type": "code",
   "execution_count": null,
   "metadata": {},
   "outputs": [],
   "source": []
  },
  {
   "cell_type": "markdown",
   "metadata": {},
   "source": [
    "---\n",
    "> R-100: 先に作成した以下形式のファイルを読み込み、データフレームを作成せよ。また、先頭10件を表示させ、正しくとりまれていることを確認せよ。\n",
    "> - ファイル形式はTSV（タブ区切り）\n",
    "> - ヘッダ有り\n",
    "> - 文字コードはUTF-8"
   ]
  },
  {
   "cell_type": "code",
   "execution_count": null,
   "metadata": {},
   "outputs": [],
   "source": []
  },
  {
   "cell_type": "markdown",
   "metadata": {},
   "source": [
    "# これで１００本終わりです。おつかれさまでした！"
   ]
  }
 ],
 "metadata": {
  "kernelspec": {
   "display_name": "R",
   "language": "R",
   "name": "ir"
  },
  "language_info": {
   "codemirror_mode": "r",
   "file_extension": ".r",
   "mimetype": "text/x-r-source",
   "name": "R",
   "pygments_lexer": "r",
   "version": "4.0.3"
  }
 },
 "nbformat": 4,
 "nbformat_minor": 4
}
